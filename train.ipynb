{
 "cells": [
  {
   "cell_type": "markdown",
   "id": "33d6d9b4-2219-4250-bcca-4168806b0dd8",
   "metadata": {},
   "source": [
    "### Train"
   ]
  },
  {
   "cell_type": "code",
   "execution_count": 1,
   "id": "bf3e1ff3-c229-4f8d-aa7c-a26d03ed4005",
   "metadata": {},
   "outputs": [
    {
     "data": {
      "text/plain": [
       "<module 'ReplayBuffer' from 'F:\\\\Code\\\\Othello_Final\\\\ReplayBuffer.py'>"
      ]
     },
     "execution_count": 1,
     "metadata": {},
     "output_type": "execute_result"
    }
   ],
   "source": [
    "import importlib\n",
    "import Agent\n",
    "import ReplayBuffer\n",
    "import Game\n",
    "\n",
    "# use reload module instead of restarting kernel\n",
    "importlib.reload(Agent)\n",
    "importlib.reload(Game)\n",
    "importlib.reload(ReplayBuffer)"
   ]
  },
  {
   "cell_type": "code",
   "execution_count": 2,
   "id": "91311b4f-9d8d-41bd-bc79-4d0a486a9794",
   "metadata": {},
   "outputs": [],
   "source": [
    "from Agent import DDQNAgent, RandomAgent, PositionAgent\n",
    "from Game import Othello_vec\n",
    "from ReplayBuffer import ReplayBuffer\n",
    "\n",
    "import torch\n",
    "import torch.nn as nn\n",
    "import torch.optim as optim\n",
    "from torch.utils.tensorboard import SummaryWriter\n",
    "\n",
    "import logging \n",
    "import os, shutil\n",
    "import numpy as np\n",
    "from copy import deepcopy\n",
    "import matplotlib.pyplot as plt\n",
    "from IPython.display import clear_output\n",
    "\n",
    "def play(agent_black, agent_white, env, epoch=0): \n",
    "    state,round = env.reset()\n",
    "    done = np.full(env.env_nums, False)\n",
    "    cumu_reward = 0 # evaluate時計算所有env平均reward\n",
    "    \n",
    "    while not done.all():\n",
    "        legal_act = env.get_legal_move() # 取得所有環境可以落子的位置 (env_num,action_size)，dytpe:Bool\n",
    "        player = env.get_player() # 目前輪到落子的player \n",
    "\n",
    "        # 該輪落子的環境編號，如果該輪不能下則存在skip_idx\n",
    "        black_idx = (legal_act.any(axis=1)) & (player == -1)\n",
    "        white_idx = (legal_act.any(axis=1)) & (player == 1)\n",
    "        skip_idx = ~legal_act.any(axis=1)\n",
    "\n",
    "        # 記錄各環境落子的位置\n",
    "        action = np.full(env.env_nums,0,dtype=np.int32)   \n",
    "        \n",
    "        if black_idx.any():\n",
    "            # evaluate時以black作為基準對手\n",
    "            action_black = agent_black.get_action(state[black_idx],legal_act[black_idx])\n",
    "            action[black_idx] = action_black\n",
    "        if white_idx.any():\n",
    "            action_white = agent_white.get_action(state[white_idx],legal_act[white_idx])\n",
    "            action[white_idx] = action_white\n",
    "\n",
    "        # 把不能落子的環境跳過一回合\n",
    "        if skip_idx.any():\n",
    "            env.skip_round(skip_idx)\n",
    "            player = env.get_player()\n",
    "            legal_act = env.get_legal_move()\n",
    "\n",
    "            black_idx = legal_act.any(axis=1) & (player == -1) & skip_idx\n",
    "            white_idx = legal_act.any(axis=1) & (player == 1) & skip_idx\n",
    "            done_idx = ~legal_act.any(axis=1) & skip_idx \n",
    "\n",
    "            # 補齊被pass的action\n",
    "            if white_idx.any():\n",
    "                action_white = agent_white.get_action(state[white_idx],legal_act[white_idx])\n",
    "                action[white_idx] = action_white\n",
    "            if black_idx.any():\n",
    "                action_black = agent_black.get_action(state[black_idx],legal_act[black_idx])\n",
    "                action[black_idx] = action_black\n",
    "            if done_idx.any(): # 雙方都不能下，提早結束該局\n",
    "                env.set_done(done_idx)\n",
    "\n",
    "        done,next_state,reward,round,winner,player = env.step(action)\n",
    "        \n",
    "        # update memory & agent (player已經換成對手，所以要再乘-1還原)\n",
    "        black_idx = (player == 1)\n",
    "        white_idx = (player == -1)\n",
    "        if black_idx.any():\n",
    "            agent_black.step(state[black_idx], action[black_idx], reward[black_idx], next_state[black_idx], done[black_idx])\n",
    "        if white_idx.any():\n",
    "            agent_white.step(state[white_idx], action[white_idx], reward[white_idx], next_state[white_idx], done[white_idx])\n",
    "        state = env.get_state()\n",
    "    _,winner = env.get_done_score()\n",
    "    return env.get_done_score()\n",
    "\n",
    "# 用random & position agent測試表現\n",
    "def eval_agent(agent_white,epoch,writer,model_name,max_win_rate):\n",
    "    env = Othello_vec(env_nums=200)\n",
    "    agent_eval = RandomAgent()\n",
    "    _,winner = play(agent_eval,agent_white,env,epoch = epoch)\n",
    "    random_win_rate = sum(winner == 1)/len(winner)\n",
    "    print(f'Evaluate with [Random] \\t win rate:{random_win_rate}')\n",
    "    writer.add_scalar('Win Rate [random]',random_win_rate,epoch)\n",
    "    \n",
    "    env = Othello_vec(env_nums=2)\n",
    "    agent_eval = PositionAgent()\n",
    "    _,winner = play(agent_eval,agent_white,env,epoch = epoch)\n",
    "    position_win_rate = sum(winner == 1)/len(winner)\n",
    "    print(f'Evaluate with [Position] \\t win rate:{position_win_rate}')\n",
    "    writer.add_scalar('Win Rate [position]',position_win_rate,epoch)\n",
    "\n",
    "    if random_win_rate > max_win_rate and position_win_rate == 1:\n",
    "        agent_white.save(f'{model_name}_best_{random_win_rate}.pth')\n",
    "        print(f'save best model {model_name} win_rate:{random_win_rate}')\n",
    "        max_win_rate = random_win_rate\n",
    "    agent_white.save(f'{model_name}_latest.pth')\n",
    "    print('===========================')\n",
    "    return max_win_rate"
   ]
  },
  {
   "cell_type": "markdown",
   "id": "a87f053d-684d-46c6-b56b-6f76d53bf112",
   "metadata": {},
   "source": [
    "### DNN\n",
    "#### 使用reward:\n",
    "* stage 1:\n",
    "    * positional reward\n",
    "    * end game reward\n",
    "    * 避免被佔corner\n",
    "* stage 2: \n",
    "    * 避免被dominate"
   ]
  },
  {
   "cell_type": "code",
   "execution_count": null,
   "id": "0daf4271-0213-4a6a-a21e-558da086b806",
   "metadata": {
    "scrolled": true
   },
   "outputs": [],
   "source": [
    "exp_name = 'DNN_best_2nd_stage_survive'\n",
    "\n",
    "logging.basicConfig(filename=f'{exp_name}.log', encoding='utf-8', level=logging.INFO)\n",
    "log_dir = f'logs/{exp_name}'\n",
    "if not os.path.exists(log_dir):\n",
    "    os.mkdir(log_dir)\n",
    "else:\n",
    "    for root,_,files in os.walk(log_dir):\n",
    "        for f in files:\n",
    "            if '.ipynb_checkpoints' not in f:\n",
    "                os.remove(os.path.join(root,f))\n",
    "                \n",
    "writer = SummaryWriter(log_dir)\n",
    "writer.add_text(\"Experiment Info\",exp_name)\n",
    "\n",
    "# use same agent for self play\n",
    "agent_black = DDQNAgent(eps=0.2,net_type='DNN') \n",
    "agent_white = agent_black\n",
    "\n",
    "epochs = 1000\n",
    "eval_freq = 10\n",
    "env = Othello_vec(env_nums=50)\n",
    "max_win_rate = 0\n",
    "\n",
    "for epoch in range(epochs):\n",
    "    agent_black.set_eps(0.1 + (epochs-epoch)*0.2/epochs)\n",
    "    agent_white.set_eps(0.1 + (epochs-epoch)*0.2/epochs)\n",
    "    done,winner = play(agent_black,agent_white,env)\n",
    "    black,white,round = env.get_info()\n",
    "    \n",
    "    # Evaluation \n",
    "    if epoch%eval_freq == 0:\n",
    "        print(f'[Training] epoch: {epoch} black: {sum(winner == -1)} white: {sum(winner == 1)}')\n",
    "        agent_white.set_eps(0) # for only exploitation\n",
    "        max_win_rate = eval_agent(agent_white,epoch,writer,exp_name,max_win_rate)\n",
    "        writer.add_scalar('average_reward',agent_white.memory.rewards.numpy().mean(),epoch)\n",
    "        "
   ]
  },
  {
   "cell_type": "markdown",
   "id": "6bae2016-c592-45c0-a13e-14b41118a548",
   "metadata": {},
   "source": [
    "### CNN"
   ]
  },
  {
   "cell_type": "code",
   "execution_count": 3,
   "id": "f529f133-2de5-4c5d-9b4a-862459f76d5f",
   "metadata": {
    "scrolled": true
   },
   "outputs": [
    {
     "name": "stdout",
     "output_type": "stream",
     "text": [
      "[Training] epoch: 0 black: 12 white: 33\n",
      "Evaluate with [Random] \t win rate:0.805\n"
     ]
    },
    {
     "name": "stderr",
     "output_type": "stream",
     "text": [
      "INFO:Agent:Model saved to CNN_survive_score_diff_large_best_0.805.pth\n",
      "INFO:Agent:Model saved to CNN_survive_score_diff_large_latest.pth\n"
     ]
    },
    {
     "name": "stdout",
     "output_type": "stream",
     "text": [
      "Evaluate with [Position] \t win rate:1.0\n",
      "save best model CNN_survive_score_diff_large win_rate:0.805\n",
      "===========================\n",
      "[Training] epoch: 10 black: 18 white: 32\n",
      "Evaluate with [Random] \t win rate:0.785\n"
     ]
    },
    {
     "name": "stderr",
     "output_type": "stream",
     "text": [
      "INFO:Agent:Model saved to CNN_survive_score_diff_large_latest.pth\n"
     ]
    },
    {
     "name": "stdout",
     "output_type": "stream",
     "text": [
      "Evaluate with [Position] \t win rate:0.0\n",
      "===========================\n",
      "[Training] epoch: 20 black: 24 white: 24\n",
      "Evaluate with [Random] \t win rate:0.86\n"
     ]
    },
    {
     "name": "stderr",
     "output_type": "stream",
     "text": [
      "INFO:Agent:Model saved to CNN_survive_score_diff_large_latest.pth\n"
     ]
    },
    {
     "name": "stdout",
     "output_type": "stream",
     "text": [
      "Evaluate with [Position] \t win rate:0.0\n",
      "===========================\n",
      "[Training] epoch: 30 black: 16 white: 30\n",
      "Evaluate with [Random] \t win rate:0.895\n"
     ]
    },
    {
     "name": "stderr",
     "output_type": "stream",
     "text": [
      "INFO:Agent:Model saved to CNN_survive_score_diff_large_latest.pth\n"
     ]
    },
    {
     "name": "stdout",
     "output_type": "stream",
     "text": [
      "Evaluate with [Position] \t win rate:0.0\n",
      "===========================\n",
      "[Training] epoch: 40 black: 20 white: 29\n",
      "Evaluate with [Random] \t win rate:0.86\n"
     ]
    },
    {
     "name": "stderr",
     "output_type": "stream",
     "text": [
      "INFO:Agent:Model saved to CNN_survive_score_diff_large_best_0.86.pth\n",
      "INFO:Agent:Model saved to CNN_survive_score_diff_large_latest.pth\n"
     ]
    },
    {
     "name": "stdout",
     "output_type": "stream",
     "text": [
      "Evaluate with [Position] \t win rate:1.0\n",
      "save best model CNN_survive_score_diff_large win_rate:0.86\n",
      "===========================\n",
      "[Training] epoch: 50 black: 18 white: 28\n",
      "Evaluate with [Random] \t win rate:0.88\n"
     ]
    },
    {
     "name": "stderr",
     "output_type": "stream",
     "text": [
      "INFO:Agent:Model saved to CNN_survive_score_diff_large_best_0.88.pth\n",
      "INFO:Agent:Model saved to CNN_survive_score_diff_large_latest.pth\n"
     ]
    },
    {
     "name": "stdout",
     "output_type": "stream",
     "text": [
      "Evaluate with [Position] \t win rate:1.0\n",
      "save best model CNN_survive_score_diff_large win_rate:0.88\n",
      "===========================\n",
      "[Training] epoch: 60 black: 16 white: 32\n",
      "Evaluate with [Random] \t win rate:0.88\n"
     ]
    },
    {
     "name": "stderr",
     "output_type": "stream",
     "text": [
      "INFO:Agent:Model saved to CNN_survive_score_diff_large_latest.pth\n"
     ]
    },
    {
     "name": "stdout",
     "output_type": "stream",
     "text": [
      "Evaluate with [Position] \t win rate:0.0\n",
      "===========================\n",
      "[Training] epoch: 70 black: 19 white: 26\n",
      "Evaluate with [Random] \t win rate:0.84\n"
     ]
    },
    {
     "name": "stderr",
     "output_type": "stream",
     "text": [
      "INFO:Agent:Model saved to CNN_survive_score_diff_large_latest.pth\n"
     ]
    },
    {
     "name": "stdout",
     "output_type": "stream",
     "text": [
      "Evaluate with [Position] \t win rate:1.0\n",
      "===========================\n",
      "[Training] epoch: 80 black: 22 white: 26\n",
      "Evaluate with [Random] \t win rate:0.9\n"
     ]
    },
    {
     "name": "stderr",
     "output_type": "stream",
     "text": [
      "INFO:Agent:Model saved to CNN_survive_score_diff_large_best_0.9.pth\n",
      "INFO:Agent:Model saved to CNN_survive_score_diff_large_latest.pth\n"
     ]
    },
    {
     "name": "stdout",
     "output_type": "stream",
     "text": [
      "Evaluate with [Position] \t win rate:1.0\n",
      "save best model CNN_survive_score_diff_large win_rate:0.9\n",
      "===========================\n",
      "[Training] epoch: 90 black: 20 white: 30\n",
      "Evaluate with [Random] \t win rate:0.925\n"
     ]
    },
    {
     "name": "stderr",
     "output_type": "stream",
     "text": [
      "INFO:Agent:Model saved to CNN_survive_score_diff_large_best_0.925.pth\n",
      "INFO:Agent:Model saved to CNN_survive_score_diff_large_latest.pth\n"
     ]
    },
    {
     "name": "stdout",
     "output_type": "stream",
     "text": [
      "Evaluate with [Position] \t win rate:1.0\n",
      "save best model CNN_survive_score_diff_large win_rate:0.925\n",
      "===========================\n",
      "[Training] epoch: 100 black: 22 white: 24\n",
      "Evaluate with [Random] \t win rate:0.88\n"
     ]
    },
    {
     "name": "stderr",
     "output_type": "stream",
     "text": [
      "INFO:Agent:Model saved to CNN_survive_score_diff_large_latest.pth\n"
     ]
    },
    {
     "name": "stdout",
     "output_type": "stream",
     "text": [
      "Evaluate with [Position] \t win rate:1.0\n",
      "===========================\n",
      "[Training] epoch: 110 black: 22 white: 26\n",
      "Evaluate with [Random] \t win rate:0.81\n"
     ]
    },
    {
     "name": "stderr",
     "output_type": "stream",
     "text": [
      "INFO:Agent:Model saved to CNN_survive_score_diff_large_latest.pth\n"
     ]
    },
    {
     "name": "stdout",
     "output_type": "stream",
     "text": [
      "Evaluate with [Position] \t win rate:1.0\n",
      "===========================\n",
      "[Training] epoch: 120 black: 16 white: 29\n",
      "Evaluate with [Random] \t win rate:0.905\n"
     ]
    },
    {
     "name": "stderr",
     "output_type": "stream",
     "text": [
      "INFO:Agent:Model saved to CNN_survive_score_diff_large_latest.pth\n"
     ]
    },
    {
     "name": "stdout",
     "output_type": "stream",
     "text": [
      "Evaluate with [Position] \t win rate:0.0\n",
      "===========================\n",
      "[Training] epoch: 130 black: 18 white: 29\n",
      "Evaluate with [Random] \t win rate:0.875\n"
     ]
    },
    {
     "name": "stderr",
     "output_type": "stream",
     "text": [
      "INFO:Agent:Model saved to CNN_survive_score_diff_large_latest.pth\n"
     ]
    },
    {
     "name": "stdout",
     "output_type": "stream",
     "text": [
      "Evaluate with [Position] \t win rate:1.0\n",
      "===========================\n",
      "[Training] epoch: 140 black: 22 white: 25\n",
      "Evaluate with [Random] \t win rate:0.82\n"
     ]
    },
    {
     "name": "stderr",
     "output_type": "stream",
     "text": [
      "INFO:Agent:Model saved to CNN_survive_score_diff_large_latest.pth\n"
     ]
    },
    {
     "name": "stdout",
     "output_type": "stream",
     "text": [
      "Evaluate with [Position] \t win rate:0.0\n",
      "===========================\n",
      "[Training] epoch: 150 black: 22 white: 27\n",
      "Evaluate with [Random] \t win rate:0.84\n"
     ]
    },
    {
     "name": "stderr",
     "output_type": "stream",
     "text": [
      "INFO:Agent:Model saved to CNN_survive_score_diff_large_latest.pth\n"
     ]
    },
    {
     "name": "stdout",
     "output_type": "stream",
     "text": [
      "Evaluate with [Position] \t win rate:0.0\n",
      "===========================\n",
      "[Training] epoch: 160 black: 24 white: 24\n",
      "Evaluate with [Random] \t win rate:0.86\n"
     ]
    },
    {
     "name": "stderr",
     "output_type": "stream",
     "text": [
      "INFO:Agent:Model saved to CNN_survive_score_diff_large_latest.pth\n"
     ]
    },
    {
     "name": "stdout",
     "output_type": "stream",
     "text": [
      "Evaluate with [Position] \t win rate:1.0\n",
      "===========================\n",
      "[Training] epoch: 170 black: 20 white: 27\n",
      "Evaluate with [Random] \t win rate:0.8\n"
     ]
    },
    {
     "name": "stderr",
     "output_type": "stream",
     "text": [
      "INFO:Agent:Model saved to CNN_survive_score_diff_large_latest.pth\n"
     ]
    },
    {
     "name": "stdout",
     "output_type": "stream",
     "text": [
      "Evaluate with [Position] \t win rate:0.0\n",
      "===========================\n",
      "[Training] epoch: 180 black: 17 white: 29\n",
      "Evaluate with [Random] \t win rate:0.91\n"
     ]
    },
    {
     "name": "stderr",
     "output_type": "stream",
     "text": [
      "INFO:Agent:Model saved to CNN_survive_score_diff_large_latest.pth\n"
     ]
    },
    {
     "name": "stdout",
     "output_type": "stream",
     "text": [
      "Evaluate with [Position] \t win rate:0.0\n",
      "===========================\n",
      "[Training] epoch: 190 black: 20 white: 30\n",
      "Evaluate with [Random] \t win rate:0.85\n"
     ]
    },
    {
     "name": "stderr",
     "output_type": "stream",
     "text": [
      "INFO:Agent:Model saved to CNN_survive_score_diff_large_latest.pth\n"
     ]
    },
    {
     "name": "stdout",
     "output_type": "stream",
     "text": [
      "Evaluate with [Position] \t win rate:1.0\n",
      "===========================\n",
      "[Training] epoch: 200 black: 19 white: 31\n",
      "Evaluate with [Random] \t win rate:0.9\n"
     ]
    },
    {
     "name": "stderr",
     "output_type": "stream",
     "text": [
      "INFO:Agent:Model saved to CNN_survive_score_diff_large_latest.pth\n"
     ]
    },
    {
     "name": "stdout",
     "output_type": "stream",
     "text": [
      "Evaluate with [Position] \t win rate:0.0\n",
      "===========================\n",
      "[Training] epoch: 210 black: 18 white: 31\n",
      "Evaluate with [Random] \t win rate:0.85\n"
     ]
    },
    {
     "name": "stderr",
     "output_type": "stream",
     "text": [
      "INFO:Agent:Model saved to CNN_survive_score_diff_large_latest.pth\n"
     ]
    },
    {
     "name": "stdout",
     "output_type": "stream",
     "text": [
      "Evaluate with [Position] \t win rate:1.0\n",
      "===========================\n",
      "[Training] epoch: 220 black: 20 white: 28\n",
      "Evaluate with [Random] \t win rate:0.84\n"
     ]
    },
    {
     "name": "stderr",
     "output_type": "stream",
     "text": [
      "INFO:Agent:Model saved to CNN_survive_score_diff_large_latest.pth\n"
     ]
    },
    {
     "name": "stdout",
     "output_type": "stream",
     "text": [
      "Evaluate with [Position] \t win rate:1.0\n",
      "===========================\n",
      "[Training] epoch: 230 black: 26 white: 23\n",
      "Evaluate with [Random] \t win rate:0.845\n"
     ]
    },
    {
     "name": "stderr",
     "output_type": "stream",
     "text": [
      "INFO:Agent:Model saved to CNN_survive_score_diff_large_latest.pth\n"
     ]
    },
    {
     "name": "stdout",
     "output_type": "stream",
     "text": [
      "Evaluate with [Position] \t win rate:1.0\n",
      "===========================\n",
      "[Training] epoch: 240 black: 12 white: 35\n",
      "Evaluate with [Random] \t win rate:0.855\n"
     ]
    },
    {
     "name": "stderr",
     "output_type": "stream",
     "text": [
      "INFO:Agent:Model saved to CNN_survive_score_diff_large_latest.pth\n"
     ]
    },
    {
     "name": "stdout",
     "output_type": "stream",
     "text": [
      "Evaluate with [Position] \t win rate:1.0\n",
      "===========================\n",
      "[Training] epoch: 250 black: 14 white: 32\n",
      "Evaluate with [Random] \t win rate:0.835\n"
     ]
    },
    {
     "name": "stderr",
     "output_type": "stream",
     "text": [
      "INFO:Agent:Model saved to CNN_survive_score_diff_large_latest.pth\n"
     ]
    },
    {
     "name": "stdout",
     "output_type": "stream",
     "text": [
      "Evaluate with [Position] \t win rate:1.0\n",
      "===========================\n",
      "[Training] epoch: 260 black: 26 white: 21\n",
      "Evaluate with [Random] \t win rate:0.825\n"
     ]
    },
    {
     "name": "stderr",
     "output_type": "stream",
     "text": [
      "INFO:Agent:Model saved to CNN_survive_score_diff_large_latest.pth\n"
     ]
    },
    {
     "name": "stdout",
     "output_type": "stream",
     "text": [
      "Evaluate with [Position] \t win rate:1.0\n",
      "===========================\n",
      "[Training] epoch: 270 black: 23 white: 26\n",
      "Evaluate with [Random] \t win rate:0.805\n"
     ]
    },
    {
     "name": "stderr",
     "output_type": "stream",
     "text": [
      "INFO:Agent:Model saved to CNN_survive_score_diff_large_latest.pth\n"
     ]
    },
    {
     "name": "stdout",
     "output_type": "stream",
     "text": [
      "Evaluate with [Position] \t win rate:1.0\n",
      "===========================\n",
      "[Training] epoch: 280 black: 20 white: 29\n",
      "Evaluate with [Random] \t win rate:0.865\n"
     ]
    },
    {
     "name": "stderr",
     "output_type": "stream",
     "text": [
      "INFO:Agent:Model saved to CNN_survive_score_diff_large_latest.pth\n"
     ]
    },
    {
     "name": "stdout",
     "output_type": "stream",
     "text": [
      "Evaluate with [Position] \t win rate:1.0\n",
      "===========================\n",
      "[Training] epoch: 290 black: 20 white: 29\n",
      "Evaluate with [Random] \t win rate:0.855\n"
     ]
    },
    {
     "name": "stderr",
     "output_type": "stream",
     "text": [
      "INFO:Agent:Model saved to CNN_survive_score_diff_large_latest.pth\n"
     ]
    },
    {
     "name": "stdout",
     "output_type": "stream",
     "text": [
      "Evaluate with [Position] \t win rate:1.0\n",
      "===========================\n",
      "[Training] epoch: 300 black: 18 white: 31\n",
      "Evaluate with [Random] \t win rate:0.85\n"
     ]
    },
    {
     "name": "stderr",
     "output_type": "stream",
     "text": [
      "INFO:Agent:Model saved to CNN_survive_score_diff_large_latest.pth\n"
     ]
    },
    {
     "name": "stdout",
     "output_type": "stream",
     "text": [
      "Evaluate with [Position] \t win rate:1.0\n",
      "===========================\n",
      "[Training] epoch: 310 black: 19 white: 29\n",
      "Evaluate with [Random] \t win rate:0.81\n"
     ]
    },
    {
     "name": "stderr",
     "output_type": "stream",
     "text": [
      "INFO:Agent:Model saved to CNN_survive_score_diff_large_latest.pth\n"
     ]
    },
    {
     "name": "stdout",
     "output_type": "stream",
     "text": [
      "Evaluate with [Position] \t win rate:1.0\n",
      "===========================\n",
      "[Training] epoch: 320 black: 20 white: 27\n",
      "Evaluate with [Random] \t win rate:0.855\n"
     ]
    },
    {
     "name": "stderr",
     "output_type": "stream",
     "text": [
      "INFO:Agent:Model saved to CNN_survive_score_diff_large_latest.pth\n"
     ]
    },
    {
     "name": "stdout",
     "output_type": "stream",
     "text": [
      "Evaluate with [Position] \t win rate:1.0\n",
      "===========================\n",
      "[Training] epoch: 330 black: 23 white: 23\n",
      "Evaluate with [Random] \t win rate:0.89\n"
     ]
    },
    {
     "name": "stderr",
     "output_type": "stream",
     "text": [
      "INFO:Agent:Model saved to CNN_survive_score_diff_large_latest.pth\n"
     ]
    },
    {
     "name": "stdout",
     "output_type": "stream",
     "text": [
      "Evaluate with [Position] \t win rate:0.0\n",
      "===========================\n",
      "[Training] epoch: 340 black: 21 white: 26\n",
      "Evaluate with [Random] \t win rate:0.885\n"
     ]
    },
    {
     "name": "stderr",
     "output_type": "stream",
     "text": [
      "INFO:Agent:Model saved to CNN_survive_score_diff_large_latest.pth\n"
     ]
    },
    {
     "name": "stdout",
     "output_type": "stream",
     "text": [
      "Evaluate with [Position] \t win rate:1.0\n",
      "===========================\n",
      "[Training] epoch: 350 black: 21 white: 28\n",
      "Evaluate with [Random] \t win rate:0.835\n"
     ]
    },
    {
     "name": "stderr",
     "output_type": "stream",
     "text": [
      "INFO:Agent:Model saved to CNN_survive_score_diff_large_latest.pth\n"
     ]
    },
    {
     "name": "stdout",
     "output_type": "stream",
     "text": [
      "Evaluate with [Position] \t win rate:1.0\n",
      "===========================\n",
      "[Training] epoch: 360 black: 21 white: 27\n",
      "Evaluate with [Random] \t win rate:0.885\n"
     ]
    },
    {
     "name": "stderr",
     "output_type": "stream",
     "text": [
      "INFO:Agent:Model saved to CNN_survive_score_diff_large_latest.pth\n"
     ]
    },
    {
     "name": "stdout",
     "output_type": "stream",
     "text": [
      "Evaluate with [Position] \t win rate:0.0\n",
      "===========================\n",
      "[Training] epoch: 370 black: 19 white: 30\n",
      "Evaluate with [Random] \t win rate:0.875\n"
     ]
    },
    {
     "name": "stderr",
     "output_type": "stream",
     "text": [
      "INFO:Agent:Model saved to CNN_survive_score_diff_large_latest.pth\n"
     ]
    },
    {
     "name": "stdout",
     "output_type": "stream",
     "text": [
      "Evaluate with [Position] \t win rate:1.0\n",
      "===========================\n",
      "[Training] epoch: 380 black: 18 white: 27\n",
      "Evaluate with [Random] \t win rate:0.88\n"
     ]
    },
    {
     "name": "stderr",
     "output_type": "stream",
     "text": [
      "INFO:Agent:Model saved to CNN_survive_score_diff_large_latest.pth\n"
     ]
    },
    {
     "name": "stdout",
     "output_type": "stream",
     "text": [
      "Evaluate with [Position] \t win rate:0.0\n",
      "===========================\n",
      "[Training] epoch: 390 black: 25 white: 22\n",
      "Evaluate with [Random] \t win rate:0.835\n"
     ]
    },
    {
     "name": "stderr",
     "output_type": "stream",
     "text": [
      "INFO:Agent:Model saved to CNN_survive_score_diff_large_latest.pth\n"
     ]
    },
    {
     "name": "stdout",
     "output_type": "stream",
     "text": [
      "Evaluate with [Position] \t win rate:1.0\n",
      "===========================\n",
      "[Training] epoch: 400 black: 14 white: 33\n",
      "Evaluate with [Random] \t win rate:0.9\n"
     ]
    },
    {
     "name": "stderr",
     "output_type": "stream",
     "text": [
      "INFO:Agent:Model saved to CNN_survive_score_diff_large_latest.pth\n"
     ]
    },
    {
     "name": "stdout",
     "output_type": "stream",
     "text": [
      "Evaluate with [Position] \t win rate:1.0\n",
      "===========================\n",
      "[Training] epoch: 410 black: 15 white: 28\n",
      "Evaluate with [Random] \t win rate:0.885\n"
     ]
    },
    {
     "name": "stderr",
     "output_type": "stream",
     "text": [
      "INFO:Agent:Model saved to CNN_survive_score_diff_large_latest.pth\n"
     ]
    },
    {
     "name": "stdout",
     "output_type": "stream",
     "text": [
      "Evaluate with [Position] \t win rate:1.0\n",
      "===========================\n",
      "[Training] epoch: 420 black: 25 white: 23\n",
      "Evaluate with [Random] \t win rate:0.9\n"
     ]
    },
    {
     "name": "stderr",
     "output_type": "stream",
     "text": [
      "INFO:Agent:Model saved to CNN_survive_score_diff_large_latest.pth\n"
     ]
    },
    {
     "name": "stdout",
     "output_type": "stream",
     "text": [
      "Evaluate with [Position] \t win rate:1.0\n",
      "===========================\n",
      "[Training] epoch: 430 black: 15 white: 30\n",
      "Evaluate with [Random] \t win rate:0.845\n"
     ]
    },
    {
     "name": "stderr",
     "output_type": "stream",
     "text": [
      "INFO:Agent:Model saved to CNN_survive_score_diff_large_latest.pth\n"
     ]
    },
    {
     "name": "stdout",
     "output_type": "stream",
     "text": [
      "Evaluate with [Position] \t win rate:1.0\n",
      "===========================\n",
      "[Training] epoch: 440 black: 20 white: 28\n",
      "Evaluate with [Random] \t win rate:0.84\n"
     ]
    },
    {
     "name": "stderr",
     "output_type": "stream",
     "text": [
      "INFO:Agent:Model saved to CNN_survive_score_diff_large_latest.pth\n"
     ]
    },
    {
     "name": "stdout",
     "output_type": "stream",
     "text": [
      "Evaluate with [Position] \t win rate:1.0\n",
      "===========================\n",
      "[Training] epoch: 450 black: 20 white: 27\n",
      "Evaluate with [Random] \t win rate:0.88\n"
     ]
    },
    {
     "name": "stderr",
     "output_type": "stream",
     "text": [
      "INFO:Agent:Model saved to CNN_survive_score_diff_large_latest.pth\n"
     ]
    },
    {
     "name": "stdout",
     "output_type": "stream",
     "text": [
      "Evaluate with [Position] \t win rate:1.0\n",
      "===========================\n",
      "[Training] epoch: 460 black: 20 white: 28\n",
      "Evaluate with [Random] \t win rate:0.84\n"
     ]
    },
    {
     "name": "stderr",
     "output_type": "stream",
     "text": [
      "INFO:Agent:Model saved to CNN_survive_score_diff_large_latest.pth\n"
     ]
    },
    {
     "name": "stdout",
     "output_type": "stream",
     "text": [
      "Evaluate with [Position] \t win rate:1.0\n",
      "===========================\n",
      "[Training] epoch: 470 black: 14 white: 34\n",
      "Evaluate with [Random] \t win rate:0.88\n"
     ]
    },
    {
     "name": "stderr",
     "output_type": "stream",
     "text": [
      "INFO:Agent:Model saved to CNN_survive_score_diff_large_latest.pth\n"
     ]
    },
    {
     "name": "stdout",
     "output_type": "stream",
     "text": [
      "Evaluate with [Position] \t win rate:1.0\n",
      "===========================\n",
      "[Training] epoch: 480 black: 24 white: 22\n",
      "Evaluate with [Random] \t win rate:0.905\n"
     ]
    },
    {
     "name": "stderr",
     "output_type": "stream",
     "text": [
      "INFO:Agent:Model saved to CNN_survive_score_diff_large_latest.pth\n"
     ]
    },
    {
     "name": "stdout",
     "output_type": "stream",
     "text": [
      "Evaluate with [Position] \t win rate:1.0\n",
      "===========================\n",
      "[Training] epoch: 490 black: 19 white: 30\n",
      "Evaluate with [Random] \t win rate:0.86\n"
     ]
    },
    {
     "name": "stderr",
     "output_type": "stream",
     "text": [
      "INFO:Agent:Model saved to CNN_survive_score_diff_large_latest.pth\n"
     ]
    },
    {
     "name": "stdout",
     "output_type": "stream",
     "text": [
      "Evaluate with [Position] \t win rate:1.0\n",
      "===========================\n",
      "[Training] epoch: 500 black: 16 white: 33\n",
      "Evaluate with [Random] \t win rate:0.865\n"
     ]
    },
    {
     "name": "stderr",
     "output_type": "stream",
     "text": [
      "INFO:Agent:Model saved to CNN_survive_score_diff_large_latest.pth\n"
     ]
    },
    {
     "name": "stdout",
     "output_type": "stream",
     "text": [
      "Evaluate with [Position] \t win rate:1.0\n",
      "===========================\n",
      "[Training] epoch: 510 black: 18 white: 30\n",
      "Evaluate with [Random] \t win rate:0.88\n"
     ]
    },
    {
     "name": "stderr",
     "output_type": "stream",
     "text": [
      "INFO:Agent:Model saved to CNN_survive_score_diff_large_latest.pth\n"
     ]
    },
    {
     "name": "stdout",
     "output_type": "stream",
     "text": [
      "Evaluate with [Position] \t win rate:1.0\n",
      "===========================\n",
      "[Training] epoch: 520 black: 18 white: 32\n",
      "Evaluate with [Random] \t win rate:0.89\n"
     ]
    },
    {
     "name": "stderr",
     "output_type": "stream",
     "text": [
      "INFO:Agent:Model saved to CNN_survive_score_diff_large_latest.pth\n"
     ]
    },
    {
     "name": "stdout",
     "output_type": "stream",
     "text": [
      "Evaluate with [Position] \t win rate:1.0\n",
      "===========================\n",
      "[Training] epoch: 530 black: 20 white: 26\n",
      "Evaluate with [Random] \t win rate:0.88\n"
     ]
    },
    {
     "name": "stderr",
     "output_type": "stream",
     "text": [
      "INFO:Agent:Model saved to CNN_survive_score_diff_large_latest.pth\n"
     ]
    },
    {
     "name": "stdout",
     "output_type": "stream",
     "text": [
      "Evaluate with [Position] \t win rate:1.0\n",
      "===========================\n",
      "[Training] epoch: 540 black: 19 white: 28\n",
      "Evaluate with [Random] \t win rate:0.89\n"
     ]
    },
    {
     "name": "stderr",
     "output_type": "stream",
     "text": [
      "INFO:Agent:Model saved to CNN_survive_score_diff_large_latest.pth\n"
     ]
    },
    {
     "name": "stdout",
     "output_type": "stream",
     "text": [
      "Evaluate with [Position] \t win rate:1.0\n",
      "===========================\n",
      "[Training] epoch: 550 black: 21 white: 29\n",
      "Evaluate with [Random] \t win rate:0.86\n"
     ]
    },
    {
     "name": "stderr",
     "output_type": "stream",
     "text": [
      "INFO:Agent:Model saved to CNN_survive_score_diff_large_latest.pth\n"
     ]
    },
    {
     "name": "stdout",
     "output_type": "stream",
     "text": [
      "Evaluate with [Position] \t win rate:1.0\n",
      "===========================\n",
      "[Training] epoch: 560 black: 17 white: 32\n",
      "Evaluate with [Random] \t win rate:0.885\n"
     ]
    },
    {
     "name": "stderr",
     "output_type": "stream",
     "text": [
      "INFO:Agent:Model saved to CNN_survive_score_diff_large_latest.pth\n"
     ]
    },
    {
     "name": "stdout",
     "output_type": "stream",
     "text": [
      "Evaluate with [Position] \t win rate:1.0\n",
      "===========================\n",
      "[Training] epoch: 570 black: 21 white: 25\n",
      "Evaluate with [Random] \t win rate:0.86\n"
     ]
    },
    {
     "name": "stderr",
     "output_type": "stream",
     "text": [
      "INFO:Agent:Model saved to CNN_survive_score_diff_large_latest.pth\n"
     ]
    },
    {
     "name": "stdout",
     "output_type": "stream",
     "text": [
      "Evaluate with [Position] \t win rate:1.0\n",
      "===========================\n",
      "[Training] epoch: 580 black: 21 white: 28\n",
      "Evaluate with [Random] \t win rate:0.825\n"
     ]
    },
    {
     "name": "stderr",
     "output_type": "stream",
     "text": [
      "INFO:Agent:Model saved to CNN_survive_score_diff_large_latest.pth\n"
     ]
    },
    {
     "name": "stdout",
     "output_type": "stream",
     "text": [
      "Evaluate with [Position] \t win rate:1.0\n",
      "===========================\n",
      "[Training] epoch: 590 black: 18 white: 28\n",
      "Evaluate with [Random] \t win rate:0.905\n"
     ]
    },
    {
     "name": "stderr",
     "output_type": "stream",
     "text": [
      "INFO:Agent:Model saved to CNN_survive_score_diff_large_latest.pth\n"
     ]
    },
    {
     "name": "stdout",
     "output_type": "stream",
     "text": [
      "Evaluate with [Position] \t win rate:1.0\n",
      "===========================\n",
      "[Training] epoch: 600 black: 19 white: 28\n",
      "Evaluate with [Random] \t win rate:0.835\n"
     ]
    },
    {
     "name": "stderr",
     "output_type": "stream",
     "text": [
      "INFO:Agent:Model saved to CNN_survive_score_diff_large_latest.pth\n"
     ]
    },
    {
     "name": "stdout",
     "output_type": "stream",
     "text": [
      "Evaluate with [Position] \t win rate:1.0\n",
      "===========================\n",
      "[Training] epoch: 610 black: 25 white: 22\n",
      "Evaluate with [Random] \t win rate:0.88\n"
     ]
    },
    {
     "name": "stderr",
     "output_type": "stream",
     "text": [
      "INFO:Agent:Model saved to CNN_survive_score_diff_large_latest.pth\n"
     ]
    },
    {
     "name": "stdout",
     "output_type": "stream",
     "text": [
      "Evaluate with [Position] \t win rate:1.0\n",
      "===========================\n",
      "[Training] epoch: 620 black: 13 white: 34\n",
      "Evaluate with [Random] \t win rate:0.855\n"
     ]
    },
    {
     "name": "stderr",
     "output_type": "stream",
     "text": [
      "INFO:Agent:Model saved to CNN_survive_score_diff_large_latest.pth\n"
     ]
    },
    {
     "name": "stdout",
     "output_type": "stream",
     "text": [
      "Evaluate with [Position] \t win rate:1.0\n",
      "===========================\n",
      "[Training] epoch: 630 black: 22 white: 21\n",
      "Evaluate with [Random] \t win rate:0.915\n"
     ]
    },
    {
     "name": "stderr",
     "output_type": "stream",
     "text": [
      "INFO:Agent:Model saved to CNN_survive_score_diff_large_latest.pth\n"
     ]
    },
    {
     "name": "stdout",
     "output_type": "stream",
     "text": [
      "Evaluate with [Position] \t win rate:1.0\n",
      "===========================\n",
      "[Training] epoch: 640 black: 16 white: 33\n",
      "Evaluate with [Random] \t win rate:0.875\n"
     ]
    },
    {
     "name": "stderr",
     "output_type": "stream",
     "text": [
      "INFO:Agent:Model saved to CNN_survive_score_diff_large_latest.pth\n"
     ]
    },
    {
     "name": "stdout",
     "output_type": "stream",
     "text": [
      "Evaluate with [Position] \t win rate:1.0\n",
      "===========================\n",
      "[Training] epoch: 650 black: 20 white: 27\n",
      "Evaluate with [Random] \t win rate:0.885\n"
     ]
    },
    {
     "name": "stderr",
     "output_type": "stream",
     "text": [
      "INFO:Agent:Model saved to CNN_survive_score_diff_large_latest.pth\n"
     ]
    },
    {
     "name": "stdout",
     "output_type": "stream",
     "text": [
      "Evaluate with [Position] \t win rate:1.0\n",
      "===========================\n",
      "[Training] epoch: 660 black: 15 white: 29\n",
      "Evaluate with [Random] \t win rate:0.84\n"
     ]
    },
    {
     "name": "stderr",
     "output_type": "stream",
     "text": [
      "INFO:Agent:Model saved to CNN_survive_score_diff_large_latest.pth\n"
     ]
    },
    {
     "name": "stdout",
     "output_type": "stream",
     "text": [
      "Evaluate with [Position] \t win rate:1.0\n",
      "===========================\n",
      "[Training] epoch: 670 black: 20 white: 30\n",
      "Evaluate with [Random] \t win rate:0.825\n"
     ]
    },
    {
     "name": "stderr",
     "output_type": "stream",
     "text": [
      "INFO:Agent:Model saved to CNN_survive_score_diff_large_latest.pth\n"
     ]
    },
    {
     "name": "stdout",
     "output_type": "stream",
     "text": [
      "Evaluate with [Position] \t win rate:1.0\n",
      "===========================\n",
      "[Training] epoch: 680 black: 17 white: 30\n",
      "Evaluate with [Random] \t win rate:0.83\n"
     ]
    },
    {
     "name": "stderr",
     "output_type": "stream",
     "text": [
      "INFO:Agent:Model saved to CNN_survive_score_diff_large_latest.pth\n"
     ]
    },
    {
     "name": "stdout",
     "output_type": "stream",
     "text": [
      "Evaluate with [Position] \t win rate:1.0\n",
      "===========================\n",
      "[Training] epoch: 690 black: 22 white: 27\n",
      "Evaluate with [Random] \t win rate:0.855\n"
     ]
    },
    {
     "name": "stderr",
     "output_type": "stream",
     "text": [
      "INFO:Agent:Model saved to CNN_survive_score_diff_large_latest.pth\n"
     ]
    },
    {
     "name": "stdout",
     "output_type": "stream",
     "text": [
      "Evaluate with [Position] \t win rate:1.0\n",
      "===========================\n",
      "[Training] epoch: 700 black: 24 white: 24\n",
      "Evaluate with [Random] \t win rate:0.88\n"
     ]
    },
    {
     "name": "stderr",
     "output_type": "stream",
     "text": [
      "INFO:Agent:Model saved to CNN_survive_score_diff_large_latest.pth\n"
     ]
    },
    {
     "name": "stdout",
     "output_type": "stream",
     "text": [
      "Evaluate with [Position] \t win rate:1.0\n",
      "===========================\n",
      "[Training] epoch: 710 black: 19 white: 25\n",
      "Evaluate with [Random] \t win rate:0.87\n"
     ]
    },
    {
     "name": "stderr",
     "output_type": "stream",
     "text": [
      "INFO:Agent:Model saved to CNN_survive_score_diff_large_latest.pth\n"
     ]
    },
    {
     "name": "stdout",
     "output_type": "stream",
     "text": [
      "Evaluate with [Position] \t win rate:1.0\n",
      "===========================\n",
      "[Training] epoch: 720 black: 17 white: 31\n",
      "Evaluate with [Random] \t win rate:0.85\n"
     ]
    },
    {
     "name": "stderr",
     "output_type": "stream",
     "text": [
      "INFO:Agent:Model saved to CNN_survive_score_diff_large_latest.pth\n"
     ]
    },
    {
     "name": "stdout",
     "output_type": "stream",
     "text": [
      "Evaluate with [Position] \t win rate:1.0\n",
      "===========================\n",
      "[Training] epoch: 730 black: 18 white: 31\n",
      "Evaluate with [Random] \t win rate:0.86\n"
     ]
    },
    {
     "name": "stderr",
     "output_type": "stream",
     "text": [
      "INFO:Agent:Model saved to CNN_survive_score_diff_large_latest.pth\n"
     ]
    },
    {
     "name": "stdout",
     "output_type": "stream",
     "text": [
      "Evaluate with [Position] \t win rate:0.0\n",
      "===========================\n",
      "[Training] epoch: 740 black: 19 white: 28\n",
      "Evaluate with [Random] \t win rate:0.865\n"
     ]
    },
    {
     "name": "stderr",
     "output_type": "stream",
     "text": [
      "INFO:Agent:Model saved to CNN_survive_score_diff_large_latest.pth\n"
     ]
    },
    {
     "name": "stdout",
     "output_type": "stream",
     "text": [
      "Evaluate with [Position] \t win rate:1.0\n",
      "===========================\n",
      "[Training] epoch: 750 black: 17 white: 33\n",
      "Evaluate with [Random] \t win rate:0.855\n"
     ]
    },
    {
     "name": "stderr",
     "output_type": "stream",
     "text": [
      "INFO:Agent:Model saved to CNN_survive_score_diff_large_latest.pth\n"
     ]
    },
    {
     "name": "stdout",
     "output_type": "stream",
     "text": [
      "Evaluate with [Position] \t win rate:1.0\n",
      "===========================\n",
      "[Training] epoch: 760 black: 16 white: 31\n",
      "Evaluate with [Random] \t win rate:0.875\n"
     ]
    },
    {
     "name": "stderr",
     "output_type": "stream",
     "text": [
      "INFO:Agent:Model saved to CNN_survive_score_diff_large_latest.pth\n"
     ]
    },
    {
     "name": "stdout",
     "output_type": "stream",
     "text": [
      "Evaluate with [Position] \t win rate:1.0\n",
      "===========================\n",
      "[Training] epoch: 770 black: 21 white: 28\n",
      "Evaluate with [Random] \t win rate:0.85\n"
     ]
    },
    {
     "name": "stderr",
     "output_type": "stream",
     "text": [
      "INFO:Agent:Model saved to CNN_survive_score_diff_large_latest.pth\n"
     ]
    },
    {
     "name": "stdout",
     "output_type": "stream",
     "text": [
      "Evaluate with [Position] \t win rate:1.0\n",
      "===========================\n",
      "[Training] epoch: 780 black: 23 white: 24\n",
      "Evaluate with [Random] \t win rate:0.915\n"
     ]
    },
    {
     "name": "stderr",
     "output_type": "stream",
     "text": [
      "INFO:Agent:Model saved to CNN_survive_score_diff_large_latest.pth\n"
     ]
    },
    {
     "name": "stdout",
     "output_type": "stream",
     "text": [
      "Evaluate with [Position] \t win rate:1.0\n",
      "===========================\n",
      "[Training] epoch: 790 black: 18 white: 26\n",
      "Evaluate with [Random] \t win rate:0.88\n"
     ]
    },
    {
     "name": "stderr",
     "output_type": "stream",
     "text": [
      "INFO:Agent:Model saved to CNN_survive_score_diff_large_latest.pth\n"
     ]
    },
    {
     "name": "stdout",
     "output_type": "stream",
     "text": [
      "Evaluate with [Position] \t win rate:0.0\n",
      "===========================\n",
      "[Training] epoch: 800 black: 21 white: 28\n",
      "Evaluate with [Random] \t win rate:0.8\n"
     ]
    },
    {
     "name": "stderr",
     "output_type": "stream",
     "text": [
      "INFO:Agent:Model saved to CNN_survive_score_diff_large_latest.pth\n"
     ]
    },
    {
     "name": "stdout",
     "output_type": "stream",
     "text": [
      "Evaluate with [Position] \t win rate:1.0\n",
      "===========================\n",
      "[Training] epoch: 810 black: 20 white: 29\n",
      "Evaluate with [Random] \t win rate:0.81\n"
     ]
    },
    {
     "name": "stderr",
     "output_type": "stream",
     "text": [
      "INFO:Agent:Model saved to CNN_survive_score_diff_large_latest.pth\n"
     ]
    },
    {
     "name": "stdout",
     "output_type": "stream",
     "text": [
      "Evaluate with [Position] \t win rate:1.0\n",
      "===========================\n",
      "[Training] epoch: 820 black: 22 white: 22\n",
      "Evaluate with [Random] \t win rate:0.85\n"
     ]
    },
    {
     "name": "stderr",
     "output_type": "stream",
     "text": [
      "INFO:Agent:Model saved to CNN_survive_score_diff_large_latest.pth\n"
     ]
    },
    {
     "name": "stdout",
     "output_type": "stream",
     "text": [
      "Evaluate with [Position] \t win rate:0.0\n",
      "===========================\n",
      "[Training] epoch: 830 black: 18 white: 28\n",
      "Evaluate with [Random] \t win rate:0.825\n"
     ]
    },
    {
     "name": "stderr",
     "output_type": "stream",
     "text": [
      "INFO:Agent:Model saved to CNN_survive_score_diff_large_latest.pth\n"
     ]
    },
    {
     "name": "stdout",
     "output_type": "stream",
     "text": [
      "Evaluate with [Position] \t win rate:0.0\n",
      "===========================\n",
      "[Training] epoch: 840 black: 24 white: 22\n",
      "Evaluate with [Random] \t win rate:0.9\n"
     ]
    },
    {
     "name": "stderr",
     "output_type": "stream",
     "text": [
      "INFO:Agent:Model saved to CNN_survive_score_diff_large_latest.pth\n"
     ]
    },
    {
     "name": "stdout",
     "output_type": "stream",
     "text": [
      "Evaluate with [Position] \t win rate:1.0\n",
      "===========================\n",
      "[Training] epoch: 850 black: 21 white: 25\n",
      "Evaluate with [Random] \t win rate:0.815\n"
     ]
    },
    {
     "name": "stderr",
     "output_type": "stream",
     "text": [
      "INFO:Agent:Model saved to CNN_survive_score_diff_large_latest.pth\n"
     ]
    },
    {
     "name": "stdout",
     "output_type": "stream",
     "text": [
      "Evaluate with [Position] \t win rate:1.0\n",
      "===========================\n",
      "[Training] epoch: 860 black: 25 white: 23\n",
      "Evaluate with [Random] \t win rate:0.84\n"
     ]
    },
    {
     "name": "stderr",
     "output_type": "stream",
     "text": [
      "INFO:Agent:Model saved to CNN_survive_score_diff_large_latest.pth\n"
     ]
    },
    {
     "name": "stdout",
     "output_type": "stream",
     "text": [
      "Evaluate with [Position] \t win rate:1.0\n",
      "===========================\n",
      "[Training] epoch: 870 black: 17 white: 30\n",
      "Evaluate with [Random] \t win rate:0.81\n"
     ]
    },
    {
     "name": "stderr",
     "output_type": "stream",
     "text": [
      "INFO:Agent:Model saved to CNN_survive_score_diff_large_latest.pth\n"
     ]
    },
    {
     "name": "stdout",
     "output_type": "stream",
     "text": [
      "Evaluate with [Position] \t win rate:1.0\n",
      "===========================\n",
      "[Training] epoch: 880 black: 24 white: 25\n",
      "Evaluate with [Random] \t win rate:0.875\n"
     ]
    },
    {
     "name": "stderr",
     "output_type": "stream",
     "text": [
      "INFO:Agent:Model saved to CNN_survive_score_diff_large_latest.pth\n"
     ]
    },
    {
     "name": "stdout",
     "output_type": "stream",
     "text": [
      "Evaluate with [Position] \t win rate:1.0\n",
      "===========================\n",
      "[Training] epoch: 890 black: 22 white: 27\n",
      "Evaluate with [Random] \t win rate:0.835\n"
     ]
    },
    {
     "name": "stderr",
     "output_type": "stream",
     "text": [
      "INFO:Agent:Model saved to CNN_survive_score_diff_large_latest.pth\n"
     ]
    },
    {
     "name": "stdout",
     "output_type": "stream",
     "text": [
      "Evaluate with [Position] \t win rate:1.0\n",
      "===========================\n",
      "[Training] epoch: 900 black: 18 white: 29\n",
      "Evaluate with [Random] \t win rate:0.84\n"
     ]
    },
    {
     "name": "stderr",
     "output_type": "stream",
     "text": [
      "INFO:Agent:Model saved to CNN_survive_score_diff_large_latest.pth\n"
     ]
    },
    {
     "name": "stdout",
     "output_type": "stream",
     "text": [
      "Evaluate with [Position] \t win rate:1.0\n",
      "===========================\n",
      "[Training] epoch: 910 black: 24 white: 25\n",
      "Evaluate with [Random] \t win rate:0.865\n"
     ]
    },
    {
     "name": "stderr",
     "output_type": "stream",
     "text": [
      "INFO:Agent:Model saved to CNN_survive_score_diff_large_latest.pth\n"
     ]
    },
    {
     "name": "stdout",
     "output_type": "stream",
     "text": [
      "Evaluate with [Position] \t win rate:1.0\n",
      "===========================\n",
      "[Training] epoch: 920 black: 12 white: 36\n",
      "Evaluate with [Random] \t win rate:0.85\n"
     ]
    },
    {
     "name": "stderr",
     "output_type": "stream",
     "text": [
      "INFO:Agent:Model saved to CNN_survive_score_diff_large_latest.pth\n"
     ]
    },
    {
     "name": "stdout",
     "output_type": "stream",
     "text": [
      "Evaluate with [Position] \t win rate:1.0\n",
      "===========================\n",
      "[Training] epoch: 930 black: 22 white: 25\n",
      "Evaluate with [Random] \t win rate:0.775\n"
     ]
    },
    {
     "name": "stderr",
     "output_type": "stream",
     "text": [
      "INFO:Agent:Model saved to CNN_survive_score_diff_large_latest.pth\n"
     ]
    },
    {
     "name": "stdout",
     "output_type": "stream",
     "text": [
      "Evaluate with [Position] \t win rate:1.0\n",
      "===========================\n",
      "[Training] epoch: 940 black: 21 white: 26\n",
      "Evaluate with [Random] \t win rate:0.85\n"
     ]
    },
    {
     "name": "stderr",
     "output_type": "stream",
     "text": [
      "INFO:Agent:Model saved to CNN_survive_score_diff_large_latest.pth\n"
     ]
    },
    {
     "name": "stdout",
     "output_type": "stream",
     "text": [
      "Evaluate with [Position] \t win rate:1.0\n",
      "===========================\n",
      "[Training] epoch: 950 black: 17 white: 32\n",
      "Evaluate with [Random] \t win rate:0.81\n"
     ]
    },
    {
     "name": "stderr",
     "output_type": "stream",
     "text": [
      "INFO:Agent:Model saved to CNN_survive_score_diff_large_latest.pth\n"
     ]
    },
    {
     "name": "stdout",
     "output_type": "stream",
     "text": [
      "Evaluate with [Position] \t win rate:1.0\n",
      "===========================\n",
      "[Training] epoch: 960 black: 15 white: 32\n",
      "Evaluate with [Random] \t win rate:0.83\n"
     ]
    },
    {
     "name": "stderr",
     "output_type": "stream",
     "text": [
      "INFO:Agent:Model saved to CNN_survive_score_diff_large_latest.pth\n"
     ]
    },
    {
     "name": "stdout",
     "output_type": "stream",
     "text": [
      "Evaluate with [Position] \t win rate:1.0\n",
      "===========================\n",
      "[Training] epoch: 970 black: 20 white: 26\n",
      "Evaluate with [Random] \t win rate:0.88\n"
     ]
    },
    {
     "name": "stderr",
     "output_type": "stream",
     "text": [
      "INFO:Agent:Model saved to CNN_survive_score_diff_large_latest.pth\n"
     ]
    },
    {
     "name": "stdout",
     "output_type": "stream",
     "text": [
      "Evaluate with [Position] \t win rate:1.0\n",
      "===========================\n",
      "[Training] epoch: 980 black: 15 white: 34\n",
      "Evaluate with [Random] \t win rate:0.84\n"
     ]
    },
    {
     "name": "stderr",
     "output_type": "stream",
     "text": [
      "INFO:Agent:Model saved to CNN_survive_score_diff_large_latest.pth\n"
     ]
    },
    {
     "name": "stdout",
     "output_type": "stream",
     "text": [
      "Evaluate with [Position] \t win rate:1.0\n",
      "===========================\n",
      "[Training] epoch: 990 black: 23 white: 26\n",
      "Evaluate with [Random] \t win rate:0.845\n"
     ]
    },
    {
     "name": "stderr",
     "output_type": "stream",
     "text": [
      "INFO:Agent:Model saved to CNN_survive_score_diff_large_latest.pth\n"
     ]
    },
    {
     "name": "stdout",
     "output_type": "stream",
     "text": [
      "Evaluate with [Position] \t win rate:1.0\n",
      "===========================\n",
      "[Training] epoch: 1000 black: 24 white: 22\n",
      "Evaluate with [Random] \t win rate:0.795\n"
     ]
    },
    {
     "name": "stderr",
     "output_type": "stream",
     "text": [
      "INFO:Agent:Model saved to CNN_survive_score_diff_large_latest.pth\n"
     ]
    },
    {
     "name": "stdout",
     "output_type": "stream",
     "text": [
      "Evaluate with [Position] \t win rate:1.0\n",
      "===========================\n",
      "[Training] epoch: 1010 black: 23 white: 25\n",
      "Evaluate with [Random] \t win rate:0.87\n"
     ]
    },
    {
     "name": "stderr",
     "output_type": "stream",
     "text": [
      "INFO:Agent:Model saved to CNN_survive_score_diff_large_latest.pth\n"
     ]
    },
    {
     "name": "stdout",
     "output_type": "stream",
     "text": [
      "Evaluate with [Position] \t win rate:1.0\n",
      "===========================\n",
      "[Training] epoch: 1020 black: 21 white: 23\n",
      "Evaluate with [Random] \t win rate:0.89\n"
     ]
    },
    {
     "name": "stderr",
     "output_type": "stream",
     "text": [
      "INFO:Agent:Model saved to CNN_survive_score_diff_large_latest.pth\n"
     ]
    },
    {
     "name": "stdout",
     "output_type": "stream",
     "text": [
      "Evaluate with [Position] \t win rate:1.0\n",
      "===========================\n",
      "[Training] epoch: 1030 black: 25 white: 22\n",
      "Evaluate with [Random] \t win rate:0.83\n"
     ]
    },
    {
     "name": "stderr",
     "output_type": "stream",
     "text": [
      "INFO:Agent:Model saved to CNN_survive_score_diff_large_latest.pth\n"
     ]
    },
    {
     "name": "stdout",
     "output_type": "stream",
     "text": [
      "Evaluate with [Position] \t win rate:1.0\n",
      "===========================\n",
      "[Training] epoch: 1040 black: 19 white: 27\n",
      "Evaluate with [Random] \t win rate:0.84\n"
     ]
    },
    {
     "name": "stderr",
     "output_type": "stream",
     "text": [
      "INFO:Agent:Model saved to CNN_survive_score_diff_large_latest.pth\n"
     ]
    },
    {
     "name": "stdout",
     "output_type": "stream",
     "text": [
      "Evaluate with [Position] \t win rate:1.0\n",
      "===========================\n",
      "[Training] epoch: 1050 black: 19 white: 27\n",
      "Evaluate with [Random] \t win rate:0.82\n"
     ]
    },
    {
     "name": "stderr",
     "output_type": "stream",
     "text": [
      "INFO:Agent:Model saved to CNN_survive_score_diff_large_latest.pth\n"
     ]
    },
    {
     "name": "stdout",
     "output_type": "stream",
     "text": [
      "Evaluate with [Position] \t win rate:1.0\n",
      "===========================\n",
      "[Training] epoch: 1060 black: 19 white: 27\n",
      "Evaluate with [Random] \t win rate:0.825\n"
     ]
    },
    {
     "name": "stderr",
     "output_type": "stream",
     "text": [
      "INFO:Agent:Model saved to CNN_survive_score_diff_large_latest.pth\n"
     ]
    },
    {
     "name": "stdout",
     "output_type": "stream",
     "text": [
      "Evaluate with [Position] \t win rate:1.0\n",
      "===========================\n",
      "[Training] epoch: 1070 black: 14 white: 32\n",
      "Evaluate with [Random] \t win rate:0.815\n"
     ]
    },
    {
     "name": "stderr",
     "output_type": "stream",
     "text": [
      "INFO:Agent:Model saved to CNN_survive_score_diff_large_latest.pth\n"
     ]
    },
    {
     "name": "stdout",
     "output_type": "stream",
     "text": [
      "Evaluate with [Position] \t win rate:0.0\n",
      "===========================\n",
      "[Training] epoch: 1080 black: 26 white: 22\n",
      "Evaluate with [Random] \t win rate:0.835\n"
     ]
    },
    {
     "name": "stderr",
     "output_type": "stream",
     "text": [
      "INFO:Agent:Model saved to CNN_survive_score_diff_large_latest.pth\n"
     ]
    },
    {
     "name": "stdout",
     "output_type": "stream",
     "text": [
      "Evaluate with [Position] \t win rate:0.0\n",
      "===========================\n",
      "[Training] epoch: 1090 black: 22 white: 28\n",
      "Evaluate with [Random] \t win rate:0.85\n"
     ]
    },
    {
     "name": "stderr",
     "output_type": "stream",
     "text": [
      "INFO:Agent:Model saved to CNN_survive_score_diff_large_latest.pth\n"
     ]
    },
    {
     "name": "stdout",
     "output_type": "stream",
     "text": [
      "Evaluate with [Position] \t win rate:0.0\n",
      "===========================\n",
      "[Training] epoch: 1100 black: 21 white: 25\n",
      "Evaluate with [Random] \t win rate:0.815\n"
     ]
    },
    {
     "name": "stderr",
     "output_type": "stream",
     "text": [
      "INFO:Agent:Model saved to CNN_survive_score_diff_large_latest.pth\n"
     ]
    },
    {
     "name": "stdout",
     "output_type": "stream",
     "text": [
      "Evaluate with [Position] \t win rate:0.0\n",
      "===========================\n",
      "[Training] epoch: 1110 black: 14 white: 32\n",
      "Evaluate with [Random] \t win rate:0.865\n"
     ]
    },
    {
     "name": "stderr",
     "output_type": "stream",
     "text": [
      "INFO:Agent:Model saved to CNN_survive_score_diff_large_latest.pth\n"
     ]
    },
    {
     "name": "stdout",
     "output_type": "stream",
     "text": [
      "Evaluate with [Position] \t win rate:1.0\n",
      "===========================\n",
      "[Training] epoch: 1120 black: 19 white: 30\n",
      "Evaluate with [Random] \t win rate:0.87\n"
     ]
    },
    {
     "name": "stderr",
     "output_type": "stream",
     "text": [
      "INFO:Agent:Model saved to CNN_survive_score_diff_large_latest.pth\n"
     ]
    },
    {
     "name": "stdout",
     "output_type": "stream",
     "text": [
      "Evaluate with [Position] \t win rate:1.0\n",
      "===========================\n",
      "[Training] epoch: 1130 black: 23 white: 26\n",
      "Evaluate with [Random] \t win rate:0.845\n"
     ]
    },
    {
     "name": "stderr",
     "output_type": "stream",
     "text": [
      "INFO:Agent:Model saved to CNN_survive_score_diff_large_latest.pth\n"
     ]
    },
    {
     "name": "stdout",
     "output_type": "stream",
     "text": [
      "Evaluate with [Position] \t win rate:1.0\n",
      "===========================\n",
      "[Training] epoch: 1140 black: 17 white: 32\n",
      "Evaluate with [Random] \t win rate:0.79\n"
     ]
    },
    {
     "name": "stderr",
     "output_type": "stream",
     "text": [
      "INFO:Agent:Model saved to CNN_survive_score_diff_large_latest.pth\n"
     ]
    },
    {
     "name": "stdout",
     "output_type": "stream",
     "text": [
      "Evaluate with [Position] \t win rate:1.0\n",
      "===========================\n",
      "[Training] epoch: 1150 black: 21 white: 26\n",
      "Evaluate with [Random] \t win rate:0.795\n"
     ]
    },
    {
     "name": "stderr",
     "output_type": "stream",
     "text": [
      "INFO:Agent:Model saved to CNN_survive_score_diff_large_latest.pth\n"
     ]
    },
    {
     "name": "stdout",
     "output_type": "stream",
     "text": [
      "Evaluate with [Position] \t win rate:1.0\n",
      "===========================\n",
      "[Training] epoch: 1160 black: 12 white: 35\n",
      "Evaluate with [Random] \t win rate:0.81\n"
     ]
    },
    {
     "name": "stderr",
     "output_type": "stream",
     "text": [
      "INFO:Agent:Model saved to CNN_survive_score_diff_large_latest.pth\n"
     ]
    },
    {
     "name": "stdout",
     "output_type": "stream",
     "text": [
      "Evaluate with [Position] \t win rate:0.0\n",
      "===========================\n",
      "[Training] epoch: 1170 black: 18 white: 32\n",
      "Evaluate with [Random] \t win rate:0.835\n"
     ]
    },
    {
     "name": "stderr",
     "output_type": "stream",
     "text": [
      "INFO:Agent:Model saved to CNN_survive_score_diff_large_latest.pth\n"
     ]
    },
    {
     "name": "stdout",
     "output_type": "stream",
     "text": [
      "Evaluate with [Position] \t win rate:1.0\n",
      "===========================\n",
      "[Training] epoch: 1180 black: 19 white: 30\n",
      "Evaluate with [Random] \t win rate:0.815\n"
     ]
    },
    {
     "name": "stderr",
     "output_type": "stream",
     "text": [
      "INFO:Agent:Model saved to CNN_survive_score_diff_large_latest.pth\n"
     ]
    },
    {
     "name": "stdout",
     "output_type": "stream",
     "text": [
      "Evaluate with [Position] \t win rate:1.0\n",
      "===========================\n",
      "[Training] epoch: 1190 black: 19 white: 28\n",
      "Evaluate with [Random] \t win rate:0.825\n"
     ]
    },
    {
     "name": "stderr",
     "output_type": "stream",
     "text": [
      "INFO:Agent:Model saved to CNN_survive_score_diff_large_latest.pth\n"
     ]
    },
    {
     "name": "stdout",
     "output_type": "stream",
     "text": [
      "Evaluate with [Position] \t win rate:1.0\n",
      "===========================\n",
      "[Training] epoch: 1200 black: 18 white: 31\n",
      "Evaluate with [Random] \t win rate:0.77\n"
     ]
    },
    {
     "name": "stderr",
     "output_type": "stream",
     "text": [
      "INFO:Agent:Model saved to CNN_survive_score_diff_large_latest.pth\n"
     ]
    },
    {
     "name": "stdout",
     "output_type": "stream",
     "text": [
      "Evaluate with [Position] \t win rate:1.0\n",
      "===========================\n",
      "[Training] epoch: 1210 black: 17 white: 30\n",
      "Evaluate with [Random] \t win rate:0.885\n"
     ]
    },
    {
     "name": "stderr",
     "output_type": "stream",
     "text": [
      "INFO:Agent:Model saved to CNN_survive_score_diff_large_latest.pth\n"
     ]
    },
    {
     "name": "stdout",
     "output_type": "stream",
     "text": [
      "Evaluate with [Position] \t win rate:1.0\n",
      "===========================\n",
      "[Training] epoch: 1220 black: 18 white: 29\n",
      "Evaluate with [Random] \t win rate:0.84\n"
     ]
    },
    {
     "name": "stderr",
     "output_type": "stream",
     "text": [
      "INFO:Agent:Model saved to CNN_survive_score_diff_large_latest.pth\n"
     ]
    },
    {
     "name": "stdout",
     "output_type": "stream",
     "text": [
      "Evaluate with [Position] \t win rate:1.0\n",
      "===========================\n",
      "[Training] epoch: 1230 black: 20 white: 27\n",
      "Evaluate with [Random] \t win rate:0.805\n"
     ]
    },
    {
     "name": "stderr",
     "output_type": "stream",
     "text": [
      "INFO:Agent:Model saved to CNN_survive_score_diff_large_latest.pth\n"
     ]
    },
    {
     "name": "stdout",
     "output_type": "stream",
     "text": [
      "Evaluate with [Position] \t win rate:0.0\n",
      "===========================\n",
      "[Training] epoch: 1240 black: 16 white: 33\n",
      "Evaluate with [Random] \t win rate:0.79\n"
     ]
    },
    {
     "name": "stderr",
     "output_type": "stream",
     "text": [
      "INFO:Agent:Model saved to CNN_survive_score_diff_large_latest.pth\n"
     ]
    },
    {
     "name": "stdout",
     "output_type": "stream",
     "text": [
      "Evaluate with [Position] \t win rate:1.0\n",
      "===========================\n",
      "[Training] epoch: 1250 black: 19 white: 29\n",
      "Evaluate with [Random] \t win rate:0.73\n"
     ]
    },
    {
     "name": "stderr",
     "output_type": "stream",
     "text": [
      "INFO:Agent:Model saved to CNN_survive_score_diff_large_latest.pth\n"
     ]
    },
    {
     "name": "stdout",
     "output_type": "stream",
     "text": [
      "Evaluate with [Position] \t win rate:1.0\n",
      "===========================\n",
      "[Training] epoch: 1260 black: 20 white: 28\n",
      "Evaluate with [Random] \t win rate:0.79\n"
     ]
    },
    {
     "name": "stderr",
     "output_type": "stream",
     "text": [
      "INFO:Agent:Model saved to CNN_survive_score_diff_large_latest.pth\n"
     ]
    },
    {
     "name": "stdout",
     "output_type": "stream",
     "text": [
      "Evaluate with [Position] \t win rate:1.0\n",
      "===========================\n",
      "[Training] epoch: 1270 black: 18 white: 30\n",
      "Evaluate with [Random] \t win rate:0.825\n"
     ]
    },
    {
     "name": "stderr",
     "output_type": "stream",
     "text": [
      "INFO:Agent:Model saved to CNN_survive_score_diff_large_latest.pth\n"
     ]
    },
    {
     "name": "stdout",
     "output_type": "stream",
     "text": [
      "Evaluate with [Position] \t win rate:1.0\n",
      "===========================\n",
      "[Training] epoch: 1280 black: 19 white: 29\n",
      "Evaluate with [Random] \t win rate:0.84\n"
     ]
    },
    {
     "name": "stderr",
     "output_type": "stream",
     "text": [
      "INFO:Agent:Model saved to CNN_survive_score_diff_large_latest.pth\n"
     ]
    },
    {
     "name": "stdout",
     "output_type": "stream",
     "text": [
      "Evaluate with [Position] \t win rate:1.0\n",
      "===========================\n",
      "[Training] epoch: 1290 black: 20 white: 29\n",
      "Evaluate with [Random] \t win rate:0.79\n"
     ]
    },
    {
     "name": "stderr",
     "output_type": "stream",
     "text": [
      "INFO:Agent:Model saved to CNN_survive_score_diff_large_latest.pth\n"
     ]
    },
    {
     "name": "stdout",
     "output_type": "stream",
     "text": [
      "Evaluate with [Position] \t win rate:1.0\n",
      "===========================\n",
      "[Training] epoch: 1300 black: 19 white: 27\n",
      "Evaluate with [Random] \t win rate:0.825\n"
     ]
    },
    {
     "name": "stderr",
     "output_type": "stream",
     "text": [
      "INFO:Agent:Model saved to CNN_survive_score_diff_large_latest.pth\n"
     ]
    },
    {
     "name": "stdout",
     "output_type": "stream",
     "text": [
      "Evaluate with [Position] \t win rate:1.0\n",
      "===========================\n",
      "[Training] epoch: 1310 black: 24 white: 24\n",
      "Evaluate with [Random] \t win rate:0.785\n"
     ]
    },
    {
     "name": "stderr",
     "output_type": "stream",
     "text": [
      "INFO:Agent:Model saved to CNN_survive_score_diff_large_latest.pth\n"
     ]
    },
    {
     "name": "stdout",
     "output_type": "stream",
     "text": [
      "Evaluate with [Position] \t win rate:1.0\n",
      "===========================\n",
      "[Training] epoch: 1320 black: 15 white: 32\n",
      "Evaluate with [Random] \t win rate:0.795\n"
     ]
    },
    {
     "name": "stderr",
     "output_type": "stream",
     "text": [
      "INFO:Agent:Model saved to CNN_survive_score_diff_large_latest.pth\n"
     ]
    },
    {
     "name": "stdout",
     "output_type": "stream",
     "text": [
      "Evaluate with [Position] \t win rate:1.0\n",
      "===========================\n",
      "[Training] epoch: 1330 black: 17 white: 29\n",
      "Evaluate with [Random] \t win rate:0.855\n"
     ]
    },
    {
     "name": "stderr",
     "output_type": "stream",
     "text": [
      "INFO:Agent:Model saved to CNN_survive_score_diff_large_latest.pth\n"
     ]
    },
    {
     "name": "stdout",
     "output_type": "stream",
     "text": [
      "Evaluate with [Position] \t win rate:1.0\n",
      "===========================\n",
      "[Training] epoch: 1340 black: 16 white: 30\n",
      "Evaluate with [Random] \t win rate:0.835\n"
     ]
    },
    {
     "name": "stderr",
     "output_type": "stream",
     "text": [
      "INFO:Agent:Model saved to CNN_survive_score_diff_large_latest.pth\n"
     ]
    },
    {
     "name": "stdout",
     "output_type": "stream",
     "text": [
      "Evaluate with [Position] \t win rate:1.0\n",
      "===========================\n",
      "[Training] epoch: 1350 black: 18 white: 28\n",
      "Evaluate with [Random] \t win rate:0.815\n"
     ]
    },
    {
     "name": "stderr",
     "output_type": "stream",
     "text": [
      "INFO:Agent:Model saved to CNN_survive_score_diff_large_latest.pth\n"
     ]
    },
    {
     "name": "stdout",
     "output_type": "stream",
     "text": [
      "Evaluate with [Position] \t win rate:1.0\n",
      "===========================\n",
      "[Training] epoch: 1360 black: 21 white: 27\n",
      "Evaluate with [Random] \t win rate:0.84\n"
     ]
    },
    {
     "name": "stderr",
     "output_type": "stream",
     "text": [
      "INFO:Agent:Model saved to CNN_survive_score_diff_large_latest.pth\n"
     ]
    },
    {
     "name": "stdout",
     "output_type": "stream",
     "text": [
      "Evaluate with [Position] \t win rate:1.0\n",
      "===========================\n",
      "[Training] epoch: 1370 black: 18 white: 28\n",
      "Evaluate with [Random] \t win rate:0.815\n"
     ]
    },
    {
     "name": "stderr",
     "output_type": "stream",
     "text": [
      "INFO:Agent:Model saved to CNN_survive_score_diff_large_latest.pth\n"
     ]
    },
    {
     "name": "stdout",
     "output_type": "stream",
     "text": [
      "Evaluate with [Position] \t win rate:1.0\n",
      "===========================\n",
      "[Training] epoch: 1380 black: 25 white: 25\n",
      "Evaluate with [Random] \t win rate:0.8\n"
     ]
    },
    {
     "name": "stderr",
     "output_type": "stream",
     "text": [
      "INFO:Agent:Model saved to CNN_survive_score_diff_large_latest.pth\n"
     ]
    },
    {
     "name": "stdout",
     "output_type": "stream",
     "text": [
      "Evaluate with [Position] \t win rate:1.0\n",
      "===========================\n",
      "[Training] epoch: 1390 black: 22 white: 27\n",
      "Evaluate with [Random] \t win rate:0.79\n"
     ]
    },
    {
     "name": "stderr",
     "output_type": "stream",
     "text": [
      "INFO:Agent:Model saved to CNN_survive_score_diff_large_latest.pth\n"
     ]
    },
    {
     "name": "stdout",
     "output_type": "stream",
     "text": [
      "Evaluate with [Position] \t win rate:1.0\n",
      "===========================\n",
      "[Training] epoch: 1400 black: 17 white: 30\n",
      "Evaluate with [Random] \t win rate:0.785\n"
     ]
    },
    {
     "name": "stderr",
     "output_type": "stream",
     "text": [
      "INFO:Agent:Model saved to CNN_survive_score_diff_large_latest.pth\n"
     ]
    },
    {
     "name": "stdout",
     "output_type": "stream",
     "text": [
      "Evaluate with [Position] \t win rate:1.0\n",
      "===========================\n",
      "[Training] epoch: 1410 black: 14 white: 35\n",
      "Evaluate with [Random] \t win rate:0.825\n"
     ]
    },
    {
     "name": "stderr",
     "output_type": "stream",
     "text": [
      "INFO:Agent:Model saved to CNN_survive_score_diff_large_latest.pth\n"
     ]
    },
    {
     "name": "stdout",
     "output_type": "stream",
     "text": [
      "Evaluate with [Position] \t win rate:1.0\n",
      "===========================\n",
      "[Training] epoch: 1420 black: 17 white: 29\n",
      "Evaluate with [Random] \t win rate:0.805\n"
     ]
    },
    {
     "name": "stderr",
     "output_type": "stream",
     "text": [
      "INFO:Agent:Model saved to CNN_survive_score_diff_large_latest.pth\n"
     ]
    },
    {
     "name": "stdout",
     "output_type": "stream",
     "text": [
      "Evaluate with [Position] \t win rate:1.0\n",
      "===========================\n",
      "[Training] epoch: 1430 black: 23 white: 23\n",
      "Evaluate with [Random] \t win rate:0.81\n"
     ]
    },
    {
     "name": "stderr",
     "output_type": "stream",
     "text": [
      "INFO:Agent:Model saved to CNN_survive_score_diff_large_latest.pth\n"
     ]
    },
    {
     "name": "stdout",
     "output_type": "stream",
     "text": [
      "Evaluate with [Position] \t win rate:1.0\n",
      "===========================\n",
      "[Training] epoch: 1440 black: 21 white: 28\n",
      "Evaluate with [Random] \t win rate:0.855\n"
     ]
    },
    {
     "name": "stderr",
     "output_type": "stream",
     "text": [
      "INFO:Agent:Model saved to CNN_survive_score_diff_large_latest.pth\n"
     ]
    },
    {
     "name": "stdout",
     "output_type": "stream",
     "text": [
      "Evaluate with [Position] \t win rate:1.0\n",
      "===========================\n",
      "[Training] epoch: 1450 black: 17 white: 30\n",
      "Evaluate with [Random] \t win rate:0.835\n"
     ]
    },
    {
     "name": "stderr",
     "output_type": "stream",
     "text": [
      "INFO:Agent:Model saved to CNN_survive_score_diff_large_latest.pth\n"
     ]
    },
    {
     "name": "stdout",
     "output_type": "stream",
     "text": [
      "Evaluate with [Position] \t win rate:0.0\n",
      "===========================\n",
      "[Training] epoch: 1460 black: 24 white: 24\n",
      "Evaluate with [Random] \t win rate:0.765\n"
     ]
    },
    {
     "name": "stderr",
     "output_type": "stream",
     "text": [
      "INFO:Agent:Model saved to CNN_survive_score_diff_large_latest.pth\n"
     ]
    },
    {
     "name": "stdout",
     "output_type": "stream",
     "text": [
      "Evaluate with [Position] \t win rate:1.0\n",
      "===========================\n",
      "[Training] epoch: 1470 black: 26 white: 22\n",
      "Evaluate with [Random] \t win rate:0.76\n"
     ]
    },
    {
     "name": "stderr",
     "output_type": "stream",
     "text": [
      "INFO:Agent:Model saved to CNN_survive_score_diff_large_latest.pth\n"
     ]
    },
    {
     "name": "stdout",
     "output_type": "stream",
     "text": [
      "Evaluate with [Position] \t win rate:1.0\n",
      "===========================\n",
      "[Training] epoch: 1480 black: 21 white: 26\n",
      "Evaluate with [Random] \t win rate:0.795\n"
     ]
    },
    {
     "name": "stderr",
     "output_type": "stream",
     "text": [
      "INFO:Agent:Model saved to CNN_survive_score_diff_large_latest.pth\n"
     ]
    },
    {
     "name": "stdout",
     "output_type": "stream",
     "text": [
      "Evaluate with [Position] \t win rate:1.0\n",
      "===========================\n",
      "[Training] epoch: 1490 black: 21 white: 29\n",
      "Evaluate with [Random] \t win rate:0.83\n"
     ]
    },
    {
     "name": "stderr",
     "output_type": "stream",
     "text": [
      "INFO:Agent:Model saved to CNN_survive_score_diff_large_latest.pth\n"
     ]
    },
    {
     "name": "stdout",
     "output_type": "stream",
     "text": [
      "Evaluate with [Position] \t win rate:1.0\n",
      "===========================\n",
      "[Training] epoch: 1500 black: 26 white: 23\n",
      "Evaluate with [Random] \t win rate:0.75\n"
     ]
    },
    {
     "name": "stderr",
     "output_type": "stream",
     "text": [
      "INFO:Agent:Model saved to CNN_survive_score_diff_large_latest.pth\n"
     ]
    },
    {
     "name": "stdout",
     "output_type": "stream",
     "text": [
      "Evaluate with [Position] \t win rate:1.0\n",
      "===========================\n",
      "[Training] epoch: 1510 black: 19 white: 29\n",
      "Evaluate with [Random] \t win rate:0.805\n"
     ]
    },
    {
     "name": "stderr",
     "output_type": "stream",
     "text": [
      "INFO:Agent:Model saved to CNN_survive_score_diff_large_latest.pth\n"
     ]
    },
    {
     "name": "stdout",
     "output_type": "stream",
     "text": [
      "Evaluate with [Position] \t win rate:1.0\n",
      "===========================\n",
      "[Training] epoch: 1520 black: 24 white: 24\n",
      "Evaluate with [Random] \t win rate:0.795\n"
     ]
    },
    {
     "name": "stderr",
     "output_type": "stream",
     "text": [
      "INFO:Agent:Model saved to CNN_survive_score_diff_large_latest.pth\n"
     ]
    },
    {
     "name": "stdout",
     "output_type": "stream",
     "text": [
      "Evaluate with [Position] \t win rate:1.0\n",
      "===========================\n",
      "[Training] epoch: 1530 black: 23 white: 26\n",
      "Evaluate with [Random] \t win rate:0.815\n"
     ]
    },
    {
     "name": "stderr",
     "output_type": "stream",
     "text": [
      "INFO:Agent:Model saved to CNN_survive_score_diff_large_latest.pth\n"
     ]
    },
    {
     "name": "stdout",
     "output_type": "stream",
     "text": [
      "Evaluate with [Position] \t win rate:1.0\n",
      "===========================\n",
      "[Training] epoch: 1540 black: 17 white: 31\n",
      "Evaluate with [Random] \t win rate:0.825\n"
     ]
    },
    {
     "name": "stderr",
     "output_type": "stream",
     "text": [
      "INFO:Agent:Model saved to CNN_survive_score_diff_large_latest.pth\n"
     ]
    },
    {
     "name": "stdout",
     "output_type": "stream",
     "text": [
      "Evaluate with [Position] \t win rate:1.0\n",
      "===========================\n",
      "[Training] epoch: 1550 black: 14 white: 34\n",
      "Evaluate with [Random] \t win rate:0.81\n"
     ]
    },
    {
     "name": "stderr",
     "output_type": "stream",
     "text": [
      "INFO:Agent:Model saved to CNN_survive_score_diff_large_latest.pth\n"
     ]
    },
    {
     "name": "stdout",
     "output_type": "stream",
     "text": [
      "Evaluate with [Position] \t win rate:1.0\n",
      "===========================\n",
      "[Training] epoch: 1560 black: 25 white: 23\n",
      "Evaluate with [Random] \t win rate:0.8\n"
     ]
    },
    {
     "name": "stderr",
     "output_type": "stream",
     "text": [
      "INFO:Agent:Model saved to CNN_survive_score_diff_large_latest.pth\n"
     ]
    },
    {
     "name": "stdout",
     "output_type": "stream",
     "text": [
      "Evaluate with [Position] \t win rate:1.0\n",
      "===========================\n",
      "[Training] epoch: 1570 black: 15 white: 33\n",
      "Evaluate with [Random] \t win rate:0.775\n"
     ]
    },
    {
     "name": "stderr",
     "output_type": "stream",
     "text": [
      "INFO:Agent:Model saved to CNN_survive_score_diff_large_latest.pth\n"
     ]
    },
    {
     "name": "stdout",
     "output_type": "stream",
     "text": [
      "Evaluate with [Position] \t win rate:1.0\n",
      "===========================\n",
      "[Training] epoch: 1580 black: 20 white: 28\n",
      "Evaluate with [Random] \t win rate:0.825\n"
     ]
    },
    {
     "name": "stderr",
     "output_type": "stream",
     "text": [
      "INFO:Agent:Model saved to CNN_survive_score_diff_large_latest.pth\n"
     ]
    },
    {
     "name": "stdout",
     "output_type": "stream",
     "text": [
      "Evaluate with [Position] \t win rate:1.0\n",
      "===========================\n",
      "[Training] epoch: 1590 black: 26 white: 24\n",
      "Evaluate with [Random] \t win rate:0.775\n"
     ]
    },
    {
     "name": "stderr",
     "output_type": "stream",
     "text": [
      "INFO:Agent:Model saved to CNN_survive_score_diff_large_latest.pth\n"
     ]
    },
    {
     "name": "stdout",
     "output_type": "stream",
     "text": [
      "Evaluate with [Position] \t win rate:1.0\n",
      "===========================\n",
      "[Training] epoch: 1600 black: 22 white: 27\n",
      "Evaluate with [Random] \t win rate:0.775\n"
     ]
    },
    {
     "name": "stderr",
     "output_type": "stream",
     "text": [
      "INFO:Agent:Model saved to CNN_survive_score_diff_large_latest.pth\n"
     ]
    },
    {
     "name": "stdout",
     "output_type": "stream",
     "text": [
      "Evaluate with [Position] \t win rate:1.0\n",
      "===========================\n",
      "[Training] epoch: 1610 black: 19 white: 30\n",
      "Evaluate with [Random] \t win rate:0.75\n"
     ]
    },
    {
     "name": "stderr",
     "output_type": "stream",
     "text": [
      "INFO:Agent:Model saved to CNN_survive_score_diff_large_latest.pth\n"
     ]
    },
    {
     "name": "stdout",
     "output_type": "stream",
     "text": [
      "Evaluate with [Position] \t win rate:1.0\n",
      "===========================\n",
      "[Training] epoch: 1620 black: 22 white: 26\n",
      "Evaluate with [Random] \t win rate:0.8\n"
     ]
    },
    {
     "name": "stderr",
     "output_type": "stream",
     "text": [
      "INFO:Agent:Model saved to CNN_survive_score_diff_large_latest.pth\n"
     ]
    },
    {
     "name": "stdout",
     "output_type": "stream",
     "text": [
      "Evaluate with [Position] \t win rate:0.0\n",
      "===========================\n",
      "[Training] epoch: 1630 black: 17 white: 29\n",
      "Evaluate with [Random] \t win rate:0.825\n"
     ]
    },
    {
     "name": "stderr",
     "output_type": "stream",
     "text": [
      "INFO:Agent:Model saved to CNN_survive_score_diff_large_latest.pth\n"
     ]
    },
    {
     "name": "stdout",
     "output_type": "stream",
     "text": [
      "Evaluate with [Position] \t win rate:1.0\n",
      "===========================\n",
      "[Training] epoch: 1640 black: 22 white: 25\n",
      "Evaluate with [Random] \t win rate:0.8\n"
     ]
    },
    {
     "name": "stderr",
     "output_type": "stream",
     "text": [
      "INFO:Agent:Model saved to CNN_survive_score_diff_large_latest.pth\n"
     ]
    },
    {
     "name": "stdout",
     "output_type": "stream",
     "text": [
      "Evaluate with [Position] \t win rate:1.0\n",
      "===========================\n",
      "[Training] epoch: 1650 black: 20 white: 24\n",
      "Evaluate with [Random] \t win rate:0.8\n"
     ]
    },
    {
     "name": "stderr",
     "output_type": "stream",
     "text": [
      "INFO:Agent:Model saved to CNN_survive_score_diff_large_latest.pth\n"
     ]
    },
    {
     "name": "stdout",
     "output_type": "stream",
     "text": [
      "Evaluate with [Position] \t win rate:0.0\n",
      "===========================\n",
      "[Training] epoch: 1660 black: 22 white: 25\n",
      "Evaluate with [Random] \t win rate:0.815\n"
     ]
    },
    {
     "name": "stderr",
     "output_type": "stream",
     "text": [
      "INFO:Agent:Model saved to CNN_survive_score_diff_large_latest.pth\n"
     ]
    },
    {
     "name": "stdout",
     "output_type": "stream",
     "text": [
      "Evaluate with [Position] \t win rate:1.0\n",
      "===========================\n",
      "[Training] epoch: 1670 black: 26 white: 19\n",
      "Evaluate with [Random] \t win rate:0.75\n"
     ]
    },
    {
     "name": "stderr",
     "output_type": "stream",
     "text": [
      "INFO:Agent:Model saved to CNN_survive_score_diff_large_latest.pth\n"
     ]
    },
    {
     "name": "stdout",
     "output_type": "stream",
     "text": [
      "Evaluate with [Position] \t win rate:1.0\n",
      "===========================\n",
      "[Training] epoch: 1680 black: 20 white: 30\n",
      "Evaluate with [Random] \t win rate:0.745\n"
     ]
    },
    {
     "name": "stderr",
     "output_type": "stream",
     "text": [
      "INFO:Agent:Model saved to CNN_survive_score_diff_large_latest.pth\n"
     ]
    },
    {
     "name": "stdout",
     "output_type": "stream",
     "text": [
      "Evaluate with [Position] \t win rate:1.0\n",
      "===========================\n",
      "[Training] epoch: 1690 black: 24 white: 23\n",
      "Evaluate with [Random] \t win rate:0.815\n"
     ]
    },
    {
     "name": "stderr",
     "output_type": "stream",
     "text": [
      "INFO:Agent:Model saved to CNN_survive_score_diff_large_latest.pth\n"
     ]
    },
    {
     "name": "stdout",
     "output_type": "stream",
     "text": [
      "Evaluate with [Position] \t win rate:1.0\n",
      "===========================\n",
      "[Training] epoch: 1700 black: 14 white: 35\n",
      "Evaluate with [Random] \t win rate:0.805\n"
     ]
    },
    {
     "name": "stderr",
     "output_type": "stream",
     "text": [
      "INFO:Agent:Model saved to CNN_survive_score_diff_large_latest.pth\n"
     ]
    },
    {
     "name": "stdout",
     "output_type": "stream",
     "text": [
      "Evaluate with [Position] \t win rate:0.0\n",
      "===========================\n",
      "[Training] epoch: 1710 black: 14 white: 32\n",
      "Evaluate with [Random] \t win rate:0.765\n"
     ]
    },
    {
     "name": "stderr",
     "output_type": "stream",
     "text": [
      "INFO:Agent:Model saved to CNN_survive_score_diff_large_latest.pth\n"
     ]
    },
    {
     "name": "stdout",
     "output_type": "stream",
     "text": [
      "Evaluate with [Position] \t win rate:0.0\n",
      "===========================\n",
      "[Training] epoch: 1720 black: 20 white: 30\n",
      "Evaluate with [Random] \t win rate:0.735\n"
     ]
    },
    {
     "name": "stderr",
     "output_type": "stream",
     "text": [
      "INFO:Agent:Model saved to CNN_survive_score_diff_large_latest.pth\n"
     ]
    },
    {
     "name": "stdout",
     "output_type": "stream",
     "text": [
      "Evaluate with [Position] \t win rate:1.0\n",
      "===========================\n",
      "[Training] epoch: 1730 black: 18 white: 28\n",
      "Evaluate with [Random] \t win rate:0.78\n"
     ]
    },
    {
     "name": "stderr",
     "output_type": "stream",
     "text": [
      "INFO:Agent:Model saved to CNN_survive_score_diff_large_latest.pth\n"
     ]
    },
    {
     "name": "stdout",
     "output_type": "stream",
     "text": [
      "Evaluate with [Position] \t win rate:1.0\n",
      "===========================\n",
      "[Training] epoch: 1740 black: 17 white: 33\n",
      "Evaluate with [Random] \t win rate:0.8\n"
     ]
    },
    {
     "name": "stderr",
     "output_type": "stream",
     "text": [
      "INFO:Agent:Model saved to CNN_survive_score_diff_large_latest.pth\n"
     ]
    },
    {
     "name": "stdout",
     "output_type": "stream",
     "text": [
      "Evaluate with [Position] \t win rate:1.0\n",
      "===========================\n",
      "[Training] epoch: 1750 black: 17 white: 30\n",
      "Evaluate with [Random] \t win rate:0.78\n"
     ]
    },
    {
     "name": "stderr",
     "output_type": "stream",
     "text": [
      "INFO:Agent:Model saved to CNN_survive_score_diff_large_latest.pth\n"
     ]
    },
    {
     "name": "stdout",
     "output_type": "stream",
     "text": [
      "Evaluate with [Position] \t win rate:1.0\n",
      "===========================\n",
      "[Training] epoch: 1760 black: 18 white: 29\n",
      "Evaluate with [Random] \t win rate:0.8\n"
     ]
    },
    {
     "name": "stderr",
     "output_type": "stream",
     "text": [
      "INFO:Agent:Model saved to CNN_survive_score_diff_large_latest.pth\n"
     ]
    },
    {
     "name": "stdout",
     "output_type": "stream",
     "text": [
      "Evaluate with [Position] \t win rate:1.0\n",
      "===========================\n",
      "[Training] epoch: 1770 black: 23 white: 23\n",
      "Evaluate with [Random] \t win rate:0.79\n",
      "Evaluate with [Position] \t win rate:1.0\n"
     ]
    },
    {
     "name": "stderr",
     "output_type": "stream",
     "text": [
      "INFO:Agent:Model saved to CNN_survive_score_diff_large_latest.pth\n"
     ]
    },
    {
     "name": "stdout",
     "output_type": "stream",
     "text": [
      "===========================\n",
      "[Training] epoch: 1780 black: 27 white: 19\n",
      "Evaluate with [Random] \t win rate:0.78\n"
     ]
    },
    {
     "name": "stderr",
     "output_type": "stream",
     "text": [
      "INFO:Agent:Model saved to CNN_survive_score_diff_large_latest.pth\n"
     ]
    },
    {
     "name": "stdout",
     "output_type": "stream",
     "text": [
      "Evaluate with [Position] \t win rate:0.0\n",
      "===========================\n",
      "[Training] epoch: 1790 black: 24 white: 24\n",
      "Evaluate with [Random] \t win rate:0.735\n"
     ]
    },
    {
     "name": "stderr",
     "output_type": "stream",
     "text": [
      "INFO:Agent:Model saved to CNN_survive_score_diff_large_latest.pth\n"
     ]
    },
    {
     "name": "stdout",
     "output_type": "stream",
     "text": [
      "Evaluate with [Position] \t win rate:1.0\n",
      "===========================\n",
      "[Training] epoch: 1800 black: 18 white: 31\n",
      "Evaluate with [Random] \t win rate:0.845\n"
     ]
    },
    {
     "name": "stderr",
     "output_type": "stream",
     "text": [
      "INFO:Agent:Model saved to CNN_survive_score_diff_large_latest.pth\n"
     ]
    },
    {
     "name": "stdout",
     "output_type": "stream",
     "text": [
      "Evaluate with [Position] \t win rate:0.0\n",
      "===========================\n",
      "[Training] epoch: 1810 black: 19 white: 30\n",
      "Evaluate with [Random] \t win rate:0.81\n"
     ]
    },
    {
     "name": "stderr",
     "output_type": "stream",
     "text": [
      "INFO:Agent:Model saved to CNN_survive_score_diff_large_latest.pth\n"
     ]
    },
    {
     "name": "stdout",
     "output_type": "stream",
     "text": [
      "Evaluate with [Position] \t win rate:1.0\n",
      "===========================\n",
      "[Training] epoch: 1820 black: 22 white: 27\n",
      "Evaluate with [Random] \t win rate:0.785\n"
     ]
    },
    {
     "name": "stderr",
     "output_type": "stream",
     "text": [
      "INFO:Agent:Model saved to CNN_survive_score_diff_large_latest.pth\n"
     ]
    },
    {
     "name": "stdout",
     "output_type": "stream",
     "text": [
      "Evaluate with [Position] \t win rate:1.0\n",
      "===========================\n",
      "[Training] epoch: 1830 black: 18 white: 29\n",
      "Evaluate with [Random] \t win rate:0.8\n"
     ]
    },
    {
     "name": "stderr",
     "output_type": "stream",
     "text": [
      "INFO:Agent:Model saved to CNN_survive_score_diff_large_latest.pth\n"
     ]
    },
    {
     "name": "stdout",
     "output_type": "stream",
     "text": [
      "Evaluate with [Position] \t win rate:1.0\n",
      "===========================\n",
      "[Training] epoch: 1840 black: 25 white: 25\n",
      "Evaluate with [Random] \t win rate:0.8\n"
     ]
    },
    {
     "name": "stderr",
     "output_type": "stream",
     "text": [
      "INFO:Agent:Model saved to CNN_survive_score_diff_large_latest.pth\n"
     ]
    },
    {
     "name": "stdout",
     "output_type": "stream",
     "text": [
      "Evaluate with [Position] \t win rate:1.0\n",
      "===========================\n",
      "[Training] epoch: 1850 black: 22 white: 26\n",
      "Evaluate with [Random] \t win rate:0.755\n"
     ]
    },
    {
     "name": "stderr",
     "output_type": "stream",
     "text": [
      "INFO:Agent:Model saved to CNN_survive_score_diff_large_latest.pth\n"
     ]
    },
    {
     "name": "stdout",
     "output_type": "stream",
     "text": [
      "Evaluate with [Position] \t win rate:1.0\n",
      "===========================\n",
      "[Training] epoch: 1860 black: 23 white: 23\n",
      "Evaluate with [Random] \t win rate:0.75\n"
     ]
    },
    {
     "name": "stderr",
     "output_type": "stream",
     "text": [
      "INFO:Agent:Model saved to CNN_survive_score_diff_large_latest.pth\n"
     ]
    },
    {
     "name": "stdout",
     "output_type": "stream",
     "text": [
      "Evaluate with [Position] \t win rate:1.0\n",
      "===========================\n",
      "[Training] epoch: 1870 black: 22 white: 26\n",
      "Evaluate with [Random] \t win rate:0.745\n"
     ]
    },
    {
     "name": "stderr",
     "output_type": "stream",
     "text": [
      "INFO:Agent:Model saved to CNN_survive_score_diff_large_latest.pth\n"
     ]
    },
    {
     "name": "stdout",
     "output_type": "stream",
     "text": [
      "Evaluate with [Position] \t win rate:1.0\n",
      "===========================\n",
      "[Training] epoch: 1880 black: 20 white: 28\n",
      "Evaluate with [Random] \t win rate:0.765\n",
      "Evaluate with [Position] \t win rate:0.0\n"
     ]
    },
    {
     "name": "stderr",
     "output_type": "stream",
     "text": [
      "INFO:Agent:Model saved to CNN_survive_score_diff_large_latest.pth\n"
     ]
    },
    {
     "name": "stdout",
     "output_type": "stream",
     "text": [
      "===========================\n",
      "[Training] epoch: 1890 black: 21 white: 26\n",
      "Evaluate with [Random] \t win rate:0.785\n"
     ]
    },
    {
     "name": "stderr",
     "output_type": "stream",
     "text": [
      "INFO:Agent:Model saved to CNN_survive_score_diff_large_latest.pth\n"
     ]
    },
    {
     "name": "stdout",
     "output_type": "stream",
     "text": [
      "Evaluate with [Position] \t win rate:1.0\n",
      "===========================\n",
      "[Training] epoch: 1900 black: 10 white: 37\n",
      "Evaluate with [Random] \t win rate:0.755\n"
     ]
    },
    {
     "name": "stderr",
     "output_type": "stream",
     "text": [
      "INFO:Agent:Model saved to CNN_survive_score_diff_large_latest.pth\n"
     ]
    },
    {
     "name": "stdout",
     "output_type": "stream",
     "text": [
      "Evaluate with [Position] \t win rate:1.0\n",
      "===========================\n",
      "[Training] epoch: 1910 black: 18 white: 30\n",
      "Evaluate with [Random] \t win rate:0.825\n"
     ]
    },
    {
     "name": "stderr",
     "output_type": "stream",
     "text": [
      "INFO:Agent:Model saved to CNN_survive_score_diff_large_latest.pth\n"
     ]
    },
    {
     "name": "stdout",
     "output_type": "stream",
     "text": [
      "Evaluate with [Position] \t win rate:1.0\n",
      "===========================\n",
      "[Training] epoch: 1920 black: 24 white: 24\n",
      "Evaluate with [Random] \t win rate:0.8\n"
     ]
    },
    {
     "name": "stderr",
     "output_type": "stream",
     "text": [
      "INFO:Agent:Model saved to CNN_survive_score_diff_large_latest.pth\n"
     ]
    },
    {
     "name": "stdout",
     "output_type": "stream",
     "text": [
      "Evaluate with [Position] \t win rate:1.0\n",
      "===========================\n",
      "[Training] epoch: 1930 black: 25 white: 25\n",
      "Evaluate with [Random] \t win rate:0.81\n"
     ]
    },
    {
     "name": "stderr",
     "output_type": "stream",
     "text": [
      "INFO:Agent:Model saved to CNN_survive_score_diff_large_latest.pth\n"
     ]
    },
    {
     "name": "stdout",
     "output_type": "stream",
     "text": [
      "Evaluate with [Position] \t win rate:0.0\n",
      "===========================\n",
      "[Training] epoch: 1940 black: 22 white: 27\n",
      "Evaluate with [Random] \t win rate:0.805\n"
     ]
    },
    {
     "name": "stderr",
     "output_type": "stream",
     "text": [
      "INFO:Agent:Model saved to CNN_survive_score_diff_large_latest.pth\n"
     ]
    },
    {
     "name": "stdout",
     "output_type": "stream",
     "text": [
      "Evaluate with [Position] \t win rate:0.0\n",
      "===========================\n",
      "[Training] epoch: 1950 black: 21 white: 29\n",
      "Evaluate with [Random] \t win rate:0.79\n"
     ]
    },
    {
     "name": "stderr",
     "output_type": "stream",
     "text": [
      "INFO:Agent:Model saved to CNN_survive_score_diff_large_latest.pth\n"
     ]
    },
    {
     "name": "stdout",
     "output_type": "stream",
     "text": [
      "Evaluate with [Position] \t win rate:1.0\n",
      "===========================\n",
      "[Training] epoch: 1960 black: 22 white: 27\n",
      "Evaluate with [Random] \t win rate:0.76\n"
     ]
    },
    {
     "name": "stderr",
     "output_type": "stream",
     "text": [
      "INFO:Agent:Model saved to CNN_survive_score_diff_large_latest.pth\n"
     ]
    },
    {
     "name": "stdout",
     "output_type": "stream",
     "text": [
      "Evaluate with [Position] \t win rate:1.0\n",
      "===========================\n",
      "[Training] epoch: 1970 black: 15 white: 33\n",
      "Evaluate with [Random] \t win rate:0.79\n"
     ]
    },
    {
     "name": "stderr",
     "output_type": "stream",
     "text": [
      "INFO:Agent:Model saved to CNN_survive_score_diff_large_latest.pth\n"
     ]
    },
    {
     "name": "stdout",
     "output_type": "stream",
     "text": [
      "Evaluate with [Position] \t win rate:1.0\n",
      "===========================\n",
      "[Training] epoch: 1980 black: 19 white: 29\n",
      "Evaluate with [Random] \t win rate:0.78\n"
     ]
    },
    {
     "name": "stderr",
     "output_type": "stream",
     "text": [
      "INFO:Agent:Model saved to CNN_survive_score_diff_large_latest.pth\n"
     ]
    },
    {
     "name": "stdout",
     "output_type": "stream",
     "text": [
      "Evaluate with [Position] \t win rate:1.0\n",
      "===========================\n",
      "[Training] epoch: 1990 black: 24 white: 24\n",
      "Evaluate with [Random] \t win rate:0.68\n"
     ]
    },
    {
     "name": "stderr",
     "output_type": "stream",
     "text": [
      "INFO:Agent:Model saved to CNN_survive_score_diff_large_latest.pth\n"
     ]
    },
    {
     "name": "stdout",
     "output_type": "stream",
     "text": [
      "Evaluate with [Position] \t win rate:1.0\n",
      "===========================\n",
      "[Training] epoch: 2000 black: 14 white: 35\n",
      "Evaluate with [Random] \t win rate:0.825\n"
     ]
    },
    {
     "name": "stderr",
     "output_type": "stream",
     "text": [
      "INFO:Agent:Model saved to CNN_survive_score_diff_large_latest.pth\n"
     ]
    },
    {
     "name": "stdout",
     "output_type": "stream",
     "text": [
      "Evaluate with [Position] \t win rate:1.0\n",
      "===========================\n",
      "[Training] epoch: 2010 black: 17 white: 29\n",
      "Evaluate with [Random] \t win rate:0.775\n"
     ]
    },
    {
     "name": "stderr",
     "output_type": "stream",
     "text": [
      "INFO:Agent:Model saved to CNN_survive_score_diff_large_latest.pth\n"
     ]
    },
    {
     "name": "stdout",
     "output_type": "stream",
     "text": [
      "Evaluate with [Position] \t win rate:1.0\n",
      "===========================\n",
      "[Training] epoch: 2020 black: 24 white: 22\n",
      "Evaluate with [Random] \t win rate:0.71\n"
     ]
    },
    {
     "name": "stderr",
     "output_type": "stream",
     "text": [
      "INFO:Agent:Model saved to CNN_survive_score_diff_large_latest.pth\n"
     ]
    },
    {
     "name": "stdout",
     "output_type": "stream",
     "text": [
      "Evaluate with [Position] \t win rate:1.0\n",
      "===========================\n",
      "[Training] epoch: 2030 black: 18 white: 29\n",
      "Evaluate with [Random] \t win rate:0.785\n"
     ]
    },
    {
     "name": "stderr",
     "output_type": "stream",
     "text": [
      "INFO:Agent:Model saved to CNN_survive_score_diff_large_latest.pth\n"
     ]
    },
    {
     "name": "stdout",
     "output_type": "stream",
     "text": [
      "Evaluate with [Position] \t win rate:1.0\n",
      "===========================\n",
      "[Training] epoch: 2040 black: 24 white: 25\n",
      "Evaluate with [Random] \t win rate:0.79\n",
      "Evaluate with [Position] \t win rate:1.0\n"
     ]
    },
    {
     "name": "stderr",
     "output_type": "stream",
     "text": [
      "INFO:Agent:Model saved to CNN_survive_score_diff_large_latest.pth\n"
     ]
    },
    {
     "name": "stdout",
     "output_type": "stream",
     "text": [
      "===========================\n",
      "[Training] epoch: 2050 black: 18 white: 29\n",
      "Evaluate with [Random] \t win rate:0.8\n"
     ]
    },
    {
     "name": "stderr",
     "output_type": "stream",
     "text": [
      "INFO:Agent:Model saved to CNN_survive_score_diff_large_latest.pth\n"
     ]
    },
    {
     "name": "stdout",
     "output_type": "stream",
     "text": [
      "Evaluate with [Position] \t win rate:1.0\n",
      "===========================\n",
      "[Training] epoch: 2060 black: 19 white: 28\n",
      "Evaluate with [Random] \t win rate:0.785\n"
     ]
    },
    {
     "name": "stderr",
     "output_type": "stream",
     "text": [
      "INFO:Agent:Model saved to CNN_survive_score_diff_large_latest.pth\n"
     ]
    },
    {
     "name": "stdout",
     "output_type": "stream",
     "text": [
      "Evaluate with [Position] \t win rate:1.0\n",
      "===========================\n",
      "[Training] epoch: 2070 black: 17 white: 30\n",
      "Evaluate with [Random] \t win rate:0.79\n"
     ]
    },
    {
     "name": "stderr",
     "output_type": "stream",
     "text": [
      "INFO:Agent:Model saved to CNN_survive_score_diff_large_latest.pth\n"
     ]
    },
    {
     "name": "stdout",
     "output_type": "stream",
     "text": [
      "Evaluate with [Position] \t win rate:1.0\n",
      "===========================\n",
      "[Training] epoch: 2080 black: 20 white: 28\n",
      "Evaluate with [Random] \t win rate:0.77\n"
     ]
    },
    {
     "name": "stderr",
     "output_type": "stream",
     "text": [
      "INFO:Agent:Model saved to CNN_survive_score_diff_large_latest.pth\n"
     ]
    },
    {
     "name": "stdout",
     "output_type": "stream",
     "text": [
      "Evaluate with [Position] \t win rate:1.0\n",
      "===========================\n",
      "[Training] epoch: 2090 black: 22 white: 24\n",
      "Evaluate with [Random] \t win rate:0.73\n"
     ]
    },
    {
     "name": "stderr",
     "output_type": "stream",
     "text": [
      "INFO:Agent:Model saved to CNN_survive_score_diff_large_latest.pth\n"
     ]
    },
    {
     "name": "stdout",
     "output_type": "stream",
     "text": [
      "Evaluate with [Position] \t win rate:1.0\n",
      "===========================\n",
      "[Training] epoch: 2100 black: 24 white: 24\n",
      "Evaluate with [Random] \t win rate:0.77\n"
     ]
    },
    {
     "name": "stderr",
     "output_type": "stream",
     "text": [
      "INFO:Agent:Model saved to CNN_survive_score_diff_large_latest.pth\n"
     ]
    },
    {
     "name": "stdout",
     "output_type": "stream",
     "text": [
      "Evaluate with [Position] \t win rate:1.0\n",
      "===========================\n",
      "[Training] epoch: 2110 black: 20 white: 29\n",
      "Evaluate with [Random] \t win rate:0.73\n"
     ]
    },
    {
     "name": "stderr",
     "output_type": "stream",
     "text": [
      "INFO:Agent:Model saved to CNN_survive_score_diff_large_latest.pth\n"
     ]
    },
    {
     "name": "stdout",
     "output_type": "stream",
     "text": [
      "Evaluate with [Position] \t win rate:1.0\n",
      "===========================\n",
      "[Training] epoch: 2120 black: 13 white: 35\n",
      "Evaluate with [Random] \t win rate:0.77\n"
     ]
    },
    {
     "name": "stderr",
     "output_type": "stream",
     "text": [
      "INFO:Agent:Model saved to CNN_survive_score_diff_large_latest.pth\n"
     ]
    },
    {
     "name": "stdout",
     "output_type": "stream",
     "text": [
      "Evaluate with [Position] \t win rate:1.0\n",
      "===========================\n",
      "[Training] epoch: 2130 black: 21 white: 26\n",
      "Evaluate with [Random] \t win rate:0.775\n"
     ]
    },
    {
     "name": "stderr",
     "output_type": "stream",
     "text": [
      "INFO:Agent:Model saved to CNN_survive_score_diff_large_latest.pth\n"
     ]
    },
    {
     "name": "stdout",
     "output_type": "stream",
     "text": [
      "Evaluate with [Position] \t win rate:1.0\n",
      "===========================\n",
      "[Training] epoch: 2140 black: 20 white: 28\n",
      "Evaluate with [Random] \t win rate:0.745\n"
     ]
    },
    {
     "name": "stderr",
     "output_type": "stream",
     "text": [
      "INFO:Agent:Model saved to CNN_survive_score_diff_large_latest.pth\n"
     ]
    },
    {
     "name": "stdout",
     "output_type": "stream",
     "text": [
      "Evaluate with [Position] \t win rate:0.0\n",
      "===========================\n",
      "[Training] epoch: 2150 black: 15 white: 32\n",
      "Evaluate with [Random] \t win rate:0.775\n"
     ]
    },
    {
     "name": "stderr",
     "output_type": "stream",
     "text": [
      "INFO:Agent:Model saved to CNN_survive_score_diff_large_latest.pth\n"
     ]
    },
    {
     "name": "stdout",
     "output_type": "stream",
     "text": [
      "Evaluate with [Position] \t win rate:0.0\n",
      "===========================\n",
      "[Training] epoch: 2160 black: 20 white: 27\n",
      "Evaluate with [Random] \t win rate:0.81\n"
     ]
    },
    {
     "name": "stderr",
     "output_type": "stream",
     "text": [
      "INFO:Agent:Model saved to CNN_survive_score_diff_large_latest.pth\n"
     ]
    },
    {
     "name": "stdout",
     "output_type": "stream",
     "text": [
      "Evaluate with [Position] \t win rate:1.0\n",
      "===========================\n",
      "[Training] epoch: 2170 black: 18 white: 29\n",
      "Evaluate with [Random] \t win rate:0.785\n",
      "Evaluate with [Position] \t win rate:0.0\n"
     ]
    },
    {
     "name": "stderr",
     "output_type": "stream",
     "text": [
      "INFO:Agent:Model saved to CNN_survive_score_diff_large_latest.pth\n"
     ]
    },
    {
     "name": "stdout",
     "output_type": "stream",
     "text": [
      "===========================\n",
      "[Training] epoch: 2180 black: 23 white: 26\n",
      "Evaluate with [Random] \t win rate:0.7\n",
      "Evaluate with [Position] \t win rate:1.0\n"
     ]
    },
    {
     "name": "stderr",
     "output_type": "stream",
     "text": [
      "INFO:Agent:Model saved to CNN_survive_score_diff_large_latest.pth\n"
     ]
    },
    {
     "name": "stdout",
     "output_type": "stream",
     "text": [
      "===========================\n",
      "[Training] epoch: 2190 black: 24 white: 25\n",
      "Evaluate with [Random] \t win rate:0.79\n"
     ]
    },
    {
     "name": "stderr",
     "output_type": "stream",
     "text": [
      "INFO:Agent:Model saved to CNN_survive_score_diff_large_latest.pth\n"
     ]
    },
    {
     "name": "stdout",
     "output_type": "stream",
     "text": [
      "Evaluate with [Position] \t win rate:1.0\n",
      "===========================\n",
      "[Training] epoch: 2200 black: 23 white: 26\n",
      "Evaluate with [Random] \t win rate:0.74\n"
     ]
    },
    {
     "name": "stderr",
     "output_type": "stream",
     "text": [
      "INFO:Agent:Model saved to CNN_survive_score_diff_large_latest.pth\n"
     ]
    },
    {
     "name": "stdout",
     "output_type": "stream",
     "text": [
      "Evaluate with [Position] \t win rate:1.0\n",
      "===========================\n",
      "[Training] epoch: 2210 black: 19 white: 27\n",
      "Evaluate with [Random] \t win rate:0.78\n"
     ]
    },
    {
     "name": "stderr",
     "output_type": "stream",
     "text": [
      "INFO:Agent:Model saved to CNN_survive_score_diff_large_latest.pth\n"
     ]
    },
    {
     "name": "stdout",
     "output_type": "stream",
     "text": [
      "Evaluate with [Position] \t win rate:1.0\n",
      "===========================\n",
      "[Training] epoch: 2220 black: 19 white: 30\n",
      "Evaluate with [Random] \t win rate:0.735\n"
     ]
    },
    {
     "name": "stderr",
     "output_type": "stream",
     "text": [
      "INFO:Agent:Model saved to CNN_survive_score_diff_large_latest.pth\n"
     ]
    },
    {
     "name": "stdout",
     "output_type": "stream",
     "text": [
      "Evaluate with [Position] \t win rate:1.0\n",
      "===========================\n",
      "[Training] epoch: 2230 black: 22 white: 25\n",
      "Evaluate with [Random] \t win rate:0.825\n"
     ]
    },
    {
     "name": "stderr",
     "output_type": "stream",
     "text": [
      "INFO:Agent:Model saved to CNN_survive_score_diff_large_latest.pth\n"
     ]
    },
    {
     "name": "stdout",
     "output_type": "stream",
     "text": [
      "Evaluate with [Position] \t win rate:1.0\n",
      "===========================\n",
      "[Training] epoch: 2240 black: 23 white: 25\n",
      "Evaluate with [Random] \t win rate:0.775\n"
     ]
    },
    {
     "name": "stderr",
     "output_type": "stream",
     "text": [
      "INFO:Agent:Model saved to CNN_survive_score_diff_large_latest.pth\n"
     ]
    },
    {
     "name": "stdout",
     "output_type": "stream",
     "text": [
      "Evaluate with [Position] \t win rate:0.0\n",
      "===========================\n",
      "[Training] epoch: 2250 black: 22 white: 26\n",
      "Evaluate with [Random] \t win rate:0.775\n"
     ]
    },
    {
     "name": "stderr",
     "output_type": "stream",
     "text": [
      "INFO:Agent:Model saved to CNN_survive_score_diff_large_latest.pth\n"
     ]
    },
    {
     "name": "stdout",
     "output_type": "stream",
     "text": [
      "Evaluate with [Position] \t win rate:1.0\n",
      "===========================\n",
      "[Training] epoch: 2260 black: 21 white: 28\n",
      "Evaluate with [Random] \t win rate:0.73\n"
     ]
    },
    {
     "name": "stderr",
     "output_type": "stream",
     "text": [
      "INFO:Agent:Model saved to CNN_survive_score_diff_large_latest.pth\n"
     ]
    },
    {
     "name": "stdout",
     "output_type": "stream",
     "text": [
      "Evaluate with [Position] \t win rate:1.0\n",
      "===========================\n",
      "[Training] epoch: 2270 black: 26 white: 24\n",
      "Evaluate with [Random] \t win rate:0.77\n"
     ]
    },
    {
     "name": "stderr",
     "output_type": "stream",
     "text": [
      "INFO:Agent:Model saved to CNN_survive_score_diff_large_latest.pth\n"
     ]
    },
    {
     "name": "stdout",
     "output_type": "stream",
     "text": [
      "Evaluate with [Position] \t win rate:1.0\n",
      "===========================\n",
      "[Training] epoch: 2280 black: 23 white: 22\n",
      "Evaluate with [Random] \t win rate:0.725\n"
     ]
    },
    {
     "name": "stderr",
     "output_type": "stream",
     "text": [
      "INFO:Agent:Model saved to CNN_survive_score_diff_large_latest.pth\n"
     ]
    },
    {
     "name": "stdout",
     "output_type": "stream",
     "text": [
      "Evaluate with [Position] \t win rate:1.0\n",
      "===========================\n",
      "[Training] epoch: 2290 black: 26 white: 23\n",
      "Evaluate with [Random] \t win rate:0.765\n"
     ]
    },
    {
     "name": "stderr",
     "output_type": "stream",
     "text": [
      "INFO:Agent:Model saved to CNN_survive_score_diff_large_latest.pth\n"
     ]
    },
    {
     "name": "stdout",
     "output_type": "stream",
     "text": [
      "Evaluate with [Position] \t win rate:1.0\n",
      "===========================\n",
      "[Training] epoch: 2300 black: 21 white: 25\n",
      "Evaluate with [Random] \t win rate:0.705\n"
     ]
    },
    {
     "name": "stderr",
     "output_type": "stream",
     "text": [
      "INFO:Agent:Model saved to CNN_survive_score_diff_large_latest.pth\n"
     ]
    },
    {
     "name": "stdout",
     "output_type": "stream",
     "text": [
      "Evaluate with [Position] \t win rate:1.0\n",
      "===========================\n",
      "[Training] epoch: 2310 black: 21 white: 26\n",
      "Evaluate with [Random] \t win rate:0.76\n"
     ]
    },
    {
     "name": "stderr",
     "output_type": "stream",
     "text": [
      "INFO:Agent:Model saved to CNN_survive_score_diff_large_latest.pth\n"
     ]
    },
    {
     "name": "stdout",
     "output_type": "stream",
     "text": [
      "Evaluate with [Position] \t win rate:1.0\n",
      "===========================\n",
      "[Training] epoch: 2320 black: 20 white: 29\n",
      "Evaluate with [Random] \t win rate:0.78\n"
     ]
    },
    {
     "name": "stderr",
     "output_type": "stream",
     "text": [
      "INFO:Agent:Model saved to CNN_survive_score_diff_large_latest.pth\n"
     ]
    },
    {
     "name": "stdout",
     "output_type": "stream",
     "text": [
      "Evaluate with [Position] \t win rate:1.0\n",
      "===========================\n",
      "[Training] epoch: 2330 black: 23 white: 24\n",
      "Evaluate with [Random] \t win rate:0.765\n"
     ]
    },
    {
     "name": "stderr",
     "output_type": "stream",
     "text": [
      "INFO:Agent:Model saved to CNN_survive_score_diff_large_latest.pth\n"
     ]
    },
    {
     "name": "stdout",
     "output_type": "stream",
     "text": [
      "Evaluate with [Position] \t win rate:0.0\n",
      "===========================\n",
      "[Training] epoch: 2340 black: 22 white: 24\n",
      "Evaluate with [Random] \t win rate:0.775\n"
     ]
    },
    {
     "name": "stderr",
     "output_type": "stream",
     "text": [
      "INFO:Agent:Model saved to CNN_survive_score_diff_large_latest.pth\n"
     ]
    },
    {
     "name": "stdout",
     "output_type": "stream",
     "text": [
      "Evaluate with [Position] \t win rate:1.0\n",
      "===========================\n",
      "[Training] epoch: 2350 black: 16 white: 33\n",
      "Evaluate with [Random] \t win rate:0.775\n",
      "Evaluate with [Position] \t win rate:0.0\n"
     ]
    },
    {
     "name": "stderr",
     "output_type": "stream",
     "text": [
      "INFO:Agent:Model saved to CNN_survive_score_diff_large_latest.pth\n"
     ]
    },
    {
     "name": "stdout",
     "output_type": "stream",
     "text": [
      "===========================\n",
      "[Training] epoch: 2360 black: 33 white: 15\n",
      "Evaluate with [Random] \t win rate:0.735\n"
     ]
    },
    {
     "name": "stderr",
     "output_type": "stream",
     "text": [
      "INFO:Agent:Model saved to CNN_survive_score_diff_large_latest.pth\n"
     ]
    },
    {
     "name": "stdout",
     "output_type": "stream",
     "text": [
      "Evaluate with [Position] \t win rate:1.0\n",
      "===========================\n",
      "[Training] epoch: 2370 black: 23 white: 25\n",
      "Evaluate with [Random] \t win rate:0.77\n"
     ]
    },
    {
     "name": "stderr",
     "output_type": "stream",
     "text": [
      "INFO:Agent:Model saved to CNN_survive_score_diff_large_latest.pth\n"
     ]
    },
    {
     "name": "stdout",
     "output_type": "stream",
     "text": [
      "Evaluate with [Position] \t win rate:1.0\n",
      "===========================\n",
      "[Training] epoch: 2380 black: 22 white: 28\n"
     ]
    },
    {
     "name": "stderr",
     "output_type": "stream",
     "text": [
      "INFO:Agent:Model saved to CNN_survive_score_diff_large_latest.pth\n"
     ]
    },
    {
     "name": "stdout",
     "output_type": "stream",
     "text": [
      "Evaluate with [Random] \t win rate:0.775\n",
      "Evaluate with [Position] \t win rate:1.0\n",
      "===========================\n",
      "[Training] epoch: 2390 black: 30 white: 18\n",
      "Evaluate with [Random] \t win rate:0.74\n",
      "Evaluate with [Position] \t win rate:1.0\n"
     ]
    },
    {
     "name": "stderr",
     "output_type": "stream",
     "text": [
      "INFO:Agent:Model saved to CNN_survive_score_diff_large_latest.pth\n"
     ]
    },
    {
     "name": "stdout",
     "output_type": "stream",
     "text": [
      "===========================\n",
      "[Training] epoch: 2400 black: 17 white: 29\n",
      "Evaluate with [Random] \t win rate:0.78\n"
     ]
    },
    {
     "name": "stderr",
     "output_type": "stream",
     "text": [
      "INFO:Agent:Model saved to CNN_survive_score_diff_large_latest.pth\n"
     ]
    },
    {
     "name": "stdout",
     "output_type": "stream",
     "text": [
      "Evaluate with [Position] \t win rate:1.0\n",
      "===========================\n",
      "[Training] epoch: 2410 black: 21 white: 25\n",
      "Evaluate with [Random] \t win rate:0.745\n"
     ]
    },
    {
     "name": "stderr",
     "output_type": "stream",
     "text": [
      "INFO:Agent:Model saved to CNN_survive_score_diff_large_latest.pth\n"
     ]
    },
    {
     "name": "stdout",
     "output_type": "stream",
     "text": [
      "Evaluate with [Position] \t win rate:1.0\n",
      "===========================\n",
      "[Training] epoch: 2420 black: 29 white: 20\n",
      "Evaluate with [Random] \t win rate:0.81\n"
     ]
    },
    {
     "name": "stderr",
     "output_type": "stream",
     "text": [
      "INFO:Agent:Model saved to CNN_survive_score_diff_large_latest.pth\n"
     ]
    },
    {
     "name": "stdout",
     "output_type": "stream",
     "text": [
      "Evaluate with [Position] \t win rate:1.0\n",
      "===========================\n",
      "[Training] epoch: 2430 black: 24 white: 24\n",
      "Evaluate with [Random] \t win rate:0.74\n"
     ]
    },
    {
     "name": "stderr",
     "output_type": "stream",
     "text": [
      "INFO:Agent:Model saved to CNN_survive_score_diff_large_latest.pth\n"
     ]
    },
    {
     "name": "stdout",
     "output_type": "stream",
     "text": [
      "Evaluate with [Position] \t win rate:1.0\n",
      "===========================\n",
      "[Training] epoch: 2440 black: 17 white: 30\n",
      "Evaluate with [Random] \t win rate:0.76\n",
      "Evaluate with [Position] \t win rate:1.0\n"
     ]
    },
    {
     "name": "stderr",
     "output_type": "stream",
     "text": [
      "INFO:Agent:Model saved to CNN_survive_score_diff_large_latest.pth\n"
     ]
    },
    {
     "name": "stdout",
     "output_type": "stream",
     "text": [
      "===========================\n",
      "[Training] epoch: 2450 black: 18 white: 29\n",
      "Evaluate with [Random] \t win rate:0.69\n"
     ]
    },
    {
     "name": "stderr",
     "output_type": "stream",
     "text": [
      "INFO:Agent:Model saved to CNN_survive_score_diff_large_latest.pth\n"
     ]
    },
    {
     "name": "stdout",
     "output_type": "stream",
     "text": [
      "Evaluate with [Position] \t win rate:1.0\n",
      "===========================\n",
      "[Training] epoch: 2460 black: 18 white: 27\n",
      "Evaluate with [Random] \t win rate:0.75\n"
     ]
    },
    {
     "name": "stderr",
     "output_type": "stream",
     "text": [
      "INFO:Agent:Model saved to CNN_survive_score_diff_large_latest.pth\n"
     ]
    },
    {
     "name": "stdout",
     "output_type": "stream",
     "text": [
      "Evaluate with [Position] \t win rate:1.0\n",
      "===========================\n",
      "[Training] epoch: 2470 black: 26 white: 22\n",
      "Evaluate with [Random] \t win rate:0.79\n",
      "Evaluate with [Position] \t win rate:1.0\n"
     ]
    },
    {
     "name": "stderr",
     "output_type": "stream",
     "text": [
      "INFO:Agent:Model saved to CNN_survive_score_diff_large_latest.pth\n"
     ]
    },
    {
     "name": "stdout",
     "output_type": "stream",
     "text": [
      "===========================\n",
      "[Training] epoch: 2480 black: 28 white: 20\n",
      "Evaluate with [Random] \t win rate:0.82\n"
     ]
    },
    {
     "name": "stderr",
     "output_type": "stream",
     "text": [
      "INFO:Agent:Model saved to CNN_survive_score_diff_large_latest.pth\n"
     ]
    },
    {
     "name": "stdout",
     "output_type": "stream",
     "text": [
      "Evaluate with [Position] \t win rate:0.0\n",
      "===========================\n",
      "[Training] epoch: 2490 black: 23 white: 26\n",
      "Evaluate with [Random] \t win rate:0.76\n"
     ]
    },
    {
     "name": "stderr",
     "output_type": "stream",
     "text": [
      "INFO:Agent:Model saved to CNN_survive_score_diff_large_latest.pth\n"
     ]
    },
    {
     "name": "stdout",
     "output_type": "stream",
     "text": [
      "Evaluate with [Position] \t win rate:1.0\n",
      "===========================\n",
      "[Training] epoch: 2500 black: 26 white: 21\n",
      "Evaluate with [Random] \t win rate:0.775\n"
     ]
    },
    {
     "name": "stderr",
     "output_type": "stream",
     "text": [
      "INFO:Agent:Model saved to CNN_survive_score_diff_large_latest.pth\n"
     ]
    },
    {
     "name": "stdout",
     "output_type": "stream",
     "text": [
      "Evaluate with [Position] \t win rate:1.0\n",
      "===========================\n",
      "[Training] epoch: 2510 black: 24 white: 24\n",
      "Evaluate with [Random] \t win rate:0.7\n"
     ]
    },
    {
     "name": "stderr",
     "output_type": "stream",
     "text": [
      "INFO:Agent:Model saved to CNN_survive_score_diff_large_latest.pth\n"
     ]
    },
    {
     "name": "stdout",
     "output_type": "stream",
     "text": [
      "Evaluate with [Position] \t win rate:1.0\n",
      "===========================\n",
      "[Training] epoch: 2520 black: 25 white: 21\n",
      "Evaluate with [Random] \t win rate:0.82\n"
     ]
    },
    {
     "name": "stderr",
     "output_type": "stream",
     "text": [
      "INFO:Agent:Model saved to CNN_survive_score_diff_large_latest.pth\n"
     ]
    },
    {
     "name": "stdout",
     "output_type": "stream",
     "text": [
      "Evaluate with [Position] \t win rate:1.0\n",
      "===========================\n",
      "[Training] epoch: 2530 black: 27 white: 20\n",
      "Evaluate with [Random] \t win rate:0.685\n"
     ]
    },
    {
     "name": "stderr",
     "output_type": "stream",
     "text": [
      "INFO:Agent:Model saved to CNN_survive_score_diff_large_latest.pth\n"
     ]
    },
    {
     "name": "stdout",
     "output_type": "stream",
     "text": [
      "Evaluate with [Position] \t win rate:0.0\n",
      "===========================\n",
      "[Training] epoch: 2540 black: 19 white: 28\n",
      "Evaluate with [Random] \t win rate:0.77\n"
     ]
    },
    {
     "name": "stderr",
     "output_type": "stream",
     "text": [
      "INFO:Agent:Model saved to CNN_survive_score_diff_large_latest.pth\n"
     ]
    },
    {
     "name": "stdout",
     "output_type": "stream",
     "text": [
      "Evaluate with [Position] \t win rate:1.0\n",
      "===========================\n",
      "[Training] epoch: 2550 black: 28 white: 19\n",
      "Evaluate with [Random] \t win rate:0.72\n",
      "Evaluate with [Position] \t win rate:0.0\n"
     ]
    },
    {
     "name": "stderr",
     "output_type": "stream",
     "text": [
      "INFO:Agent:Model saved to CNN_survive_score_diff_large_latest.pth\n"
     ]
    },
    {
     "name": "stdout",
     "output_type": "stream",
     "text": [
      "===========================\n",
      "[Training] epoch: 2560 black: 20 white: 27\n",
      "Evaluate with [Random] \t win rate:0.725\n"
     ]
    },
    {
     "name": "stderr",
     "output_type": "stream",
     "text": [
      "INFO:Agent:Model saved to CNN_survive_score_diff_large_latest.pth\n"
     ]
    },
    {
     "name": "stdout",
     "output_type": "stream",
     "text": [
      "Evaluate with [Position] \t win rate:0.0\n",
      "===========================\n",
      "[Training] epoch: 2570 black: 18 white: 28\n",
      "Evaluate with [Random] \t win rate:0.785\n"
     ]
    },
    {
     "name": "stderr",
     "output_type": "stream",
     "text": [
      "INFO:Agent:Model saved to CNN_survive_score_diff_large_latest.pth\n"
     ]
    },
    {
     "name": "stdout",
     "output_type": "stream",
     "text": [
      "Evaluate with [Position] \t win rate:1.0\n",
      "===========================\n",
      "[Training] epoch: 2580 black: 24 white: 23\n",
      "Evaluate with [Random] \t win rate:0.76\n"
     ]
    },
    {
     "name": "stderr",
     "output_type": "stream",
     "text": [
      "INFO:Agent:Model saved to CNN_survive_score_diff_large_latest.pth\n"
     ]
    },
    {
     "name": "stdout",
     "output_type": "stream",
     "text": [
      "Evaluate with [Position] \t win rate:1.0\n",
      "===========================\n",
      "[Training] epoch: 2590 black: 23 white: 24\n",
      "Evaluate with [Random] \t win rate:0.775\n"
     ]
    },
    {
     "name": "stderr",
     "output_type": "stream",
     "text": [
      "INFO:Agent:Model saved to CNN_survive_score_diff_large_latest.pth\n"
     ]
    },
    {
     "name": "stdout",
     "output_type": "stream",
     "text": [
      "Evaluate with [Position] \t win rate:1.0\n",
      "===========================\n",
      "[Training] epoch: 2600 black: 25 white: 22\n",
      "Evaluate with [Random] \t win rate:0.79\n"
     ]
    },
    {
     "name": "stderr",
     "output_type": "stream",
     "text": [
      "INFO:Agent:Model saved to CNN_survive_score_diff_large_latest.pth\n"
     ]
    },
    {
     "name": "stdout",
     "output_type": "stream",
     "text": [
      "Evaluate with [Position] \t win rate:1.0\n",
      "===========================\n",
      "[Training] epoch: 2610 black: 25 white: 22\n",
      "Evaluate with [Random] \t win rate:0.78\n"
     ]
    },
    {
     "name": "stderr",
     "output_type": "stream",
     "text": [
      "INFO:Agent:Model saved to CNN_survive_score_diff_large_latest.pth\n"
     ]
    },
    {
     "name": "stdout",
     "output_type": "stream",
     "text": [
      "Evaluate with [Position] \t win rate:1.0\n",
      "===========================\n",
      "[Training] epoch: 2620 black: 28 white: 18\n",
      "Evaluate with [Random] \t win rate:0.725\n"
     ]
    },
    {
     "name": "stderr",
     "output_type": "stream",
     "text": [
      "INFO:Agent:Model saved to CNN_survive_score_diff_large_latest.pth\n"
     ]
    },
    {
     "name": "stdout",
     "output_type": "stream",
     "text": [
      "Evaluate with [Position] \t win rate:1.0\n",
      "===========================\n",
      "[Training] epoch: 2630 black: 29 white: 18\n",
      "Evaluate with [Random] \t win rate:0.685\n",
      "Evaluate with [Position] \t win rate:1.0\n"
     ]
    },
    {
     "name": "stderr",
     "output_type": "stream",
     "text": [
      "INFO:Agent:Model saved to CNN_survive_score_diff_large_latest.pth\n"
     ]
    },
    {
     "name": "stdout",
     "output_type": "stream",
     "text": [
      "===========================\n",
      "[Training] epoch: 2640 black: 19 white: 29\n",
      "Evaluate with [Random] \t win rate:0.765\n"
     ]
    },
    {
     "name": "stderr",
     "output_type": "stream",
     "text": [
      "INFO:Agent:Model saved to CNN_survive_score_diff_large_latest.pth\n"
     ]
    },
    {
     "name": "stdout",
     "output_type": "stream",
     "text": [
      "Evaluate with [Position] \t win rate:1.0\n",
      "===========================\n",
      "[Training] epoch: 2650 black: 26 white: 22\n",
      "Evaluate with [Random] \t win rate:0.715\n"
     ]
    },
    {
     "name": "stderr",
     "output_type": "stream",
     "text": [
      "INFO:Agent:Model saved to CNN_survive_score_diff_large_latest.pth\n"
     ]
    },
    {
     "name": "stdout",
     "output_type": "stream",
     "text": [
      "Evaluate with [Position] \t win rate:1.0\n",
      "===========================\n",
      "[Training] epoch: 2660 black: 23 white: 24\n",
      "Evaluate with [Random] \t win rate:0.725\n"
     ]
    },
    {
     "name": "stderr",
     "output_type": "stream",
     "text": [
      "INFO:Agent:Model saved to CNN_survive_score_diff_large_latest.pth\n"
     ]
    },
    {
     "name": "stdout",
     "output_type": "stream",
     "text": [
      "Evaluate with [Position] \t win rate:0.0\n",
      "===========================\n",
      "[Training] epoch: 2670 black: 19 white: 30\n",
      "Evaluate with [Random] \t win rate:0.765\n"
     ]
    },
    {
     "name": "stderr",
     "output_type": "stream",
     "text": [
      "INFO:Agent:Model saved to CNN_survive_score_diff_large_latest.pth\n"
     ]
    },
    {
     "name": "stdout",
     "output_type": "stream",
     "text": [
      "Evaluate with [Position] \t win rate:1.0\n",
      "===========================\n",
      "[Training] epoch: 2680 black: 21 white: 24\n",
      "Evaluate with [Random] \t win rate:0.725\n"
     ]
    },
    {
     "name": "stderr",
     "output_type": "stream",
     "text": [
      "INFO:Agent:Model saved to CNN_survive_score_diff_large_latest.pth\n"
     ]
    },
    {
     "name": "stdout",
     "output_type": "stream",
     "text": [
      "Evaluate with [Position] \t win rate:0.0\n",
      "===========================\n",
      "[Training] epoch: 2690 black: 22 white: 28\n",
      "Evaluate with [Random] \t win rate:0.75\n"
     ]
    },
    {
     "name": "stderr",
     "output_type": "stream",
     "text": [
      "INFO:Agent:Model saved to CNN_survive_score_diff_large_latest.pth\n"
     ]
    },
    {
     "name": "stdout",
     "output_type": "stream",
     "text": [
      "Evaluate with [Position] \t win rate:0.0\n",
      "===========================\n",
      "[Training] epoch: 2700 black: 27 white: 22\n",
      "Evaluate with [Random] \t win rate:0.755\n"
     ]
    },
    {
     "name": "stderr",
     "output_type": "stream",
     "text": [
      "INFO:Agent:Model saved to CNN_survive_score_diff_large_latest.pth\n"
     ]
    },
    {
     "name": "stdout",
     "output_type": "stream",
     "text": [
      "Evaluate with [Position] \t win rate:1.0\n",
      "===========================\n",
      "[Training] epoch: 2710 black: 25 white: 24\n",
      "Evaluate with [Random] \t win rate:0.77\n"
     ]
    },
    {
     "name": "stderr",
     "output_type": "stream",
     "text": [
      "INFO:Agent:Model saved to CNN_survive_score_diff_large_latest.pth\n"
     ]
    },
    {
     "name": "stdout",
     "output_type": "stream",
     "text": [
      "Evaluate with [Position] \t win rate:0.0\n",
      "===========================\n",
      "[Training] epoch: 2720 black: 27 white: 23\n",
      "Evaluate with [Random] \t win rate:0.795\n"
     ]
    },
    {
     "name": "stderr",
     "output_type": "stream",
     "text": [
      "INFO:Agent:Model saved to CNN_survive_score_diff_large_latest.pth\n"
     ]
    },
    {
     "name": "stdout",
     "output_type": "stream",
     "text": [
      "Evaluate with [Position] \t win rate:1.0\n",
      "===========================\n",
      "[Training] epoch: 2730 black: 20 white: 27\n",
      "Evaluate with [Random] \t win rate:0.71\n"
     ]
    },
    {
     "name": "stderr",
     "output_type": "stream",
     "text": [
      "INFO:Agent:Model saved to CNN_survive_score_diff_large_latest.pth\n"
     ]
    },
    {
     "name": "stdout",
     "output_type": "stream",
     "text": [
      "Evaluate with [Position] \t win rate:0.0\n",
      "===========================\n",
      "[Training] epoch: 2740 black: 25 white: 21\n",
      "Evaluate with [Random] \t win rate:0.71\n"
     ]
    },
    {
     "name": "stderr",
     "output_type": "stream",
     "text": [
      "INFO:Agent:Model saved to CNN_survive_score_diff_large_latest.pth\n"
     ]
    },
    {
     "name": "stdout",
     "output_type": "stream",
     "text": [
      "Evaluate with [Position] \t win rate:0.0\n",
      "===========================\n",
      "[Training] epoch: 2750 black: 21 white: 28\n",
      "Evaluate with [Random] \t win rate:0.72\n"
     ]
    },
    {
     "name": "stderr",
     "output_type": "stream",
     "text": [
      "INFO:Agent:Model saved to CNN_survive_score_diff_large_latest.pth\n"
     ]
    },
    {
     "name": "stdout",
     "output_type": "stream",
     "text": [
      "Evaluate with [Position] \t win rate:1.0\n",
      "===========================\n",
      "[Training] epoch: 2760 black: 23 white: 23\n",
      "Evaluate with [Random] \t win rate:0.74\n"
     ]
    },
    {
     "name": "stderr",
     "output_type": "stream",
     "text": [
      "INFO:Agent:Model saved to CNN_survive_score_diff_large_latest.pth\n"
     ]
    },
    {
     "name": "stdout",
     "output_type": "stream",
     "text": [
      "Evaluate with [Position] \t win rate:1.0\n",
      "===========================\n",
      "[Training] epoch: 2770 black: 20 white: 24\n",
      "Evaluate with [Random] \t win rate:0.755\n"
     ]
    },
    {
     "name": "stderr",
     "output_type": "stream",
     "text": [
      "INFO:Agent:Model saved to CNN_survive_score_diff_large_latest.pth\n"
     ]
    },
    {
     "name": "stdout",
     "output_type": "stream",
     "text": [
      "Evaluate with [Position] \t win rate:0.0\n",
      "===========================\n",
      "[Training] epoch: 2780 black: 28 white: 18\n",
      "Evaluate with [Random] \t win rate:0.665\n"
     ]
    },
    {
     "name": "stderr",
     "output_type": "stream",
     "text": [
      "INFO:Agent:Model saved to CNN_survive_score_diff_large_latest.pth\n"
     ]
    },
    {
     "name": "stdout",
     "output_type": "stream",
     "text": [
      "Evaluate with [Position] \t win rate:1.0\n",
      "===========================\n",
      "[Training] epoch: 2790 black: 20 white: 30\n",
      "Evaluate with [Random] \t win rate:0.72\n"
     ]
    },
    {
     "name": "stderr",
     "output_type": "stream",
     "text": [
      "INFO:Agent:Model saved to CNN_survive_score_diff_large_latest.pth\n"
     ]
    },
    {
     "name": "stdout",
     "output_type": "stream",
     "text": [
      "Evaluate with [Position] \t win rate:0.0\n",
      "===========================\n",
      "[Training] epoch: 2800 black: 19 white: 29\n",
      "Evaluate with [Random] \t win rate:0.745\n"
     ]
    },
    {
     "name": "stderr",
     "output_type": "stream",
     "text": [
      "INFO:Agent:Model saved to CNN_survive_score_diff_large_latest.pth\n"
     ]
    },
    {
     "name": "stdout",
     "output_type": "stream",
     "text": [
      "Evaluate with [Position] \t win rate:1.0\n",
      "===========================\n",
      "[Training] epoch: 2810 black: 15 white: 33\n",
      "Evaluate with [Random] \t win rate:0.74\n"
     ]
    },
    {
     "name": "stderr",
     "output_type": "stream",
     "text": [
      "INFO:Agent:Model saved to CNN_survive_score_diff_large_latest.pth\n"
     ]
    },
    {
     "name": "stdout",
     "output_type": "stream",
     "text": [
      "Evaluate with [Position] \t win rate:1.0\n",
      "===========================\n",
      "[Training] epoch: 2820 black: 27 white: 22\n",
      "Evaluate with [Random] \t win rate:0.76\n"
     ]
    },
    {
     "name": "stderr",
     "output_type": "stream",
     "text": [
      "INFO:Agent:Model saved to CNN_survive_score_diff_large_latest.pth\n"
     ]
    },
    {
     "name": "stdout",
     "output_type": "stream",
     "text": [
      "Evaluate with [Position] \t win rate:0.0\n",
      "===========================\n",
      "[Training] epoch: 2830 black: 25 white: 23\n",
      "Evaluate with [Random] \t win rate:0.74\n"
     ]
    },
    {
     "name": "stderr",
     "output_type": "stream",
     "text": [
      "INFO:Agent:Model saved to CNN_survive_score_diff_large_latest.pth\n"
     ]
    },
    {
     "name": "stdout",
     "output_type": "stream",
     "text": [
      "Evaluate with [Position] \t win rate:1.0\n",
      "===========================\n",
      "[Training] epoch: 2840 black: 23 white: 26\n",
      "Evaluate with [Random] \t win rate:0.78\n"
     ]
    },
    {
     "name": "stderr",
     "output_type": "stream",
     "text": [
      "INFO:Agent:Model saved to CNN_survive_score_diff_large_latest.pth\n"
     ]
    },
    {
     "name": "stdout",
     "output_type": "stream",
     "text": [
      "Evaluate with [Position] \t win rate:0.0\n",
      "===========================\n",
      "[Training] epoch: 2850 black: 21 white: 28\n",
      "Evaluate with [Random] \t win rate:0.74\n"
     ]
    },
    {
     "name": "stderr",
     "output_type": "stream",
     "text": [
      "INFO:Agent:Model saved to CNN_survive_score_diff_large_latest.pth\n"
     ]
    },
    {
     "name": "stdout",
     "output_type": "stream",
     "text": [
      "Evaluate with [Position] \t win rate:0.0\n",
      "===========================\n",
      "[Training] epoch: 2860 black: 26 white: 22\n",
      "Evaluate with [Random] \t win rate:0.78\n"
     ]
    },
    {
     "name": "stderr",
     "output_type": "stream",
     "text": [
      "INFO:Agent:Model saved to CNN_survive_score_diff_large_latest.pth\n"
     ]
    },
    {
     "name": "stdout",
     "output_type": "stream",
     "text": [
      "Evaluate with [Position] \t win rate:1.0\n",
      "===========================\n",
      "[Training] epoch: 2870 black: 16 white: 29\n",
      "Evaluate with [Random] \t win rate:0.71\n"
     ]
    },
    {
     "name": "stderr",
     "output_type": "stream",
     "text": [
      "INFO:Agent:Model saved to CNN_survive_score_diff_large_latest.pth\n"
     ]
    },
    {
     "name": "stdout",
     "output_type": "stream",
     "text": [
      "Evaluate with [Position] \t win rate:1.0\n",
      "===========================\n",
      "[Training] epoch: 2880 black: 24 white: 25\n",
      "Evaluate with [Random] \t win rate:0.715\n"
     ]
    },
    {
     "name": "stderr",
     "output_type": "stream",
     "text": [
      "INFO:Agent:Model saved to CNN_survive_score_diff_large_latest.pth\n"
     ]
    },
    {
     "name": "stdout",
     "output_type": "stream",
     "text": [
      "Evaluate with [Position] \t win rate:0.0\n",
      "===========================\n",
      "[Training] epoch: 2890 black: 21 white: 29\n",
      "Evaluate with [Random] \t win rate:0.78\n"
     ]
    },
    {
     "name": "stderr",
     "output_type": "stream",
     "text": [
      "INFO:Agent:Model saved to CNN_survive_score_diff_large_latest.pth\n"
     ]
    },
    {
     "name": "stdout",
     "output_type": "stream",
     "text": [
      "Evaluate with [Position] \t win rate:0.0\n",
      "===========================\n",
      "[Training] epoch: 2900 black: 21 white: 28\n",
      "Evaluate with [Random] \t win rate:0.775\n"
     ]
    },
    {
     "name": "stderr",
     "output_type": "stream",
     "text": [
      "INFO:Agent:Model saved to CNN_survive_score_diff_large_latest.pth\n"
     ]
    },
    {
     "name": "stdout",
     "output_type": "stream",
     "text": [
      "Evaluate with [Position] \t win rate:0.0\n",
      "===========================\n",
      "[Training] epoch: 2910 black: 23 white: 26\n",
      "Evaluate with [Random] \t win rate:0.725\n"
     ]
    },
    {
     "name": "stderr",
     "output_type": "stream",
     "text": [
      "INFO:Agent:Model saved to CNN_survive_score_diff_large_latest.pth\n"
     ]
    },
    {
     "name": "stdout",
     "output_type": "stream",
     "text": [
      "Evaluate with [Position] \t win rate:1.0\n",
      "===========================\n",
      "[Training] epoch: 2920 black: 26 white: 23\n",
      "Evaluate with [Random] \t win rate:0.76\n"
     ]
    },
    {
     "name": "stderr",
     "output_type": "stream",
     "text": [
      "INFO:Agent:Model saved to CNN_survive_score_diff_large_latest.pth\n"
     ]
    },
    {
     "name": "stdout",
     "output_type": "stream",
     "text": [
      "Evaluate with [Position] \t win rate:0.0\n",
      "===========================\n",
      "[Training] epoch: 2930 black: 24 white: 25\n",
      "Evaluate with [Random] \t win rate:0.735\n"
     ]
    },
    {
     "name": "stderr",
     "output_type": "stream",
     "text": [
      "INFO:Agent:Model saved to CNN_survive_score_diff_large_latest.pth\n"
     ]
    },
    {
     "name": "stdout",
     "output_type": "stream",
     "text": [
      "Evaluate with [Position] \t win rate:0.0\n",
      "===========================\n",
      "[Training] epoch: 2940 black: 21 white: 22\n",
      "Evaluate with [Random] \t win rate:0.745\n"
     ]
    },
    {
     "name": "stderr",
     "output_type": "stream",
     "text": [
      "INFO:Agent:Model saved to CNN_survive_score_diff_large_latest.pth\n"
     ]
    },
    {
     "name": "stdout",
     "output_type": "stream",
     "text": [
      "Evaluate with [Position] \t win rate:0.0\n",
      "===========================\n",
      "[Training] epoch: 2950 black: 27 white: 23\n",
      "Evaluate with [Random] \t win rate:0.735\n"
     ]
    },
    {
     "name": "stderr",
     "output_type": "stream",
     "text": [
      "INFO:Agent:Model saved to CNN_survive_score_diff_large_latest.pth\n"
     ]
    },
    {
     "name": "stdout",
     "output_type": "stream",
     "text": [
      "Evaluate with [Position] \t win rate:1.0\n",
      "===========================\n",
      "[Training] epoch: 2960 black: 29 white: 19\n",
      "Evaluate with [Random] \t win rate:0.74\n"
     ]
    },
    {
     "name": "stderr",
     "output_type": "stream",
     "text": [
      "INFO:Agent:Model saved to CNN_survive_score_diff_large_latest.pth\n"
     ]
    },
    {
     "name": "stdout",
     "output_type": "stream",
     "text": [
      "Evaluate with [Position] \t win rate:1.0\n",
      "===========================\n",
      "[Training] epoch: 2970 black: 23 white: 26\n",
      "Evaluate with [Random] \t win rate:0.78\n"
     ]
    },
    {
     "name": "stderr",
     "output_type": "stream",
     "text": [
      "INFO:Agent:Model saved to CNN_survive_score_diff_large_latest.pth\n"
     ]
    },
    {
     "name": "stdout",
     "output_type": "stream",
     "text": [
      "Evaluate with [Position] \t win rate:1.0\n",
      "===========================\n",
      "[Training] epoch: 2980 black: 22 white: 27\n",
      "Evaluate with [Random] \t win rate:0.67\n"
     ]
    },
    {
     "name": "stderr",
     "output_type": "stream",
     "text": [
      "INFO:Agent:Model saved to CNN_survive_score_diff_large_latest.pth\n"
     ]
    },
    {
     "name": "stdout",
     "output_type": "stream",
     "text": [
      "Evaluate with [Position] \t win rate:0.0\n",
      "===========================\n",
      "[Training] epoch: 2990 black: 20 white: 25\n",
      "Evaluate with [Random] \t win rate:0.74\n"
     ]
    },
    {
     "name": "stderr",
     "output_type": "stream",
     "text": [
      "INFO:Agent:Model saved to CNN_survive_score_diff_large_latest.pth\n"
     ]
    },
    {
     "name": "stdout",
     "output_type": "stream",
     "text": [
      "Evaluate with [Position] \t win rate:0.0\n",
      "===========================\n",
      "[Training] epoch: 3000 black: 24 white: 21\n",
      "Evaluate with [Random] \t win rate:0.79\n"
     ]
    },
    {
     "name": "stderr",
     "output_type": "stream",
     "text": [
      "INFO:Agent:Model saved to CNN_survive_score_diff_large_latest.pth\n"
     ]
    },
    {
     "name": "stdout",
     "output_type": "stream",
     "text": [
      "Evaluate with [Position] \t win rate:0.0\n",
      "===========================\n",
      "[Training] epoch: 3010 black: 19 white: 26\n",
      "Evaluate with [Random] \t win rate:0.72\n"
     ]
    },
    {
     "name": "stderr",
     "output_type": "stream",
     "text": [
      "INFO:Agent:Model saved to CNN_survive_score_diff_large_latest.pth\n"
     ]
    },
    {
     "name": "stdout",
     "output_type": "stream",
     "text": [
      "Evaluate with [Position] \t win rate:0.0\n",
      "===========================\n",
      "[Training] epoch: 3020 black: 27 white: 21\n",
      "Evaluate with [Random] \t win rate:0.65\n"
     ]
    },
    {
     "name": "stderr",
     "output_type": "stream",
     "text": [
      "INFO:Agent:Model saved to CNN_survive_score_diff_large_latest.pth\n"
     ]
    },
    {
     "name": "stdout",
     "output_type": "stream",
     "text": [
      "Evaluate with [Position] \t win rate:1.0\n",
      "===========================\n",
      "[Training] epoch: 3030 black: 25 white: 23\n",
      "Evaluate with [Random] \t win rate:0.79\n"
     ]
    },
    {
     "name": "stderr",
     "output_type": "stream",
     "text": [
      "INFO:Agent:Model saved to CNN_survive_score_diff_large_latest.pth\n"
     ]
    },
    {
     "name": "stdout",
     "output_type": "stream",
     "text": [
      "Evaluate with [Position] \t win rate:1.0\n",
      "===========================\n",
      "[Training] epoch: 3040 black: 24 white: 25\n",
      "Evaluate with [Random] \t win rate:0.735\n"
     ]
    },
    {
     "name": "stderr",
     "output_type": "stream",
     "text": [
      "INFO:Agent:Model saved to CNN_survive_score_diff_large_latest.pth\n"
     ]
    },
    {
     "name": "stdout",
     "output_type": "stream",
     "text": [
      "Evaluate with [Position] \t win rate:0.0\n",
      "===========================\n",
      "[Training] epoch: 3050 black: 19 white: 29\n",
      "Evaluate with [Random] \t win rate:0.755\n"
     ]
    },
    {
     "name": "stderr",
     "output_type": "stream",
     "text": [
      "INFO:Agent:Model saved to CNN_survive_score_diff_large_latest.pth\n"
     ]
    },
    {
     "name": "stdout",
     "output_type": "stream",
     "text": [
      "Evaluate with [Position] \t win rate:1.0\n",
      "===========================\n",
      "[Training] epoch: 3060 black: 22 white: 26\n",
      "Evaluate with [Random] \t win rate:0.765\n"
     ]
    },
    {
     "name": "stderr",
     "output_type": "stream",
     "text": [
      "INFO:Agent:Model saved to CNN_survive_score_diff_large_latest.pth\n"
     ]
    },
    {
     "name": "stdout",
     "output_type": "stream",
     "text": [
      "Evaluate with [Position] \t win rate:0.0\n",
      "===========================\n",
      "[Training] epoch: 3070 black: 31 white: 14\n",
      "Evaluate with [Random] \t win rate:0.71\n"
     ]
    },
    {
     "name": "stderr",
     "output_type": "stream",
     "text": [
      "INFO:Agent:Model saved to CNN_survive_score_diff_large_latest.pth\n"
     ]
    },
    {
     "name": "stdout",
     "output_type": "stream",
     "text": [
      "Evaluate with [Position] \t win rate:1.0\n",
      "===========================\n",
      "[Training] epoch: 3080 black: 20 white: 24\n",
      "Evaluate with [Random] \t win rate:0.815\n"
     ]
    },
    {
     "name": "stderr",
     "output_type": "stream",
     "text": [
      "INFO:Agent:Model saved to CNN_survive_score_diff_large_latest.pth\n"
     ]
    },
    {
     "name": "stdout",
     "output_type": "stream",
     "text": [
      "Evaluate with [Position] \t win rate:1.0\n",
      "===========================\n",
      "[Training] epoch: 3090 black: 23 white: 25\n",
      "Evaluate with [Random] \t win rate:0.74\n"
     ]
    },
    {
     "name": "stderr",
     "output_type": "stream",
     "text": [
      "INFO:Agent:Model saved to CNN_survive_score_diff_large_latest.pth\n"
     ]
    },
    {
     "name": "stdout",
     "output_type": "stream",
     "text": [
      "Evaluate with [Position] \t win rate:1.0\n",
      "===========================\n",
      "[Training] epoch: 3100 black: 22 white: 22\n",
      "Evaluate with [Random] \t win rate:0.74\n"
     ]
    },
    {
     "name": "stderr",
     "output_type": "stream",
     "text": [
      "INFO:Agent:Model saved to CNN_survive_score_diff_large_latest.pth\n"
     ]
    },
    {
     "name": "stdout",
     "output_type": "stream",
     "text": [
      "Evaluate with [Position] \t win rate:0.0\n",
      "===========================\n",
      "[Training] epoch: 3110 black: 16 white: 31\n",
      "Evaluate with [Random] \t win rate:0.745\n"
     ]
    },
    {
     "name": "stderr",
     "output_type": "stream",
     "text": [
      "INFO:Agent:Model saved to CNN_survive_score_diff_large_latest.pth\n"
     ]
    },
    {
     "name": "stdout",
     "output_type": "stream",
     "text": [
      "Evaluate with [Position] \t win rate:0.0\n",
      "===========================\n",
      "[Training] epoch: 3120 black: 18 white: 30\n",
      "Evaluate with [Random] \t win rate:0.775\n"
     ]
    },
    {
     "name": "stderr",
     "output_type": "stream",
     "text": [
      "INFO:Agent:Model saved to CNN_survive_score_diff_large_latest.pth\n"
     ]
    },
    {
     "name": "stdout",
     "output_type": "stream",
     "text": [
      "Evaluate with [Position] \t win rate:1.0\n",
      "===========================\n",
      "[Training] epoch: 3130 black: 20 white: 26\n",
      "Evaluate with [Random] \t win rate:0.795\n"
     ]
    },
    {
     "name": "stderr",
     "output_type": "stream",
     "text": [
      "INFO:Agent:Model saved to CNN_survive_score_diff_large_latest.pth\n"
     ]
    },
    {
     "name": "stdout",
     "output_type": "stream",
     "text": [
      "Evaluate with [Position] \t win rate:0.0\n",
      "===========================\n",
      "[Training] epoch: 3140 black: 20 white: 29\n",
      "Evaluate with [Random] \t win rate:0.765\n"
     ]
    },
    {
     "name": "stderr",
     "output_type": "stream",
     "text": [
      "INFO:Agent:Model saved to CNN_survive_score_diff_large_latest.pth\n"
     ]
    },
    {
     "name": "stdout",
     "output_type": "stream",
     "text": [
      "Evaluate with [Position] \t win rate:1.0\n",
      "===========================\n",
      "[Training] epoch: 3150 black: 17 white: 27\n",
      "Evaluate with [Random] \t win rate:0.735\n"
     ]
    },
    {
     "name": "stderr",
     "output_type": "stream",
     "text": [
      "INFO:Agent:Model saved to CNN_survive_score_diff_large_latest.pth\n"
     ]
    },
    {
     "name": "stdout",
     "output_type": "stream",
     "text": [
      "Evaluate with [Position] \t win rate:0.0\n",
      "===========================\n",
      "[Training] epoch: 3160 black: 12 white: 36\n",
      "Evaluate with [Random] \t win rate:0.785\n"
     ]
    },
    {
     "name": "stderr",
     "output_type": "stream",
     "text": [
      "INFO:Agent:Model saved to CNN_survive_score_diff_large_latest.pth\n"
     ]
    },
    {
     "name": "stdout",
     "output_type": "stream",
     "text": [
      "Evaluate with [Position] \t win rate:0.0\n",
      "===========================\n",
      "[Training] epoch: 3170 black: 18 white: 29\n",
      "Evaluate with [Random] \t win rate:0.74\n"
     ]
    },
    {
     "name": "stderr",
     "output_type": "stream",
     "text": [
      "INFO:Agent:Model saved to CNN_survive_score_diff_large_latest.pth\n"
     ]
    },
    {
     "name": "stdout",
     "output_type": "stream",
     "text": [
      "Evaluate with [Position] \t win rate:0.0\n",
      "===========================\n",
      "[Training] epoch: 3180 black: 18 white: 27\n",
      "Evaluate with [Random] \t win rate:0.755\n"
     ]
    },
    {
     "name": "stderr",
     "output_type": "stream",
     "text": [
      "INFO:Agent:Model saved to CNN_survive_score_diff_large_latest.pth\n"
     ]
    },
    {
     "name": "stdout",
     "output_type": "stream",
     "text": [
      "Evaluate with [Position] \t win rate:0.0\n",
      "===========================\n",
      "[Training] epoch: 3190 black: 20 white: 25\n",
      "Evaluate with [Random] \t win rate:0.755\n"
     ]
    },
    {
     "name": "stderr",
     "output_type": "stream",
     "text": [
      "INFO:Agent:Model saved to CNN_survive_score_diff_large_latest.pth\n"
     ]
    },
    {
     "name": "stdout",
     "output_type": "stream",
     "text": [
      "Evaluate with [Position] \t win rate:0.0\n",
      "===========================\n",
      "[Training] epoch: 3200 black: 22 white: 26\n",
      "Evaluate with [Random] \t win rate:0.685\n"
     ]
    },
    {
     "name": "stderr",
     "output_type": "stream",
     "text": [
      "INFO:Agent:Model saved to CNN_survive_score_diff_large_latest.pth\n"
     ]
    },
    {
     "name": "stdout",
     "output_type": "stream",
     "text": [
      "Evaluate with [Position] \t win rate:1.0\n",
      "===========================\n",
      "[Training] epoch: 3210 black: 24 white: 25\n",
      "Evaluate with [Random] \t win rate:0.705\n"
     ]
    },
    {
     "name": "stderr",
     "output_type": "stream",
     "text": [
      "INFO:Agent:Model saved to CNN_survive_score_diff_large_latest.pth\n"
     ]
    },
    {
     "name": "stdout",
     "output_type": "stream",
     "text": [
      "Evaluate with [Position] \t win rate:0.0\n",
      "===========================\n",
      "[Training] epoch: 3220 black: 26 white: 22\n",
      "Evaluate with [Random] \t win rate:0.81\n"
     ]
    },
    {
     "name": "stderr",
     "output_type": "stream",
     "text": [
      "INFO:Agent:Model saved to CNN_survive_score_diff_large_latest.pth\n"
     ]
    },
    {
     "name": "stdout",
     "output_type": "stream",
     "text": [
      "Evaluate with [Position] \t win rate:1.0\n",
      "===========================\n",
      "[Training] epoch: 3230 black: 31 white: 17\n",
      "Evaluate with [Random] \t win rate:0.78\n"
     ]
    },
    {
     "name": "stderr",
     "output_type": "stream",
     "text": [
      "INFO:Agent:Model saved to CNN_survive_score_diff_large_latest.pth\n"
     ]
    },
    {
     "name": "stdout",
     "output_type": "stream",
     "text": [
      "Evaluate with [Position] \t win rate:0.0\n",
      "===========================\n",
      "[Training] epoch: 3240 black: 24 white: 24\n",
      "Evaluate with [Random] \t win rate:0.745\n"
     ]
    },
    {
     "name": "stderr",
     "output_type": "stream",
     "text": [
      "INFO:Agent:Model saved to CNN_survive_score_diff_large_latest.pth\n"
     ]
    },
    {
     "name": "stdout",
     "output_type": "stream",
     "text": [
      "Evaluate with [Position] \t win rate:1.0\n",
      "===========================\n",
      "[Training] epoch: 3250 black: 20 white: 26\n",
      "Evaluate with [Random] \t win rate:0.735\n"
     ]
    },
    {
     "name": "stderr",
     "output_type": "stream",
     "text": [
      "INFO:Agent:Model saved to CNN_survive_score_diff_large_latest.pth\n"
     ]
    },
    {
     "name": "stdout",
     "output_type": "stream",
     "text": [
      "Evaluate with [Position] \t win rate:1.0\n",
      "===========================\n",
      "[Training] epoch: 3260 black: 19 white: 30\n",
      "Evaluate with [Random] \t win rate:0.71\n"
     ]
    },
    {
     "name": "stderr",
     "output_type": "stream",
     "text": [
      "INFO:Agent:Model saved to CNN_survive_score_diff_large_latest.pth\n"
     ]
    },
    {
     "name": "stdout",
     "output_type": "stream",
     "text": [
      "Evaluate with [Position] \t win rate:0.0\n",
      "===========================\n",
      "[Training] epoch: 3270 black: 23 white: 25\n",
      "Evaluate with [Random] \t win rate:0.72\n"
     ]
    },
    {
     "name": "stderr",
     "output_type": "stream",
     "text": [
      "INFO:Agent:Model saved to CNN_survive_score_diff_large_latest.pth\n"
     ]
    },
    {
     "name": "stdout",
     "output_type": "stream",
     "text": [
      "Evaluate with [Position] \t win rate:1.0\n",
      "===========================\n",
      "[Training] epoch: 3280 black: 25 white: 24\n",
      "Evaluate with [Random] \t win rate:0.76\n"
     ]
    },
    {
     "name": "stderr",
     "output_type": "stream",
     "text": [
      "INFO:Agent:Model saved to CNN_survive_score_diff_large_latest.pth\n"
     ]
    },
    {
     "name": "stdout",
     "output_type": "stream",
     "text": [
      "Evaluate with [Position] \t win rate:0.0\n",
      "===========================\n",
      "[Training] epoch: 3290 black: 21 white: 24\n",
      "Evaluate with [Random] \t win rate:0.795\n"
     ]
    },
    {
     "name": "stderr",
     "output_type": "stream",
     "text": [
      "INFO:Agent:Model saved to CNN_survive_score_diff_large_latest.pth\n"
     ]
    },
    {
     "name": "stdout",
     "output_type": "stream",
     "text": [
      "Evaluate with [Position] \t win rate:0.0\n",
      "===========================\n",
      "[Training] epoch: 3300 black: 25 white: 23\n",
      "Evaluate with [Random] \t win rate:0.725\n"
     ]
    },
    {
     "name": "stderr",
     "output_type": "stream",
     "text": [
      "INFO:Agent:Model saved to CNN_survive_score_diff_large_latest.pth\n"
     ]
    },
    {
     "name": "stdout",
     "output_type": "stream",
     "text": [
      "Evaluate with [Position] \t win rate:0.0\n",
      "===========================\n",
      "[Training] epoch: 3310 black: 24 white: 24\n",
      "Evaluate with [Random] \t win rate:0.725\n"
     ]
    },
    {
     "name": "stderr",
     "output_type": "stream",
     "text": [
      "INFO:Agent:Model saved to CNN_survive_score_diff_large_latest.pth\n"
     ]
    },
    {
     "name": "stdout",
     "output_type": "stream",
     "text": [
      "Evaluate with [Position] \t win rate:1.0\n",
      "===========================\n",
      "[Training] epoch: 3320 black: 20 white: 27\n",
      "Evaluate with [Random] \t win rate:0.735\n"
     ]
    },
    {
     "name": "stderr",
     "output_type": "stream",
     "text": [
      "INFO:Agent:Model saved to CNN_survive_score_diff_large_latest.pth\n"
     ]
    },
    {
     "name": "stdout",
     "output_type": "stream",
     "text": [
      "Evaluate with [Position] \t win rate:0.0\n",
      "===========================\n",
      "[Training] epoch: 3330 black: 23 white: 23\n",
      "Evaluate with [Random] \t win rate:0.79\n"
     ]
    },
    {
     "name": "stderr",
     "output_type": "stream",
     "text": [
      "INFO:Agent:Model saved to CNN_survive_score_diff_large_latest.pth\n"
     ]
    },
    {
     "name": "stdout",
     "output_type": "stream",
     "text": [
      "Evaluate with [Position] \t win rate:0.0\n",
      "===========================\n",
      "[Training] epoch: 3340 black: 24 white: 23\n",
      "Evaluate with [Random] \t win rate:0.74\n"
     ]
    },
    {
     "name": "stderr",
     "output_type": "stream",
     "text": [
      "INFO:Agent:Model saved to CNN_survive_score_diff_large_latest.pth\n"
     ]
    },
    {
     "name": "stdout",
     "output_type": "stream",
     "text": [
      "Evaluate with [Position] \t win rate:1.0\n",
      "===========================\n",
      "[Training] epoch: 3350 black: 26 white: 20\n",
      "Evaluate with [Random] \t win rate:0.745\n"
     ]
    },
    {
     "name": "stderr",
     "output_type": "stream",
     "text": [
      "INFO:Agent:Model saved to CNN_survive_score_diff_large_latest.pth\n"
     ]
    },
    {
     "name": "stdout",
     "output_type": "stream",
     "text": [
      "Evaluate with [Position] \t win rate:0.0\n",
      "===========================\n",
      "[Training] epoch: 3360 black: 21 white: 27\n",
      "Evaluate with [Random] \t win rate:0.7\n"
     ]
    },
    {
     "name": "stderr",
     "output_type": "stream",
     "text": [
      "INFO:Agent:Model saved to CNN_survive_score_diff_large_latest.pth\n"
     ]
    },
    {
     "name": "stdout",
     "output_type": "stream",
     "text": [
      "Evaluate with [Position] \t win rate:0.0\n",
      "===========================\n",
      "[Training] epoch: 3370 black: 25 white: 21\n",
      "Evaluate with [Random] \t win rate:0.76\n"
     ]
    },
    {
     "name": "stderr",
     "output_type": "stream",
     "text": [
      "INFO:Agent:Model saved to CNN_survive_score_diff_large_latest.pth\n"
     ]
    },
    {
     "name": "stdout",
     "output_type": "stream",
     "text": [
      "Evaluate with [Position] \t win rate:1.0\n",
      "===========================\n",
      "[Training] epoch: 3380 black: 23 white: 22\n",
      "Evaluate with [Random] \t win rate:0.75\n"
     ]
    },
    {
     "name": "stderr",
     "output_type": "stream",
     "text": [
      "INFO:Agent:Model saved to CNN_survive_score_diff_large_latest.pth\n"
     ]
    },
    {
     "name": "stdout",
     "output_type": "stream",
     "text": [
      "Evaluate with [Position] \t win rate:1.0\n",
      "===========================\n",
      "[Training] epoch: 3390 black: 18 white: 30\n",
      "Evaluate with [Random] \t win rate:0.735\n"
     ]
    },
    {
     "name": "stderr",
     "output_type": "stream",
     "text": [
      "INFO:Agent:Model saved to CNN_survive_score_diff_large_latest.pth\n"
     ]
    },
    {
     "name": "stdout",
     "output_type": "stream",
     "text": [
      "Evaluate with [Position] \t win rate:1.0\n",
      "===========================\n",
      "[Training] epoch: 3400 black: 24 white: 24\n",
      "Evaluate with [Random] \t win rate:0.8\n"
     ]
    },
    {
     "name": "stderr",
     "output_type": "stream",
     "text": [
      "INFO:Agent:Model saved to CNN_survive_score_diff_large_latest.pth\n"
     ]
    },
    {
     "name": "stdout",
     "output_type": "stream",
     "text": [
      "Evaluate with [Position] \t win rate:1.0\n",
      "===========================\n",
      "[Training] epoch: 3410 black: 19 white: 29\n",
      "Evaluate with [Random] \t win rate:0.775\n"
     ]
    },
    {
     "name": "stderr",
     "output_type": "stream",
     "text": [
      "INFO:Agent:Model saved to CNN_survive_score_diff_large_latest.pth\n"
     ]
    },
    {
     "name": "stdout",
     "output_type": "stream",
     "text": [
      "Evaluate with [Position] \t win rate:0.0\n",
      "===========================\n",
      "[Training] epoch: 3420 black: 20 white: 27\n",
      "Evaluate with [Random] \t win rate:0.795\n"
     ]
    },
    {
     "name": "stderr",
     "output_type": "stream",
     "text": [
      "INFO:Agent:Model saved to CNN_survive_score_diff_large_latest.pth\n"
     ]
    },
    {
     "name": "stdout",
     "output_type": "stream",
     "text": [
      "Evaluate with [Position] \t win rate:1.0\n",
      "===========================\n",
      "[Training] epoch: 3430 black: 20 white: 28\n",
      "Evaluate with [Random] \t win rate:0.715\n"
     ]
    },
    {
     "name": "stderr",
     "output_type": "stream",
     "text": [
      "INFO:Agent:Model saved to CNN_survive_score_diff_large_latest.pth\n"
     ]
    },
    {
     "name": "stdout",
     "output_type": "stream",
     "text": [
      "Evaluate with [Position] \t win rate:1.0\n",
      "===========================\n",
      "[Training] epoch: 3440 black: 30 white: 19\n",
      "Evaluate with [Random] \t win rate:0.725\n"
     ]
    },
    {
     "name": "stderr",
     "output_type": "stream",
     "text": [
      "INFO:Agent:Model saved to CNN_survive_score_diff_large_latest.pth\n"
     ]
    },
    {
     "name": "stdout",
     "output_type": "stream",
     "text": [
      "Evaluate with [Position] \t win rate:1.0\n",
      "===========================\n",
      "[Training] epoch: 3450 black: 23 white: 26\n",
      "Evaluate with [Random] \t win rate:0.73\n"
     ]
    },
    {
     "name": "stderr",
     "output_type": "stream",
     "text": [
      "INFO:Agent:Model saved to CNN_survive_score_diff_large_latest.pth\n"
     ]
    },
    {
     "name": "stdout",
     "output_type": "stream",
     "text": [
      "Evaluate with [Position] \t win rate:1.0\n",
      "===========================\n",
      "[Training] epoch: 3460 black: 20 white: 29\n",
      "Evaluate with [Random] \t win rate:0.675\n"
     ]
    },
    {
     "name": "stderr",
     "output_type": "stream",
     "text": [
      "INFO:Agent:Model saved to CNN_survive_score_diff_large_latest.pth\n"
     ]
    },
    {
     "name": "stdout",
     "output_type": "stream",
     "text": [
      "Evaluate with [Position] \t win rate:1.0\n",
      "===========================\n",
      "[Training] epoch: 3470 black: 24 white: 23\n",
      "Evaluate with [Random] \t win rate:0.74\n"
     ]
    },
    {
     "name": "stderr",
     "output_type": "stream",
     "text": [
      "INFO:Agent:Model saved to CNN_survive_score_diff_large_latest.pth\n"
     ]
    },
    {
     "name": "stdout",
     "output_type": "stream",
     "text": [
      "Evaluate with [Position] \t win rate:0.0\n",
      "===========================\n",
      "[Training] epoch: 3480 black: 24 white: 23\n",
      "Evaluate with [Random] \t win rate:0.74\n"
     ]
    },
    {
     "name": "stderr",
     "output_type": "stream",
     "text": [
      "INFO:Agent:Model saved to CNN_survive_score_diff_large_latest.pth\n"
     ]
    },
    {
     "name": "stdout",
     "output_type": "stream",
     "text": [
      "Evaluate with [Position] \t win rate:1.0\n",
      "===========================\n",
      "[Training] epoch: 3490 black: 17 white: 30\n",
      "Evaluate with [Random] \t win rate:0.755\n"
     ]
    },
    {
     "name": "stderr",
     "output_type": "stream",
     "text": [
      "INFO:Agent:Model saved to CNN_survive_score_diff_large_latest.pth\n"
     ]
    },
    {
     "name": "stdout",
     "output_type": "stream",
     "text": [
      "Evaluate with [Position] \t win rate:1.0\n",
      "===========================\n",
      "[Training] epoch: 3500 black: 30 white: 14\n",
      "Evaluate with [Random] \t win rate:0.75\n",
      "Evaluate with [Position] \t win rate:1.0\n"
     ]
    },
    {
     "name": "stderr",
     "output_type": "stream",
     "text": [
      "INFO:Agent:Model saved to CNN_survive_score_diff_large_latest.pth\n"
     ]
    },
    {
     "name": "stdout",
     "output_type": "stream",
     "text": [
      "===========================\n",
      "[Training] epoch: 3510 black: 21 white: 24\n",
      "Evaluate with [Random] \t win rate:0.79\n"
     ]
    },
    {
     "name": "stderr",
     "output_type": "stream",
     "text": [
      "INFO:Agent:Model saved to CNN_survive_score_diff_large_latest.pth\n"
     ]
    },
    {
     "name": "stdout",
     "output_type": "stream",
     "text": [
      "Evaluate with [Position] \t win rate:1.0\n",
      "===========================\n",
      "[Training] epoch: 3520 black: 30 white: 16\n",
      "Evaluate with [Random] \t win rate:0.695\n"
     ]
    },
    {
     "name": "stderr",
     "output_type": "stream",
     "text": [
      "INFO:Agent:Model saved to CNN_survive_score_diff_large_latest.pth\n"
     ]
    },
    {
     "name": "stdout",
     "output_type": "stream",
     "text": [
      "Evaluate with [Position] \t win rate:1.0\n",
      "===========================\n",
      "[Training] epoch: 3530 black: 27 white: 21\n",
      "Evaluate with [Random] \t win rate:0.755\n"
     ]
    },
    {
     "name": "stderr",
     "output_type": "stream",
     "text": [
      "INFO:Agent:Model saved to CNN_survive_score_diff_large_latest.pth\n"
     ]
    },
    {
     "name": "stdout",
     "output_type": "stream",
     "text": [
      "Evaluate with [Position] \t win rate:1.0\n",
      "===========================\n",
      "[Training] epoch: 3540 black: 19 white: 27\n",
      "Evaluate with [Random] \t win rate:0.81\n"
     ]
    },
    {
     "name": "stderr",
     "output_type": "stream",
     "text": [
      "INFO:Agent:Model saved to CNN_survive_score_diff_large_latest.pth\n"
     ]
    },
    {
     "name": "stdout",
     "output_type": "stream",
     "text": [
      "Evaluate with [Position] \t win rate:0.0\n",
      "===========================\n",
      "[Training] epoch: 3550 black: 23 white: 26\n",
      "Evaluate with [Random] \t win rate:0.775\n"
     ]
    },
    {
     "name": "stderr",
     "output_type": "stream",
     "text": [
      "INFO:Agent:Model saved to CNN_survive_score_diff_large_latest.pth\n"
     ]
    },
    {
     "name": "stdout",
     "output_type": "stream",
     "text": [
      "Evaluate with [Position] \t win rate:1.0\n",
      "===========================\n",
      "[Training] epoch: 3560 black: 22 white: 27\n",
      "Evaluate with [Random] \t win rate:0.745\n"
     ]
    },
    {
     "name": "stderr",
     "output_type": "stream",
     "text": [
      "INFO:Agent:Model saved to CNN_survive_score_diff_large_latest.pth\n"
     ]
    },
    {
     "name": "stdout",
     "output_type": "stream",
     "text": [
      "Evaluate with [Position] \t win rate:1.0\n",
      "===========================\n",
      "[Training] epoch: 3570 black: 23 white: 23\n",
      "Evaluate with [Random] \t win rate:0.785\n"
     ]
    },
    {
     "name": "stderr",
     "output_type": "stream",
     "text": [
      "INFO:Agent:Model saved to CNN_survive_score_diff_large_latest.pth\n"
     ]
    },
    {
     "name": "stdout",
     "output_type": "stream",
     "text": [
      "Evaluate with [Position] \t win rate:0.0\n",
      "===========================\n",
      "[Training] epoch: 3580 black: 25 white: 25\n",
      "Evaluate with [Random] \t win rate:0.78\n"
     ]
    },
    {
     "name": "stderr",
     "output_type": "stream",
     "text": [
      "INFO:Agent:Model saved to CNN_survive_score_diff_large_latest.pth\n"
     ]
    },
    {
     "name": "stdout",
     "output_type": "stream",
     "text": [
      "Evaluate with [Position] \t win rate:0.0\n",
      "===========================\n",
      "[Training] epoch: 3590 black: 16 white: 27\n",
      "Evaluate with [Random] \t win rate:0.745\n"
     ]
    },
    {
     "name": "stderr",
     "output_type": "stream",
     "text": [
      "INFO:Agent:Model saved to CNN_survive_score_diff_large_latest.pth\n"
     ]
    },
    {
     "name": "stdout",
     "output_type": "stream",
     "text": [
      "Evaluate with [Position] \t win rate:0.0\n",
      "===========================\n",
      "[Training] epoch: 3600 black: 16 white: 31\n",
      "Evaluate with [Random] \t win rate:0.77\n"
     ]
    },
    {
     "name": "stderr",
     "output_type": "stream",
     "text": [
      "INFO:Agent:Model saved to CNN_survive_score_diff_large_latest.pth\n"
     ]
    },
    {
     "name": "stdout",
     "output_type": "stream",
     "text": [
      "Evaluate with [Position] \t win rate:0.0\n",
      "===========================\n",
      "[Training] epoch: 3610 black: 17 white: 31\n",
      "Evaluate with [Random] \t win rate:0.755\n"
     ]
    },
    {
     "name": "stderr",
     "output_type": "stream",
     "text": [
      "INFO:Agent:Model saved to CNN_survive_score_diff_large_latest.pth\n"
     ]
    },
    {
     "name": "stdout",
     "output_type": "stream",
     "text": [
      "Evaluate with [Position] \t win rate:0.0\n",
      "===========================\n",
      "[Training] epoch: 3620 black: 31 white: 17\n",
      "Evaluate with [Random] \t win rate:0.715\n"
     ]
    },
    {
     "name": "stderr",
     "output_type": "stream",
     "text": [
      "INFO:Agent:Model saved to CNN_survive_score_diff_large_latest.pth\n"
     ]
    },
    {
     "name": "stdout",
     "output_type": "stream",
     "text": [
      "Evaluate with [Position] \t win rate:0.0\n",
      "===========================\n",
      "[Training] epoch: 3630 black: 22 white: 25\n",
      "Evaluate with [Random] \t win rate:0.805\n"
     ]
    },
    {
     "name": "stderr",
     "output_type": "stream",
     "text": [
      "INFO:Agent:Model saved to CNN_survive_score_diff_large_latest.pth\n"
     ]
    },
    {
     "name": "stdout",
     "output_type": "stream",
     "text": [
      "Evaluate with [Position] \t win rate:0.0\n",
      "===========================\n",
      "[Training] epoch: 3640 black: 20 white: 28\n",
      "Evaluate with [Random] \t win rate:0.75\n"
     ]
    },
    {
     "name": "stderr",
     "output_type": "stream",
     "text": [
      "INFO:Agent:Model saved to CNN_survive_score_diff_large_latest.pth\n"
     ]
    },
    {
     "name": "stdout",
     "output_type": "stream",
     "text": [
      "Evaluate with [Position] \t win rate:0.0\n",
      "===========================\n",
      "[Training] epoch: 3650 black: 19 white: 30\n",
      "Evaluate with [Random] \t win rate:0.725\n"
     ]
    },
    {
     "name": "stderr",
     "output_type": "stream",
     "text": [
      "INFO:Agent:Model saved to CNN_survive_score_diff_large_latest.pth\n"
     ]
    },
    {
     "name": "stdout",
     "output_type": "stream",
     "text": [
      "Evaluate with [Position] \t win rate:0.0\n",
      "===========================\n",
      "[Training] epoch: 3660 black: 19 white: 28\n",
      "Evaluate with [Random] \t win rate:0.725\n"
     ]
    },
    {
     "name": "stderr",
     "output_type": "stream",
     "text": [
      "INFO:Agent:Model saved to CNN_survive_score_diff_large_latest.pth\n"
     ]
    },
    {
     "name": "stdout",
     "output_type": "stream",
     "text": [
      "Evaluate with [Position] \t win rate:0.0\n",
      "===========================\n",
      "[Training] epoch: 3670 black: 21 white: 26\n",
      "Evaluate with [Random] \t win rate:0.775\n"
     ]
    },
    {
     "name": "stderr",
     "output_type": "stream",
     "text": [
      "INFO:Agent:Model saved to CNN_survive_score_diff_large_latest.pth\n"
     ]
    },
    {
     "name": "stdout",
     "output_type": "stream",
     "text": [
      "Evaluate with [Position] \t win rate:1.0\n",
      "===========================\n",
      "[Training] epoch: 3680 black: 27 white: 19\n",
      "Evaluate with [Random] \t win rate:0.75\n"
     ]
    },
    {
     "name": "stderr",
     "output_type": "stream",
     "text": [
      "INFO:Agent:Model saved to CNN_survive_score_diff_large_latest.pth\n"
     ]
    },
    {
     "name": "stdout",
     "output_type": "stream",
     "text": [
      "Evaluate with [Position] \t win rate:1.0\n",
      "===========================\n",
      "[Training] epoch: 3690 black: 17 white: 31\n",
      "Evaluate with [Random] \t win rate:0.76\n"
     ]
    },
    {
     "name": "stderr",
     "output_type": "stream",
     "text": [
      "INFO:Agent:Model saved to CNN_survive_score_diff_large_latest.pth\n"
     ]
    },
    {
     "name": "stdout",
     "output_type": "stream",
     "text": [
      "Evaluate with [Position] \t win rate:1.0\n",
      "===========================\n",
      "[Training] epoch: 3700 black: 24 white: 26\n",
      "Evaluate with [Random] \t win rate:0.725\n"
     ]
    },
    {
     "name": "stderr",
     "output_type": "stream",
     "text": [
      "INFO:Agent:Model saved to CNN_survive_score_diff_large_latest.pth\n"
     ]
    },
    {
     "name": "stdout",
     "output_type": "stream",
     "text": [
      "Evaluate with [Position] \t win rate:0.0\n",
      "===========================\n",
      "[Training] epoch: 3710 black: 21 white: 28\n",
      "Evaluate with [Random] \t win rate:0.76\n"
     ]
    },
    {
     "name": "stderr",
     "output_type": "stream",
     "text": [
      "INFO:Agent:Model saved to CNN_survive_score_diff_large_latest.pth\n"
     ]
    },
    {
     "name": "stdout",
     "output_type": "stream",
     "text": [
      "Evaluate with [Position] \t win rate:0.0\n",
      "===========================\n",
      "[Training] epoch: 3720 black: 23 white: 25\n",
      "Evaluate with [Random] \t win rate:0.765\n"
     ]
    },
    {
     "name": "stderr",
     "output_type": "stream",
     "text": [
      "INFO:Agent:Model saved to CNN_survive_score_diff_large_latest.pth\n"
     ]
    },
    {
     "name": "stdout",
     "output_type": "stream",
     "text": [
      "Evaluate with [Position] \t win rate:0.0\n",
      "===========================\n",
      "[Training] epoch: 3730 black: 24 white: 25\n",
      "Evaluate with [Random] \t win rate:0.81\n"
     ]
    },
    {
     "name": "stderr",
     "output_type": "stream",
     "text": [
      "INFO:Agent:Model saved to CNN_survive_score_diff_large_latest.pth\n"
     ]
    },
    {
     "name": "stdout",
     "output_type": "stream",
     "text": [
      "Evaluate with [Position] \t win rate:1.0\n",
      "===========================\n",
      "[Training] epoch: 3740 black: 20 white: 24\n",
      "Evaluate with [Random] \t win rate:0.805\n"
     ]
    },
    {
     "name": "stderr",
     "output_type": "stream",
     "text": [
      "INFO:Agent:Model saved to CNN_survive_score_diff_large_latest.pth\n"
     ]
    },
    {
     "name": "stdout",
     "output_type": "stream",
     "text": [
      "Evaluate with [Position] \t win rate:1.0\n",
      "===========================\n",
      "[Training] epoch: 3750 black: 22 white: 26\n",
      "Evaluate with [Random] \t win rate:0.655\n"
     ]
    },
    {
     "name": "stderr",
     "output_type": "stream",
     "text": [
      "INFO:Agent:Model saved to CNN_survive_score_diff_large_latest.pth\n"
     ]
    },
    {
     "name": "stdout",
     "output_type": "stream",
     "text": [
      "Evaluate with [Position] \t win rate:0.0\n",
      "===========================\n",
      "[Training] epoch: 3760 black: 21 white: 25\n",
      "Evaluate with [Random] \t win rate:0.775\n"
     ]
    },
    {
     "name": "stderr",
     "output_type": "stream",
     "text": [
      "INFO:Agent:Model saved to CNN_survive_score_diff_large_latest.pth\n"
     ]
    },
    {
     "name": "stdout",
     "output_type": "stream",
     "text": [
      "Evaluate with [Position] \t win rate:1.0\n",
      "===========================\n",
      "[Training] epoch: 3770 black: 21 white: 24\n",
      "Evaluate with [Random] \t win rate:0.745\n"
     ]
    },
    {
     "name": "stderr",
     "output_type": "stream",
     "text": [
      "INFO:Agent:Model saved to CNN_survive_score_diff_large_latest.pth\n"
     ]
    },
    {
     "name": "stdout",
     "output_type": "stream",
     "text": [
      "Evaluate with [Position] \t win rate:1.0\n",
      "===========================\n",
      "[Training] epoch: 3780 black: 19 white: 30\n",
      "Evaluate with [Random] \t win rate:0.71\n"
     ]
    },
    {
     "name": "stderr",
     "output_type": "stream",
     "text": [
      "INFO:Agent:Model saved to CNN_survive_score_diff_large_latest.pth\n"
     ]
    },
    {
     "name": "stdout",
     "output_type": "stream",
     "text": [
      "Evaluate with [Position] \t win rate:1.0\n",
      "===========================\n",
      "[Training] epoch: 3790 black: 22 white: 26\n",
      "Evaluate with [Random] \t win rate:0.785\n"
     ]
    },
    {
     "name": "stderr",
     "output_type": "stream",
     "text": [
      "INFO:Agent:Model saved to CNN_survive_score_diff_large_latest.pth\n"
     ]
    },
    {
     "name": "stdout",
     "output_type": "stream",
     "text": [
      "Evaluate with [Position] \t win rate:0.0\n",
      "===========================\n",
      "[Training] epoch: 3800 black: 20 white: 27\n",
      "Evaluate with [Random] \t win rate:0.75\n"
     ]
    },
    {
     "name": "stderr",
     "output_type": "stream",
     "text": [
      "INFO:Agent:Model saved to CNN_survive_score_diff_large_latest.pth\n"
     ]
    },
    {
     "name": "stdout",
     "output_type": "stream",
     "text": [
      "Evaluate with [Position] \t win rate:0.0\n",
      "===========================\n",
      "[Training] epoch: 3810 black: 24 white: 24\n",
      "Evaluate with [Random] \t win rate:0.75\n"
     ]
    },
    {
     "name": "stderr",
     "output_type": "stream",
     "text": [
      "INFO:Agent:Model saved to CNN_survive_score_diff_large_latest.pth\n"
     ]
    },
    {
     "name": "stdout",
     "output_type": "stream",
     "text": [
      "Evaluate with [Position] \t win rate:0.0\n",
      "===========================\n",
      "[Training] epoch: 3820 black: 20 white: 29\n",
      "Evaluate with [Random] \t win rate:0.75\n"
     ]
    },
    {
     "name": "stderr",
     "output_type": "stream",
     "text": [
      "INFO:Agent:Model saved to CNN_survive_score_diff_large_latest.pth\n"
     ]
    },
    {
     "name": "stdout",
     "output_type": "stream",
     "text": [
      "Evaluate with [Position] \t win rate:0.0\n",
      "===========================\n",
      "[Training] epoch: 3830 black: 23 white: 26\n",
      "Evaluate with [Random] \t win rate:0.745\n"
     ]
    },
    {
     "name": "stderr",
     "output_type": "stream",
     "text": [
      "INFO:Agent:Model saved to CNN_survive_score_diff_large_latest.pth\n"
     ]
    },
    {
     "name": "stdout",
     "output_type": "stream",
     "text": [
      "Evaluate with [Position] \t win rate:1.0\n",
      "===========================\n",
      "[Training] epoch: 3840 black: 14 white: 33\n",
      "Evaluate with [Random] \t win rate:0.74\n"
     ]
    },
    {
     "name": "stderr",
     "output_type": "stream",
     "text": [
      "INFO:Agent:Model saved to CNN_survive_score_diff_large_latest.pth\n"
     ]
    },
    {
     "name": "stdout",
     "output_type": "stream",
     "text": [
      "Evaluate with [Position] \t win rate:1.0\n",
      "===========================\n",
      "[Training] epoch: 3850 black: 23 white: 22\n",
      "Evaluate with [Random] \t win rate:0.815\n"
     ]
    },
    {
     "name": "stderr",
     "output_type": "stream",
     "text": [
      "INFO:Agent:Model saved to CNN_survive_score_diff_large_latest.pth\n"
     ]
    },
    {
     "name": "stdout",
     "output_type": "stream",
     "text": [
      "Evaluate with [Position] \t win rate:0.0\n",
      "===========================\n",
      "[Training] epoch: 3860 black: 23 white: 22\n",
      "Evaluate with [Random] \t win rate:0.745\n"
     ]
    },
    {
     "name": "stderr",
     "output_type": "stream",
     "text": [
      "INFO:Agent:Model saved to CNN_survive_score_diff_large_latest.pth\n"
     ]
    },
    {
     "name": "stdout",
     "output_type": "stream",
     "text": [
      "Evaluate with [Position] \t win rate:0.0\n",
      "===========================\n",
      "[Training] epoch: 3870 black: 21 white: 27\n",
      "Evaluate with [Random] \t win rate:0.75\n"
     ]
    },
    {
     "name": "stderr",
     "output_type": "stream",
     "text": [
      "INFO:Agent:Model saved to CNN_survive_score_diff_large_latest.pth\n"
     ]
    },
    {
     "name": "stdout",
     "output_type": "stream",
     "text": [
      "Evaluate with [Position] \t win rate:0.0\n",
      "===========================\n",
      "[Training] epoch: 3880 black: 24 white: 20\n",
      "Evaluate with [Random] \t win rate:0.79\n"
     ]
    },
    {
     "name": "stderr",
     "output_type": "stream",
     "text": [
      "INFO:Agent:Model saved to CNN_survive_score_diff_large_latest.pth\n"
     ]
    },
    {
     "name": "stdout",
     "output_type": "stream",
     "text": [
      "Evaluate with [Position] \t win rate:1.0\n",
      "===========================\n",
      "[Training] epoch: 3890 black: 19 white: 25\n",
      "Evaluate with [Random] \t win rate:0.755\n"
     ]
    },
    {
     "name": "stderr",
     "output_type": "stream",
     "text": [
      "INFO:Agent:Model saved to CNN_survive_score_diff_large_latest.pth\n"
     ]
    },
    {
     "name": "stdout",
     "output_type": "stream",
     "text": [
      "Evaluate with [Position] \t win rate:0.0\n",
      "===========================\n",
      "[Training] epoch: 3900 black: 22 white: 26\n",
      "Evaluate with [Random] \t win rate:0.765\n"
     ]
    },
    {
     "name": "stderr",
     "output_type": "stream",
     "text": [
      "INFO:Agent:Model saved to CNN_survive_score_diff_large_latest.pth\n"
     ]
    },
    {
     "name": "stdout",
     "output_type": "stream",
     "text": [
      "Evaluate with [Position] \t win rate:0.0\n",
      "===========================\n",
      "[Training] epoch: 3910 black: 21 white: 26\n",
      "Evaluate with [Random] \t win rate:0.71\n"
     ]
    },
    {
     "name": "stderr",
     "output_type": "stream",
     "text": [
      "INFO:Agent:Model saved to CNN_survive_score_diff_large_latest.pth\n"
     ]
    },
    {
     "name": "stdout",
     "output_type": "stream",
     "text": [
      "Evaluate with [Position] \t win rate:0.0\n",
      "===========================\n",
      "[Training] epoch: 3920 black: 22 white: 25\n",
      "Evaluate with [Random] \t win rate:0.81\n"
     ]
    },
    {
     "name": "stderr",
     "output_type": "stream",
     "text": [
      "INFO:Agent:Model saved to CNN_survive_score_diff_large_latest.pth\n"
     ]
    },
    {
     "name": "stdout",
     "output_type": "stream",
     "text": [
      "Evaluate with [Position] \t win rate:1.0\n",
      "===========================\n",
      "[Training] epoch: 3930 black: 22 white: 26\n",
      "Evaluate with [Random] \t win rate:0.745\n"
     ]
    },
    {
     "name": "stderr",
     "output_type": "stream",
     "text": [
      "INFO:Agent:Model saved to CNN_survive_score_diff_large_latest.pth\n"
     ]
    },
    {
     "name": "stdout",
     "output_type": "stream",
     "text": [
      "Evaluate with [Position] \t win rate:0.0\n",
      "===========================\n",
      "[Training] epoch: 3940 black: 27 white: 22\n",
      "Evaluate with [Random] \t win rate:0.735\n"
     ]
    },
    {
     "name": "stderr",
     "output_type": "stream",
     "text": [
      "INFO:Agent:Model saved to CNN_survive_score_diff_large_latest.pth\n"
     ]
    },
    {
     "name": "stdout",
     "output_type": "stream",
     "text": [
      "Evaluate with [Position] \t win rate:1.0\n",
      "===========================\n",
      "[Training] epoch: 3950 black: 19 white: 26\n",
      "Evaluate with [Random] \t win rate:0.74\n"
     ]
    },
    {
     "name": "stderr",
     "output_type": "stream",
     "text": [
      "INFO:Agent:Model saved to CNN_survive_score_diff_large_latest.pth\n"
     ]
    },
    {
     "name": "stdout",
     "output_type": "stream",
     "text": [
      "Evaluate with [Position] \t win rate:0.0\n",
      "===========================\n",
      "[Training] epoch: 3960 black: 19 white: 27\n",
      "Evaluate with [Random] \t win rate:0.74\n"
     ]
    },
    {
     "name": "stderr",
     "output_type": "stream",
     "text": [
      "INFO:Agent:Model saved to CNN_survive_score_diff_large_latest.pth\n"
     ]
    },
    {
     "name": "stdout",
     "output_type": "stream",
     "text": [
      "Evaluate with [Position] \t win rate:0.0\n",
      "===========================\n",
      "[Training] epoch: 3970 black: 25 white: 25\n",
      "Evaluate with [Random] \t win rate:0.78\n"
     ]
    },
    {
     "name": "stderr",
     "output_type": "stream",
     "text": [
      "INFO:Agent:Model saved to CNN_survive_score_diff_large_latest.pth\n"
     ]
    },
    {
     "name": "stdout",
     "output_type": "stream",
     "text": [
      "Evaluate with [Position] \t win rate:0.0\n",
      "===========================\n",
      "[Training] epoch: 3980 black: 18 white: 31\n",
      "Evaluate with [Random] \t win rate:0.81\n"
     ]
    },
    {
     "name": "stderr",
     "output_type": "stream",
     "text": [
      "INFO:Agent:Model saved to CNN_survive_score_diff_large_latest.pth\n"
     ]
    },
    {
     "name": "stdout",
     "output_type": "stream",
     "text": [
      "Evaluate with [Position] \t win rate:0.0\n",
      "===========================\n",
      "[Training] epoch: 3990 black: 22 white: 25\n",
      "Evaluate with [Random] \t win rate:0.77\n"
     ]
    },
    {
     "name": "stderr",
     "output_type": "stream",
     "text": [
      "INFO:Agent:Model saved to CNN_survive_score_diff_large_latest.pth\n"
     ]
    },
    {
     "name": "stdout",
     "output_type": "stream",
     "text": [
      "Evaluate with [Position] \t win rate:0.0\n",
      "===========================\n",
      "[Training] epoch: 4000 black: 20 white: 26\n",
      "Evaluate with [Random] \t win rate:0.805\n"
     ]
    },
    {
     "name": "stderr",
     "output_type": "stream",
     "text": [
      "INFO:Agent:Model saved to CNN_survive_score_diff_large_latest.pth\n"
     ]
    },
    {
     "name": "stdout",
     "output_type": "stream",
     "text": [
      "Evaluate with [Position] \t win rate:1.0\n",
      "===========================\n",
      "[Training] epoch: 4010 black: 20 white: 27\n",
      "Evaluate with [Random] \t win rate:0.775\n"
     ]
    },
    {
     "name": "stderr",
     "output_type": "stream",
     "text": [
      "INFO:Agent:Model saved to CNN_survive_score_diff_large_latest.pth\n"
     ]
    },
    {
     "name": "stdout",
     "output_type": "stream",
     "text": [
      "Evaluate with [Position] \t win rate:1.0\n",
      "===========================\n",
      "[Training] epoch: 4020 black: 25 white: 25\n",
      "Evaluate with [Random] \t win rate:0.745\n"
     ]
    },
    {
     "name": "stderr",
     "output_type": "stream",
     "text": [
      "INFO:Agent:Model saved to CNN_survive_score_diff_large_latest.pth\n"
     ]
    },
    {
     "name": "stdout",
     "output_type": "stream",
     "text": [
      "Evaluate with [Position] \t win rate:0.0\n",
      "===========================\n",
      "[Training] epoch: 4030 black: 23 white: 23\n",
      "Evaluate with [Random] \t win rate:0.73\n"
     ]
    },
    {
     "name": "stderr",
     "output_type": "stream",
     "text": [
      "INFO:Agent:Model saved to CNN_survive_score_diff_large_latest.pth\n"
     ]
    },
    {
     "name": "stdout",
     "output_type": "stream",
     "text": [
      "Evaluate with [Position] \t win rate:0.0\n",
      "===========================\n",
      "[Training] epoch: 4040 black: 21 white: 27\n",
      "Evaluate with [Random] \t win rate:0.72\n",
      "Evaluate with [Position] \t win rate:1.0\n"
     ]
    },
    {
     "name": "stderr",
     "output_type": "stream",
     "text": [
      "INFO:Agent:Model saved to CNN_survive_score_diff_large_latest.pth\n"
     ]
    },
    {
     "name": "stdout",
     "output_type": "stream",
     "text": [
      "===========================\n",
      "[Training] epoch: 4050 black: 26 white: 21\n"
     ]
    },
    {
     "name": "stderr",
     "output_type": "stream",
     "text": [
      "INFO:Agent:Model saved to CNN_survive_score_diff_large_latest.pth\n"
     ]
    },
    {
     "name": "stdout",
     "output_type": "stream",
     "text": [
      "Evaluate with [Random] \t win rate:0.78\n",
      "Evaluate with [Position] \t win rate:1.0\n",
      "===========================\n",
      "[Training] epoch: 4060 black: 25 white: 23\n",
      "Evaluate with [Random] \t win rate:0.735\n"
     ]
    },
    {
     "name": "stderr",
     "output_type": "stream",
     "text": [
      "INFO:Agent:Model saved to CNN_survive_score_diff_large_latest.pth\n"
     ]
    },
    {
     "name": "stdout",
     "output_type": "stream",
     "text": [
      "Evaluate with [Position] \t win rate:1.0\n",
      "===========================\n",
      "[Training] epoch: 4070 black: 24 white: 23\n",
      "Evaluate with [Random] \t win rate:0.685\n"
     ]
    },
    {
     "name": "stderr",
     "output_type": "stream",
     "text": [
      "INFO:Agent:Model saved to CNN_survive_score_diff_large_latest.pth\n"
     ]
    },
    {
     "name": "stdout",
     "output_type": "stream",
     "text": [
      "Evaluate with [Position] \t win rate:0.0\n",
      "===========================\n",
      "[Training] epoch: 4080 black: 22 white: 25\n",
      "Evaluate with [Random] \t win rate:0.76\n"
     ]
    },
    {
     "name": "stderr",
     "output_type": "stream",
     "text": [
      "INFO:Agent:Model saved to CNN_survive_score_diff_large_latest.pth\n"
     ]
    },
    {
     "name": "stdout",
     "output_type": "stream",
     "text": [
      "Evaluate with [Position] \t win rate:0.0\n",
      "===========================\n",
      "[Training] epoch: 4090 black: 24 white: 26\n",
      "Evaluate with [Random] \t win rate:0.745\n"
     ]
    },
    {
     "name": "stderr",
     "output_type": "stream",
     "text": [
      "INFO:Agent:Model saved to CNN_survive_score_diff_large_latest.pth\n"
     ]
    },
    {
     "name": "stdout",
     "output_type": "stream",
     "text": [
      "Evaluate with [Position] \t win rate:0.0\n",
      "===========================\n",
      "[Training] epoch: 4100 black: 23 white: 22\n",
      "Evaluate with [Random] \t win rate:0.775\n"
     ]
    },
    {
     "name": "stderr",
     "output_type": "stream",
     "text": [
      "INFO:Agent:Model saved to CNN_survive_score_diff_large_latest.pth\n"
     ]
    },
    {
     "name": "stdout",
     "output_type": "stream",
     "text": [
      "Evaluate with [Position] \t win rate:0.0\n",
      "===========================\n",
      "[Training] epoch: 4110 black: 28 white: 18\n",
      "Evaluate with [Random] \t win rate:0.81\n"
     ]
    },
    {
     "name": "stderr",
     "output_type": "stream",
     "text": [
      "INFO:Agent:Model saved to CNN_survive_score_diff_large_latest.pth\n"
     ]
    },
    {
     "name": "stdout",
     "output_type": "stream",
     "text": [
      "Evaluate with [Position] \t win rate:0.0\n",
      "===========================\n",
      "[Training] epoch: 4120 black: 19 white: 29\n",
      "Evaluate with [Random] \t win rate:0.745\n"
     ]
    },
    {
     "name": "stderr",
     "output_type": "stream",
     "text": [
      "INFO:Agent:Model saved to CNN_survive_score_diff_large_latest.pth\n"
     ]
    },
    {
     "name": "stdout",
     "output_type": "stream",
     "text": [
      "Evaluate with [Position] \t win rate:0.0\n",
      "===========================\n",
      "[Training] epoch: 4130 black: 23 white: 24\n",
      "Evaluate with [Random] \t win rate:0.755\n",
      "Evaluate with [Position] \t win rate:0.0\n"
     ]
    },
    {
     "name": "stderr",
     "output_type": "stream",
     "text": [
      "INFO:Agent:Model saved to CNN_survive_score_diff_large_latest.pth\n"
     ]
    },
    {
     "name": "stdout",
     "output_type": "stream",
     "text": [
      "===========================\n",
      "[Training] epoch: 4140 black: 26 white: 22\n",
      "Evaluate with [Random] \t win rate:0.64\n"
     ]
    },
    {
     "name": "stderr",
     "output_type": "stream",
     "text": [
      "INFO:Agent:Model saved to CNN_survive_score_diff_large_latest.pth\n"
     ]
    },
    {
     "name": "stdout",
     "output_type": "stream",
     "text": [
      "Evaluate with [Position] \t win rate:0.0\n",
      "===========================\n",
      "[Training] epoch: 4150 black: 25 white: 23\n",
      "Evaluate with [Random] \t win rate:0.79\n"
     ]
    },
    {
     "name": "stderr",
     "output_type": "stream",
     "text": [
      "INFO:Agent:Model saved to CNN_survive_score_diff_large_latest.pth\n"
     ]
    },
    {
     "name": "stdout",
     "output_type": "stream",
     "text": [
      "Evaluate with [Position] \t win rate:0.0\n",
      "===========================\n",
      "[Training] epoch: 4160 black: 24 white: 23\n",
      "Evaluate with [Random] \t win rate:0.805\n"
     ]
    },
    {
     "name": "stderr",
     "output_type": "stream",
     "text": [
      "INFO:Agent:Model saved to CNN_survive_score_diff_large_latest.pth\n"
     ]
    },
    {
     "name": "stdout",
     "output_type": "stream",
     "text": [
      "Evaluate with [Position] \t win rate:1.0\n",
      "===========================\n",
      "[Training] epoch: 4170 black: 20 white: 28\n",
      "Evaluate with [Random] \t win rate:0.81\n"
     ]
    },
    {
     "name": "stderr",
     "output_type": "stream",
     "text": [
      "INFO:Agent:Model saved to CNN_survive_score_diff_large_latest.pth\n"
     ]
    },
    {
     "name": "stdout",
     "output_type": "stream",
     "text": [
      "Evaluate with [Position] \t win rate:0.0\n",
      "===========================\n",
      "[Training] epoch: 4180 black: 18 white: 24\n",
      "Evaluate with [Random] \t win rate:0.725\n",
      "Evaluate with [Position] \t win rate:1.0\n"
     ]
    },
    {
     "name": "stderr",
     "output_type": "stream",
     "text": [
      "INFO:Agent:Model saved to CNN_survive_score_diff_large_latest.pth\n"
     ]
    },
    {
     "name": "stdout",
     "output_type": "stream",
     "text": [
      "===========================\n",
      "[Training] epoch: 4190 black: 21 white: 28\n",
      "Evaluate with [Random] \t win rate:0.775\n"
     ]
    },
    {
     "name": "stderr",
     "output_type": "stream",
     "text": [
      "INFO:Agent:Model saved to CNN_survive_score_diff_large_latest.pth\n"
     ]
    },
    {
     "name": "stdout",
     "output_type": "stream",
     "text": [
      "Evaluate with [Position] \t win rate:1.0\n",
      "===========================\n",
      "[Training] epoch: 4200 black: 20 white: 27\n",
      "Evaluate with [Random] \t win rate:0.73\n"
     ]
    },
    {
     "name": "stderr",
     "output_type": "stream",
     "text": [
      "INFO:Agent:Model saved to CNN_survive_score_diff_large_latest.pth\n"
     ]
    },
    {
     "name": "stdout",
     "output_type": "stream",
     "text": [
      "Evaluate with [Position] \t win rate:1.0\n",
      "===========================\n",
      "[Training] epoch: 4210 black: 21 white: 23\n",
      "Evaluate with [Random] \t win rate:0.77\n"
     ]
    },
    {
     "name": "stderr",
     "output_type": "stream",
     "text": [
      "INFO:Agent:Model saved to CNN_survive_score_diff_large_latest.pth\n"
     ]
    },
    {
     "name": "stdout",
     "output_type": "stream",
     "text": [
      "Evaluate with [Position] \t win rate:0.0\n",
      "===========================\n",
      "[Training] epoch: 4220 black: 18 white: 31\n",
      "Evaluate with [Random] \t win rate:0.705\n"
     ]
    },
    {
     "name": "stderr",
     "output_type": "stream",
     "text": [
      "INFO:Agent:Model saved to CNN_survive_score_diff_large_latest.pth\n"
     ]
    },
    {
     "name": "stdout",
     "output_type": "stream",
     "text": [
      "Evaluate with [Position] \t win rate:0.0\n",
      "===========================\n",
      "[Training] epoch: 4230 black: 19 white: 25\n",
      "Evaluate with [Random] \t win rate:0.71\n"
     ]
    },
    {
     "name": "stderr",
     "output_type": "stream",
     "text": [
      "INFO:Agent:Model saved to CNN_survive_score_diff_large_latest.pth\n"
     ]
    },
    {
     "name": "stdout",
     "output_type": "stream",
     "text": [
      "Evaluate with [Position] \t win rate:0.0\n",
      "===========================\n",
      "[Training] epoch: 4240 black: 23 white: 25\n",
      "Evaluate with [Random] \t win rate:0.715\n"
     ]
    },
    {
     "name": "stderr",
     "output_type": "stream",
     "text": [
      "INFO:Agent:Model saved to CNN_survive_score_diff_large_latest.pth\n"
     ]
    },
    {
     "name": "stdout",
     "output_type": "stream",
     "text": [
      "Evaluate with [Position] \t win rate:0.0\n",
      "===========================\n",
      "[Training] epoch: 4250 black: 25 white: 24\n",
      "Evaluate with [Random] \t win rate:0.715\n"
     ]
    },
    {
     "name": "stderr",
     "output_type": "stream",
     "text": [
      "INFO:Agent:Model saved to CNN_survive_score_diff_large_latest.pth\n"
     ]
    },
    {
     "name": "stdout",
     "output_type": "stream",
     "text": [
      "Evaluate with [Position] \t win rate:1.0\n",
      "===========================\n",
      "[Training] epoch: 4260 black: 19 white: 29\n",
      "Evaluate with [Random] \t win rate:0.815\n"
     ]
    },
    {
     "name": "stderr",
     "output_type": "stream",
     "text": [
      "INFO:Agent:Model saved to CNN_survive_score_diff_large_latest.pth\n"
     ]
    },
    {
     "name": "stdout",
     "output_type": "stream",
     "text": [
      "Evaluate with [Position] \t win rate:0.0\n",
      "===========================\n",
      "[Training] epoch: 4270 black: 18 white: 31\n",
      "Evaluate with [Random] \t win rate:0.69\n"
     ]
    },
    {
     "name": "stderr",
     "output_type": "stream",
     "text": [
      "INFO:Agent:Model saved to CNN_survive_score_diff_large_latest.pth\n"
     ]
    },
    {
     "name": "stdout",
     "output_type": "stream",
     "text": [
      "Evaluate with [Position] \t win rate:1.0\n",
      "===========================\n",
      "[Training] epoch: 4280 black: 24 white: 25\n",
      "Evaluate with [Random] \t win rate:0.78\n"
     ]
    },
    {
     "name": "stderr",
     "output_type": "stream",
     "text": [
      "INFO:Agent:Model saved to CNN_survive_score_diff_large_latest.pth\n"
     ]
    },
    {
     "name": "stdout",
     "output_type": "stream",
     "text": [
      "Evaluate with [Position] \t win rate:0.0\n",
      "===========================\n",
      "[Training] epoch: 4290 black: 27 white: 23\n",
      "Evaluate with [Random] \t win rate:0.72\n"
     ]
    },
    {
     "name": "stderr",
     "output_type": "stream",
     "text": [
      "INFO:Agent:Model saved to CNN_survive_score_diff_large_latest.pth\n"
     ]
    },
    {
     "name": "stdout",
     "output_type": "stream",
     "text": [
      "Evaluate with [Position] \t win rate:0.0\n",
      "===========================\n",
      "[Training] epoch: 4300 black: 17 white: 30\n",
      "Evaluate with [Random] \t win rate:0.735\n"
     ]
    },
    {
     "name": "stderr",
     "output_type": "stream",
     "text": [
      "INFO:Agent:Model saved to CNN_survive_score_diff_large_latest.pth\n"
     ]
    },
    {
     "name": "stdout",
     "output_type": "stream",
     "text": [
      "Evaluate with [Position] \t win rate:0.0\n",
      "===========================\n",
      "[Training] epoch: 4310 black: 25 white: 22\n",
      "Evaluate with [Random] \t win rate:0.775\n"
     ]
    },
    {
     "name": "stderr",
     "output_type": "stream",
     "text": [
      "INFO:Agent:Model saved to CNN_survive_score_diff_large_latest.pth\n"
     ]
    },
    {
     "name": "stdout",
     "output_type": "stream",
     "text": [
      "Evaluate with [Position] \t win rate:1.0\n",
      "===========================\n",
      "[Training] epoch: 4320 black: 28 white: 21\n",
      "Evaluate with [Random] \t win rate:0.75\n"
     ]
    },
    {
     "name": "stderr",
     "output_type": "stream",
     "text": [
      "INFO:Agent:Model saved to CNN_survive_score_diff_large_latest.pth\n"
     ]
    },
    {
     "name": "stdout",
     "output_type": "stream",
     "text": [
      "Evaluate with [Position] \t win rate:0.0\n",
      "===========================\n",
      "[Training] epoch: 4330 black: 24 white: 22\n",
      "Evaluate with [Random] \t win rate:0.735\n"
     ]
    },
    {
     "name": "stderr",
     "output_type": "stream",
     "text": [
      "INFO:Agent:Model saved to CNN_survive_score_diff_large_latest.pth\n"
     ]
    },
    {
     "name": "stdout",
     "output_type": "stream",
     "text": [
      "Evaluate with [Position] \t win rate:0.0\n",
      "===========================\n",
      "[Training] epoch: 4340 black: 19 white: 27\n",
      "Evaluate with [Random] \t win rate:0.69\n"
     ]
    },
    {
     "name": "stderr",
     "output_type": "stream",
     "text": [
      "INFO:Agent:Model saved to CNN_survive_score_diff_large_latest.pth\n"
     ]
    },
    {
     "name": "stdout",
     "output_type": "stream",
     "text": [
      "Evaluate with [Position] \t win rate:0.0\n",
      "===========================\n",
      "[Training] epoch: 4350 black: 20 white: 26\n",
      "Evaluate with [Random] \t win rate:0.72\n"
     ]
    },
    {
     "name": "stderr",
     "output_type": "stream",
     "text": [
      "INFO:Agent:Model saved to CNN_survive_score_diff_large_latest.pth\n"
     ]
    },
    {
     "name": "stdout",
     "output_type": "stream",
     "text": [
      "Evaluate with [Position] \t win rate:0.0\n",
      "===========================\n",
      "[Training] epoch: 4360 black: 24 white: 23\n",
      "Evaluate with [Random] \t win rate:0.735\n"
     ]
    },
    {
     "name": "stderr",
     "output_type": "stream",
     "text": [
      "INFO:Agent:Model saved to CNN_survive_score_diff_large_latest.pth\n"
     ]
    },
    {
     "name": "stdout",
     "output_type": "stream",
     "text": [
      "Evaluate with [Position] \t win rate:0.0\n",
      "===========================\n",
      "[Training] epoch: 4370 black: 24 white: 23\n",
      "Evaluate with [Random] \t win rate:0.815\n"
     ]
    },
    {
     "name": "stderr",
     "output_type": "stream",
     "text": [
      "INFO:Agent:Model saved to CNN_survive_score_diff_large_latest.pth\n"
     ]
    },
    {
     "name": "stdout",
     "output_type": "stream",
     "text": [
      "Evaluate with [Position] \t win rate:0.0\n",
      "===========================\n",
      "[Training] epoch: 4380 black: 22 white: 24\n",
      "Evaluate with [Random] \t win rate:0.73\n"
     ]
    },
    {
     "name": "stderr",
     "output_type": "stream",
     "text": [
      "INFO:Agent:Model saved to CNN_survive_score_diff_large_latest.pth\n"
     ]
    },
    {
     "name": "stdout",
     "output_type": "stream",
     "text": [
      "Evaluate with [Position] \t win rate:1.0\n",
      "===========================\n",
      "[Training] epoch: 4390 black: 19 white: 29\n",
      "Evaluate with [Random] \t win rate:0.755\n"
     ]
    },
    {
     "name": "stderr",
     "output_type": "stream",
     "text": [
      "INFO:Agent:Model saved to CNN_survive_score_diff_large_latest.pth\n"
     ]
    },
    {
     "name": "stdout",
     "output_type": "stream",
     "text": [
      "Evaluate with [Position] \t win rate:0.0\n",
      "===========================\n",
      "[Training] epoch: 4400 black: 27 white: 21\n",
      "Evaluate with [Random] \t win rate:0.765\n"
     ]
    },
    {
     "name": "stderr",
     "output_type": "stream",
     "text": [
      "INFO:Agent:Model saved to CNN_survive_score_diff_large_latest.pth\n"
     ]
    },
    {
     "name": "stdout",
     "output_type": "stream",
     "text": [
      "Evaluate with [Position] \t win rate:1.0\n",
      "===========================\n",
      "[Training] epoch: 4410 black: 21 white: 27\n",
      "Evaluate with [Random] \t win rate:0.77\n"
     ]
    },
    {
     "name": "stderr",
     "output_type": "stream",
     "text": [
      "INFO:Agent:Model saved to CNN_survive_score_diff_large_latest.pth\n"
     ]
    },
    {
     "name": "stdout",
     "output_type": "stream",
     "text": [
      "Evaluate with [Position] \t win rate:0.0\n",
      "===========================\n",
      "[Training] epoch: 4420 black: 15 white: 30\n",
      "Evaluate with [Random] \t win rate:0.72\n",
      "Evaluate with [Position] \t win rate:1.0\n"
     ]
    },
    {
     "name": "stderr",
     "output_type": "stream",
     "text": [
      "INFO:Agent:Model saved to CNN_survive_score_diff_large_latest.pth\n"
     ]
    },
    {
     "name": "stdout",
     "output_type": "stream",
     "text": [
      "===========================\n",
      "[Training] epoch: 4430 black: 18 white: 30\n",
      "Evaluate with [Random] \t win rate:0.71\n"
     ]
    },
    {
     "name": "stderr",
     "output_type": "stream",
     "text": [
      "INFO:Agent:Model saved to CNN_survive_score_diff_large_latest.pth\n"
     ]
    },
    {
     "name": "stdout",
     "output_type": "stream",
     "text": [
      "Evaluate with [Position] \t win rate:0.0\n",
      "===========================\n",
      "[Training] epoch: 4440 black: 25 white: 24\n",
      "Evaluate with [Random] \t win rate:0.79\n"
     ]
    },
    {
     "name": "stderr",
     "output_type": "stream",
     "text": [
      "INFO:Agent:Model saved to CNN_survive_score_diff_large_latest.pth\n"
     ]
    },
    {
     "name": "stdout",
     "output_type": "stream",
     "text": [
      "Evaluate with [Position] \t win rate:0.0\n",
      "===========================\n",
      "[Training] epoch: 4450 black: 17 white: 32\n",
      "Evaluate with [Random] \t win rate:0.77\n"
     ]
    },
    {
     "name": "stderr",
     "output_type": "stream",
     "text": [
      "INFO:Agent:Model saved to CNN_survive_score_diff_large_latest.pth\n"
     ]
    },
    {
     "name": "stdout",
     "output_type": "stream",
     "text": [
      "Evaluate with [Position] \t win rate:1.0\n",
      "===========================\n",
      "[Training] epoch: 4460 black: 20 white: 26\n",
      "Evaluate with [Random] \t win rate:0.8\n"
     ]
    },
    {
     "name": "stderr",
     "output_type": "stream",
     "text": [
      "INFO:Agent:Model saved to CNN_survive_score_diff_large_latest.pth\n"
     ]
    },
    {
     "name": "stdout",
     "output_type": "stream",
     "text": [
      "Evaluate with [Position] \t win rate:1.0\n",
      "===========================\n",
      "[Training] epoch: 4470 black: 29 white: 21\n",
      "Evaluate with [Random] \t win rate:0.745\n"
     ]
    },
    {
     "name": "stderr",
     "output_type": "stream",
     "text": [
      "INFO:Agent:Model saved to CNN_survive_score_diff_large_latest.pth\n"
     ]
    },
    {
     "name": "stdout",
     "output_type": "stream",
     "text": [
      "Evaluate with [Position] \t win rate:1.0\n",
      "===========================\n",
      "[Training] epoch: 4480 black: 23 white: 26\n",
      "Evaluate with [Random] \t win rate:0.74\n"
     ]
    },
    {
     "name": "stderr",
     "output_type": "stream",
     "text": [
      "INFO:Agent:Model saved to CNN_survive_score_diff_large_latest.pth\n"
     ]
    },
    {
     "name": "stdout",
     "output_type": "stream",
     "text": [
      "Evaluate with [Position] \t win rate:1.0\n",
      "===========================\n",
      "[Training] epoch: 4490 black: 26 white: 21\n",
      "Evaluate with [Random] \t win rate:0.79\n"
     ]
    },
    {
     "name": "stderr",
     "output_type": "stream",
     "text": [
      "INFO:Agent:Model saved to CNN_survive_score_diff_large_latest.pth\n"
     ]
    },
    {
     "name": "stdout",
     "output_type": "stream",
     "text": [
      "Evaluate with [Position] \t win rate:0.0\n",
      "===========================\n",
      "[Training] epoch: 4500 black: 21 white: 24\n",
      "Evaluate with [Random] \t win rate:0.735\n"
     ]
    },
    {
     "name": "stderr",
     "output_type": "stream",
     "text": [
      "INFO:Agent:Model saved to CNN_survive_score_diff_large_latest.pth\n"
     ]
    },
    {
     "name": "stdout",
     "output_type": "stream",
     "text": [
      "Evaluate with [Position] \t win rate:0.0\n",
      "===========================\n",
      "[Training] epoch: 4510 black: 21 white: 26\n",
      "Evaluate with [Random] \t win rate:0.795\n"
     ]
    },
    {
     "name": "stderr",
     "output_type": "stream",
     "text": [
      "INFO:Agent:Model saved to CNN_survive_score_diff_large_latest.pth\n"
     ]
    },
    {
     "name": "stdout",
     "output_type": "stream",
     "text": [
      "Evaluate with [Position] \t win rate:0.0\n",
      "===========================\n",
      "[Training] epoch: 4520 black: 14 white: 32\n",
      "Evaluate with [Random] \t win rate:0.72\n"
     ]
    },
    {
     "name": "stderr",
     "output_type": "stream",
     "text": [
      "INFO:Agent:Model saved to CNN_survive_score_diff_large_latest.pth\n"
     ]
    },
    {
     "name": "stdout",
     "output_type": "stream",
     "text": [
      "Evaluate with [Position] \t win rate:0.0\n",
      "===========================\n",
      "[Training] epoch: 4530 black: 23 white: 23\n",
      "Evaluate with [Random] \t win rate:0.72\n"
     ]
    },
    {
     "name": "stderr",
     "output_type": "stream",
     "text": [
      "INFO:Agent:Model saved to CNN_survive_score_diff_large_latest.pth\n"
     ]
    },
    {
     "name": "stdout",
     "output_type": "stream",
     "text": [
      "Evaluate with [Position] \t win rate:1.0\n",
      "===========================\n",
      "[Training] epoch: 4540 black: 24 white: 24\n",
      "Evaluate with [Random] \t win rate:0.675\n"
     ]
    },
    {
     "name": "stderr",
     "output_type": "stream",
     "text": [
      "INFO:Agent:Model saved to CNN_survive_score_diff_large_latest.pth\n"
     ]
    },
    {
     "name": "stdout",
     "output_type": "stream",
     "text": [
      "Evaluate with [Position] \t win rate:1.0\n",
      "===========================\n",
      "[Training] epoch: 4550 black: 24 white: 26\n",
      "Evaluate with [Random] \t win rate:0.725\n"
     ]
    },
    {
     "name": "stderr",
     "output_type": "stream",
     "text": [
      "INFO:Agent:Model saved to CNN_survive_score_diff_large_latest.pth\n"
     ]
    },
    {
     "name": "stdout",
     "output_type": "stream",
     "text": [
      "Evaluate with [Position] \t win rate:0.0\n",
      "===========================\n",
      "[Training] epoch: 4560 black: 20 white: 26\n",
      "Evaluate with [Random] \t win rate:0.705\n"
     ]
    },
    {
     "name": "stderr",
     "output_type": "stream",
     "text": [
      "INFO:Agent:Model saved to CNN_survive_score_diff_large_latest.pth\n"
     ]
    },
    {
     "name": "stdout",
     "output_type": "stream",
     "text": [
      "Evaluate with [Position] \t win rate:1.0\n",
      "===========================\n",
      "[Training] epoch: 4570 black: 17 white: 30\n",
      "Evaluate with [Random] \t win rate:0.805\n"
     ]
    },
    {
     "name": "stderr",
     "output_type": "stream",
     "text": [
      "INFO:Agent:Model saved to CNN_survive_score_diff_large_latest.pth\n"
     ]
    },
    {
     "name": "stdout",
     "output_type": "stream",
     "text": [
      "Evaluate with [Position] \t win rate:1.0\n",
      "===========================\n",
      "[Training] epoch: 4580 black: 18 white: 29\n",
      "Evaluate with [Random] \t win rate:0.73\n"
     ]
    },
    {
     "name": "stderr",
     "output_type": "stream",
     "text": [
      "INFO:Agent:Model saved to CNN_survive_score_diff_large_latest.pth\n"
     ]
    },
    {
     "name": "stdout",
     "output_type": "stream",
     "text": [
      "Evaluate with [Position] \t win rate:0.0\n",
      "===========================\n",
      "[Training] epoch: 4590 black: 16 white: 30\n",
      "Evaluate with [Random] \t win rate:0.74\n"
     ]
    },
    {
     "name": "stderr",
     "output_type": "stream",
     "text": [
      "INFO:Agent:Model saved to CNN_survive_score_diff_large_latest.pth\n"
     ]
    },
    {
     "name": "stdout",
     "output_type": "stream",
     "text": [
      "Evaluate with [Position] \t win rate:0.0\n",
      "===========================\n",
      "[Training] epoch: 4600 black: 24 white: 22\n",
      "Evaluate with [Random] \t win rate:0.785\n"
     ]
    },
    {
     "name": "stderr",
     "output_type": "stream",
     "text": [
      "INFO:Agent:Model saved to CNN_survive_score_diff_large_latest.pth\n"
     ]
    },
    {
     "name": "stdout",
     "output_type": "stream",
     "text": [
      "Evaluate with [Position] \t win rate:0.0\n",
      "===========================\n",
      "[Training] epoch: 4610 black: 23 white: 25\n",
      "Evaluate with [Random] \t win rate:0.77\n"
     ]
    },
    {
     "name": "stderr",
     "output_type": "stream",
     "text": [
      "INFO:Agent:Model saved to CNN_survive_score_diff_large_latest.pth\n"
     ]
    },
    {
     "name": "stdout",
     "output_type": "stream",
     "text": [
      "Evaluate with [Position] \t win rate:0.0\n",
      "===========================\n",
      "[Training] epoch: 4620 black: 25 white: 19\n",
      "Evaluate with [Random] \t win rate:0.715\n"
     ]
    },
    {
     "name": "stderr",
     "output_type": "stream",
     "text": [
      "INFO:Agent:Model saved to CNN_survive_score_diff_large_latest.pth\n"
     ]
    },
    {
     "name": "stdout",
     "output_type": "stream",
     "text": [
      "Evaluate with [Position] \t win rate:0.0\n",
      "===========================\n",
      "[Training] epoch: 4630 black: 18 white: 28\n",
      "Evaluate with [Random] \t win rate:0.82\n",
      "Evaluate with [Position] \t win rate:1.0\n"
     ]
    },
    {
     "name": "stderr",
     "output_type": "stream",
     "text": [
      "INFO:Agent:Model saved to CNN_survive_score_diff_large_latest.pth\n"
     ]
    },
    {
     "name": "stdout",
     "output_type": "stream",
     "text": [
      "===========================\n",
      "[Training] epoch: 4640 black: 24 white: 23\n",
      "Evaluate with [Random] \t win rate:0.785\n"
     ]
    },
    {
     "name": "stderr",
     "output_type": "stream",
     "text": [
      "INFO:Agent:Model saved to CNN_survive_score_diff_large_latest.pth\n"
     ]
    },
    {
     "name": "stdout",
     "output_type": "stream",
     "text": [
      "Evaluate with [Position] \t win rate:1.0\n",
      "===========================\n",
      "[Training] epoch: 4650 black: 26 white: 22\n",
      "Evaluate with [Random] \t win rate:0.74\n"
     ]
    },
    {
     "name": "stderr",
     "output_type": "stream",
     "text": [
      "INFO:Agent:Model saved to CNN_survive_score_diff_large_latest.pth\n"
     ]
    },
    {
     "name": "stdout",
     "output_type": "stream",
     "text": [
      "Evaluate with [Position] \t win rate:1.0\n",
      "===========================\n",
      "[Training] epoch: 4660 black: 21 white: 28\n",
      "Evaluate with [Random] \t win rate:0.75\n"
     ]
    },
    {
     "name": "stderr",
     "output_type": "stream",
     "text": [
      "INFO:Agent:Model saved to CNN_survive_score_diff_large_latest.pth\n"
     ]
    },
    {
     "name": "stdout",
     "output_type": "stream",
     "text": [
      "Evaluate with [Position] \t win rate:1.0\n",
      "===========================\n",
      "[Training] epoch: 4670 black: 19 white: 28\n",
      "Evaluate with [Random] \t win rate:0.75\n"
     ]
    },
    {
     "name": "stderr",
     "output_type": "stream",
     "text": [
      "INFO:Agent:Model saved to CNN_survive_score_diff_large_latest.pth\n"
     ]
    },
    {
     "name": "stdout",
     "output_type": "stream",
     "text": [
      "Evaluate with [Position] \t win rate:0.0\n",
      "===========================\n",
      "[Training] epoch: 4680 black: 22 white: 25\n",
      "Evaluate with [Random] \t win rate:0.745\n"
     ]
    },
    {
     "name": "stderr",
     "output_type": "stream",
     "text": [
      "INFO:Agent:Model saved to CNN_survive_score_diff_large_latest.pth\n"
     ]
    },
    {
     "name": "stdout",
     "output_type": "stream",
     "text": [
      "Evaluate with [Position] \t win rate:0.0\n",
      "===========================\n",
      "[Training] epoch: 4690 black: 20 white: 26\n",
      "Evaluate with [Random] \t win rate:0.76\n"
     ]
    },
    {
     "name": "stderr",
     "output_type": "stream",
     "text": [
      "INFO:Agent:Model saved to CNN_survive_score_diff_large_latest.pth\n"
     ]
    },
    {
     "name": "stdout",
     "output_type": "stream",
     "text": [
      "Evaluate with [Position] \t win rate:1.0\n",
      "===========================\n",
      "[Training] epoch: 4700 black: 15 white: 34\n",
      "Evaluate with [Random] \t win rate:0.755\n"
     ]
    },
    {
     "name": "stderr",
     "output_type": "stream",
     "text": [
      "INFO:Agent:Model saved to CNN_survive_score_diff_large_latest.pth\n"
     ]
    },
    {
     "name": "stdout",
     "output_type": "stream",
     "text": [
      "Evaluate with [Position] \t win rate:1.0\n",
      "===========================\n",
      "[Training] epoch: 4710 black: 20 white: 27\n",
      "Evaluate with [Random] \t win rate:0.745\n"
     ]
    },
    {
     "name": "stderr",
     "output_type": "stream",
     "text": [
      "INFO:Agent:Model saved to CNN_survive_score_diff_large_latest.pth\n"
     ]
    },
    {
     "name": "stdout",
     "output_type": "stream",
     "text": [
      "Evaluate with [Position] \t win rate:0.0\n",
      "===========================\n",
      "[Training] epoch: 4720 black: 25 white: 23\n",
      "Evaluate with [Random] \t win rate:0.8\n"
     ]
    },
    {
     "name": "stderr",
     "output_type": "stream",
     "text": [
      "INFO:Agent:Model saved to CNN_survive_score_diff_large_latest.pth\n"
     ]
    },
    {
     "name": "stdout",
     "output_type": "stream",
     "text": [
      "Evaluate with [Position] \t win rate:0.0\n",
      "===========================\n",
      "[Training] epoch: 4730 black: 21 white: 26\n",
      "Evaluate with [Random] \t win rate:0.775\n"
     ]
    },
    {
     "name": "stderr",
     "output_type": "stream",
     "text": [
      "INFO:Agent:Model saved to CNN_survive_score_diff_large_latest.pth\n"
     ]
    },
    {
     "name": "stdout",
     "output_type": "stream",
     "text": [
      "Evaluate with [Position] \t win rate:0.0\n",
      "===========================\n",
      "[Training] epoch: 4740 black: 18 white: 31\n",
      "Evaluate with [Random] \t win rate:0.77\n"
     ]
    },
    {
     "name": "stderr",
     "output_type": "stream",
     "text": [
      "INFO:Agent:Model saved to CNN_survive_score_diff_large_latest.pth\n"
     ]
    },
    {
     "name": "stdout",
     "output_type": "stream",
     "text": [
      "Evaluate with [Position] \t win rate:0.0\n",
      "===========================\n",
      "[Training] epoch: 4750 black: 23 white: 26\n",
      "Evaluate with [Random] \t win rate:0.795\n"
     ]
    },
    {
     "name": "stderr",
     "output_type": "stream",
     "text": [
      "INFO:Agent:Model saved to CNN_survive_score_diff_large_latest.pth\n"
     ]
    },
    {
     "name": "stdout",
     "output_type": "stream",
     "text": [
      "Evaluate with [Position] \t win rate:0.0\n",
      "===========================\n",
      "[Training] epoch: 4760 black: 22 white: 26\n",
      "Evaluate with [Random] \t win rate:0.775\n"
     ]
    },
    {
     "name": "stderr",
     "output_type": "stream",
     "text": [
      "INFO:Agent:Model saved to CNN_survive_score_diff_large_latest.pth\n"
     ]
    },
    {
     "name": "stdout",
     "output_type": "stream",
     "text": [
      "Evaluate with [Position] \t win rate:0.0\n",
      "===========================\n",
      "[Training] epoch: 4770 black: 22 white: 27\n",
      "Evaluate with [Random] \t win rate:0.805\n"
     ]
    },
    {
     "name": "stderr",
     "output_type": "stream",
     "text": [
      "INFO:Agent:Model saved to CNN_survive_score_diff_large_latest.pth\n"
     ]
    },
    {
     "name": "stdout",
     "output_type": "stream",
     "text": [
      "Evaluate with [Position] \t win rate:1.0\n",
      "===========================\n",
      "[Training] epoch: 4780 black: 19 white: 27\n",
      "Evaluate with [Random] \t win rate:0.76\n"
     ]
    },
    {
     "name": "stderr",
     "output_type": "stream",
     "text": [
      "INFO:Agent:Model saved to CNN_survive_score_diff_large_latest.pth\n"
     ]
    },
    {
     "name": "stdout",
     "output_type": "stream",
     "text": [
      "Evaluate with [Position] \t win rate:1.0\n",
      "===========================\n",
      "[Training] epoch: 4790 black: 20 white: 26\n",
      "Evaluate with [Random] \t win rate:0.77\n"
     ]
    },
    {
     "name": "stderr",
     "output_type": "stream",
     "text": [
      "INFO:Agent:Model saved to CNN_survive_score_diff_large_latest.pth\n"
     ]
    },
    {
     "name": "stdout",
     "output_type": "stream",
     "text": [
      "Evaluate with [Position] \t win rate:1.0\n",
      "===========================\n",
      "[Training] epoch: 4800 black: 19 white: 29\n",
      "Evaluate with [Random] \t win rate:0.76\n"
     ]
    },
    {
     "name": "stderr",
     "output_type": "stream",
     "text": [
      "INFO:Agent:Model saved to CNN_survive_score_diff_large_latest.pth\n"
     ]
    },
    {
     "name": "stdout",
     "output_type": "stream",
     "text": [
      "Evaluate with [Position] \t win rate:0.0\n",
      "===========================\n",
      "[Training] epoch: 4810 black: 19 white: 30\n",
      "Evaluate with [Random] \t win rate:0.8\n"
     ]
    },
    {
     "name": "stderr",
     "output_type": "stream",
     "text": [
      "INFO:Agent:Model saved to CNN_survive_score_diff_large_latest.pth\n"
     ]
    },
    {
     "name": "stdout",
     "output_type": "stream",
     "text": [
      "Evaluate with [Position] \t win rate:1.0\n",
      "===========================\n",
      "[Training] epoch: 4820 black: 23 white: 22\n",
      "Evaluate with [Random] \t win rate:0.72\n"
     ]
    },
    {
     "name": "stderr",
     "output_type": "stream",
     "text": [
      "INFO:Agent:Model saved to CNN_survive_score_diff_large_latest.pth\n"
     ]
    },
    {
     "name": "stdout",
     "output_type": "stream",
     "text": [
      "Evaluate with [Position] \t win rate:0.0\n",
      "===========================\n",
      "[Training] epoch: 4830 black: 22 white: 27\n",
      "Evaluate with [Random] \t win rate:0.83\n"
     ]
    },
    {
     "name": "stderr",
     "output_type": "stream",
     "text": [
      "INFO:Agent:Model saved to CNN_survive_score_diff_large_latest.pth\n"
     ]
    },
    {
     "name": "stdout",
     "output_type": "stream",
     "text": [
      "Evaluate with [Position] \t win rate:0.0\n",
      "===========================\n",
      "[Training] epoch: 4840 black: 26 white: 20\n",
      "Evaluate with [Random] \t win rate:0.755\n"
     ]
    },
    {
     "name": "stderr",
     "output_type": "stream",
     "text": [
      "INFO:Agent:Model saved to CNN_survive_score_diff_large_latest.pth\n"
     ]
    },
    {
     "name": "stdout",
     "output_type": "stream",
     "text": [
      "Evaluate with [Position] \t win rate:0.0\n",
      "===========================\n",
      "[Training] epoch: 4850 black: 25 white: 24\n",
      "Evaluate with [Random] \t win rate:0.76\n"
     ]
    },
    {
     "name": "stderr",
     "output_type": "stream",
     "text": [
      "INFO:Agent:Model saved to CNN_survive_score_diff_large_latest.pth\n"
     ]
    },
    {
     "name": "stdout",
     "output_type": "stream",
     "text": [
      "Evaluate with [Position] \t win rate:1.0\n",
      "===========================\n",
      "[Training] epoch: 4860 black: 26 white: 23\n",
      "Evaluate with [Random] \t win rate:0.825\n"
     ]
    },
    {
     "name": "stderr",
     "output_type": "stream",
     "text": [
      "INFO:Agent:Model saved to CNN_survive_score_diff_large_latest.pth\n"
     ]
    },
    {
     "name": "stdout",
     "output_type": "stream",
     "text": [
      "Evaluate with [Position] \t win rate:1.0\n",
      "===========================\n",
      "[Training] epoch: 4870 black: 20 white: 28\n",
      "Evaluate with [Random] \t win rate:0.81\n"
     ]
    },
    {
     "name": "stderr",
     "output_type": "stream",
     "text": [
      "INFO:Agent:Model saved to CNN_survive_score_diff_large_latest.pth\n"
     ]
    },
    {
     "name": "stdout",
     "output_type": "stream",
     "text": [
      "Evaluate with [Position] \t win rate:1.0\n",
      "===========================\n",
      "[Training] epoch: 4880 black: 19 white: 28\n",
      "Evaluate with [Random] \t win rate:0.755\n"
     ]
    },
    {
     "name": "stderr",
     "output_type": "stream",
     "text": [
      "INFO:Agent:Model saved to CNN_survive_score_diff_large_latest.pth\n"
     ]
    },
    {
     "name": "stdout",
     "output_type": "stream",
     "text": [
      "Evaluate with [Position] \t win rate:1.0\n",
      "===========================\n",
      "[Training] epoch: 4890 black: 26 white: 21\n",
      "Evaluate with [Random] \t win rate:0.755\n"
     ]
    },
    {
     "name": "stderr",
     "output_type": "stream",
     "text": [
      "INFO:Agent:Model saved to CNN_survive_score_diff_large_latest.pth\n"
     ]
    },
    {
     "name": "stdout",
     "output_type": "stream",
     "text": [
      "Evaluate with [Position] \t win rate:1.0\n",
      "===========================\n",
      "[Training] epoch: 4900 black: 27 white: 20\n",
      "Evaluate with [Random] \t win rate:0.735\n"
     ]
    },
    {
     "name": "stderr",
     "output_type": "stream",
     "text": [
      "INFO:Agent:Model saved to CNN_survive_score_diff_large_latest.pth\n"
     ]
    },
    {
     "name": "stdout",
     "output_type": "stream",
     "text": [
      "Evaluate with [Position] \t win rate:0.0\n",
      "===========================\n",
      "[Training] epoch: 4910 black: 16 white: 32\n",
      "Evaluate with [Random] \t win rate:0.77\n"
     ]
    },
    {
     "name": "stderr",
     "output_type": "stream",
     "text": [
      "INFO:Agent:Model saved to CNN_survive_score_diff_large_latest.pth\n"
     ]
    },
    {
     "name": "stdout",
     "output_type": "stream",
     "text": [
      "Evaluate with [Position] \t win rate:1.0\n",
      "===========================\n",
      "[Training] epoch: 4920 black: 24 white: 25\n",
      "Evaluate with [Random] \t win rate:0.77\n"
     ]
    },
    {
     "name": "stderr",
     "output_type": "stream",
     "text": [
      "INFO:Agent:Model saved to CNN_survive_score_diff_large_latest.pth\n"
     ]
    },
    {
     "name": "stdout",
     "output_type": "stream",
     "text": [
      "Evaluate with [Position] \t win rate:0.0\n",
      "===========================\n",
      "[Training] epoch: 4930 black: 23 white: 25\n",
      "Evaluate with [Random] \t win rate:0.795\n"
     ]
    },
    {
     "name": "stderr",
     "output_type": "stream",
     "text": [
      "INFO:Agent:Model saved to CNN_survive_score_diff_large_latest.pth\n"
     ]
    },
    {
     "name": "stdout",
     "output_type": "stream",
     "text": [
      "Evaluate with [Position] \t win rate:0.0\n",
      "===========================\n",
      "[Training] epoch: 4940 black: 14 white: 32\n",
      "Evaluate with [Random] \t win rate:0.765\n"
     ]
    },
    {
     "name": "stderr",
     "output_type": "stream",
     "text": [
      "INFO:Agent:Model saved to CNN_survive_score_diff_large_latest.pth\n"
     ]
    },
    {
     "name": "stdout",
     "output_type": "stream",
     "text": [
      "Evaluate with [Position] \t win rate:0.0\n",
      "===========================\n",
      "[Training] epoch: 4950 black: 25 white: 23\n",
      "Evaluate with [Random] \t win rate:0.71\n"
     ]
    },
    {
     "name": "stderr",
     "output_type": "stream",
     "text": [
      "INFO:Agent:Model saved to CNN_survive_score_diff_large_latest.pth\n"
     ]
    },
    {
     "name": "stdout",
     "output_type": "stream",
     "text": [
      "Evaluate with [Position] \t win rate:0.0\n",
      "===========================\n",
      "[Training] epoch: 4960 black: 15 white: 32\n",
      "Evaluate with [Random] \t win rate:0.765\n"
     ]
    },
    {
     "name": "stderr",
     "output_type": "stream",
     "text": [
      "INFO:Agent:Model saved to CNN_survive_score_diff_large_latest.pth\n"
     ]
    },
    {
     "name": "stdout",
     "output_type": "stream",
     "text": [
      "Evaluate with [Position] \t win rate:1.0\n",
      "===========================\n",
      "[Training] epoch: 4970 black: 26 white: 24\n",
      "Evaluate with [Random] \t win rate:0.685\n"
     ]
    },
    {
     "name": "stderr",
     "output_type": "stream",
     "text": [
      "INFO:Agent:Model saved to CNN_survive_score_diff_large_latest.pth\n"
     ]
    },
    {
     "name": "stdout",
     "output_type": "stream",
     "text": [
      "Evaluate with [Position] \t win rate:0.0\n",
      "===========================\n",
      "[Training] epoch: 4980 black: 27 white: 20\n",
      "Evaluate with [Random] \t win rate:0.755\n"
     ]
    },
    {
     "name": "stderr",
     "output_type": "stream",
     "text": [
      "INFO:Agent:Model saved to CNN_survive_score_diff_large_latest.pth\n"
     ]
    },
    {
     "name": "stdout",
     "output_type": "stream",
     "text": [
      "Evaluate with [Position] \t win rate:0.0\n",
      "===========================\n",
      "[Training] epoch: 4990 black: 21 white: 28\n",
      "Evaluate with [Random] \t win rate:0.815\n"
     ]
    },
    {
     "name": "stderr",
     "output_type": "stream",
     "text": [
      "INFO:Agent:Model saved to CNN_survive_score_diff_large_latest.pth\n"
     ]
    },
    {
     "name": "stdout",
     "output_type": "stream",
     "text": [
      "Evaluate with [Position] \t win rate:0.0\n",
      "===========================\n",
      "[Training] epoch: 5000 black: 22 white: 26\n",
      "Evaluate with [Random] \t win rate:0.805\n"
     ]
    },
    {
     "name": "stderr",
     "output_type": "stream",
     "text": [
      "INFO:Agent:Model saved to CNN_survive_score_diff_large_latest.pth\n"
     ]
    },
    {
     "name": "stdout",
     "output_type": "stream",
     "text": [
      "Evaluate with [Position] \t win rate:0.0\n",
      "===========================\n",
      "[Training] epoch: 5010 black: 21 white: 28\n",
      "Evaluate with [Random] \t win rate:0.77\n"
     ]
    },
    {
     "name": "stderr",
     "output_type": "stream",
     "text": [
      "INFO:Agent:Model saved to CNN_survive_score_diff_large_latest.pth\n"
     ]
    },
    {
     "name": "stdout",
     "output_type": "stream",
     "text": [
      "Evaluate with [Position] \t win rate:1.0\n",
      "===========================\n",
      "[Training] epoch: 5020 black: 15 white: 30\n",
      "Evaluate with [Random] \t win rate:0.77\n"
     ]
    },
    {
     "name": "stderr",
     "output_type": "stream",
     "text": [
      "INFO:Agent:Model saved to CNN_survive_score_diff_large_latest.pth\n"
     ]
    },
    {
     "name": "stdout",
     "output_type": "stream",
     "text": [
      "Evaluate with [Position] \t win rate:0.0\n",
      "===========================\n",
      "[Training] epoch: 5030 black: 16 white: 32\n",
      "Evaluate with [Random] \t win rate:0.78\n"
     ]
    },
    {
     "name": "stderr",
     "output_type": "stream",
     "text": [
      "INFO:Agent:Model saved to CNN_survive_score_diff_large_latest.pth\n"
     ]
    },
    {
     "name": "stdout",
     "output_type": "stream",
     "text": [
      "Evaluate with [Position] \t win rate:1.0\n",
      "===========================\n",
      "[Training] epoch: 5040 black: 24 white: 25\n",
      "Evaluate with [Random] \t win rate:0.75\n"
     ]
    },
    {
     "name": "stderr",
     "output_type": "stream",
     "text": [
      "INFO:Agent:Model saved to CNN_survive_score_diff_large_latest.pth\n"
     ]
    },
    {
     "name": "stdout",
     "output_type": "stream",
     "text": [
      "Evaluate with [Position] \t win rate:1.0\n",
      "===========================\n",
      "[Training] epoch: 5050 black: 21 white: 26\n",
      "Evaluate with [Random] \t win rate:0.7\n"
     ]
    },
    {
     "name": "stderr",
     "output_type": "stream",
     "text": [
      "INFO:Agent:Model saved to CNN_survive_score_diff_large_latest.pth\n"
     ]
    },
    {
     "name": "stdout",
     "output_type": "stream",
     "text": [
      "Evaluate with [Position] \t win rate:0.0\n",
      "===========================\n",
      "[Training] epoch: 5060 black: 16 white: 32\n",
      "Evaluate with [Random] \t win rate:0.795\n"
     ]
    },
    {
     "name": "stderr",
     "output_type": "stream",
     "text": [
      "INFO:Agent:Model saved to CNN_survive_score_diff_large_latest.pth\n"
     ]
    },
    {
     "name": "stdout",
     "output_type": "stream",
     "text": [
      "Evaluate with [Position] \t win rate:1.0\n",
      "===========================\n",
      "[Training] epoch: 5070 black: 23 white: 24\n",
      "Evaluate with [Random] \t win rate:0.77\n"
     ]
    },
    {
     "name": "stderr",
     "output_type": "stream",
     "text": [
      "INFO:Agent:Model saved to CNN_survive_score_diff_large_latest.pth\n"
     ]
    },
    {
     "name": "stdout",
     "output_type": "stream",
     "text": [
      "Evaluate with [Position] \t win rate:1.0\n",
      "===========================\n",
      "[Training] epoch: 5080 black: 21 white: 27\n",
      "Evaluate with [Random] \t win rate:0.77\n"
     ]
    },
    {
     "name": "stderr",
     "output_type": "stream",
     "text": [
      "INFO:Agent:Model saved to CNN_survive_score_diff_large_latest.pth\n"
     ]
    },
    {
     "name": "stdout",
     "output_type": "stream",
     "text": [
      "Evaluate with [Position] \t win rate:1.0\n",
      "===========================\n",
      "[Training] epoch: 5090 black: 22 white: 26\n",
      "Evaluate with [Random] \t win rate:0.705\n"
     ]
    },
    {
     "name": "stderr",
     "output_type": "stream",
     "text": [
      "INFO:Agent:Model saved to CNN_survive_score_diff_large_latest.pth\n"
     ]
    },
    {
     "name": "stdout",
     "output_type": "stream",
     "text": [
      "Evaluate with [Position] \t win rate:1.0\n",
      "===========================\n",
      "[Training] epoch: 5100 black: 21 white: 28\n",
      "Evaluate with [Random] \t win rate:0.805\n"
     ]
    },
    {
     "name": "stderr",
     "output_type": "stream",
     "text": [
      "INFO:Agent:Model saved to CNN_survive_score_diff_large_latest.pth\n"
     ]
    },
    {
     "name": "stdout",
     "output_type": "stream",
     "text": [
      "Evaluate with [Position] \t win rate:1.0\n",
      "===========================\n",
      "[Training] epoch: 5110 black: 29 white: 18\n",
      "Evaluate with [Random] \t win rate:0.76\n"
     ]
    },
    {
     "name": "stderr",
     "output_type": "stream",
     "text": [
      "INFO:Agent:Model saved to CNN_survive_score_diff_large_latest.pth\n"
     ]
    },
    {
     "name": "stdout",
     "output_type": "stream",
     "text": [
      "Evaluate with [Position] \t win rate:0.0\n",
      "===========================\n",
      "[Training] epoch: 5120 black: 20 white: 25\n",
      "Evaluate with [Random] \t win rate:0.695\n"
     ]
    },
    {
     "name": "stderr",
     "output_type": "stream",
     "text": [
      "INFO:Agent:Model saved to CNN_survive_score_diff_large_latest.pth\n"
     ]
    },
    {
     "name": "stdout",
     "output_type": "stream",
     "text": [
      "Evaluate with [Position] \t win rate:0.0\n",
      "===========================\n",
      "[Training] epoch: 5130 black: 15 white: 33\n",
      "Evaluate with [Random] \t win rate:0.685\n"
     ]
    },
    {
     "name": "stderr",
     "output_type": "stream",
     "text": [
      "INFO:Agent:Model saved to CNN_survive_score_diff_large_latest.pth\n"
     ]
    },
    {
     "name": "stdout",
     "output_type": "stream",
     "text": [
      "Evaluate with [Position] \t win rate:1.0\n",
      "===========================\n",
      "[Training] epoch: 5140 black: 17 white: 33\n",
      "Evaluate with [Random] \t win rate:0.75\n"
     ]
    },
    {
     "name": "stderr",
     "output_type": "stream",
     "text": [
      "INFO:Agent:Model saved to CNN_survive_score_diff_large_latest.pth\n"
     ]
    },
    {
     "name": "stdout",
     "output_type": "stream",
     "text": [
      "Evaluate with [Position] \t win rate:1.0\n",
      "===========================\n",
      "[Training] epoch: 5150 black: 21 white: 25\n",
      "Evaluate with [Random] \t win rate:0.665\n"
     ]
    },
    {
     "name": "stderr",
     "output_type": "stream",
     "text": [
      "INFO:Agent:Model saved to CNN_survive_score_diff_large_latest.pth\n"
     ]
    },
    {
     "name": "stdout",
     "output_type": "stream",
     "text": [
      "Evaluate with [Position] \t win rate:0.0\n",
      "===========================\n",
      "[Training] epoch: 5160 black: 27 white: 22\n",
      "Evaluate with [Random] \t win rate:0.75\n"
     ]
    },
    {
     "name": "stderr",
     "output_type": "stream",
     "text": [
      "INFO:Agent:Model saved to CNN_survive_score_diff_large_latest.pth\n"
     ]
    },
    {
     "name": "stdout",
     "output_type": "stream",
     "text": [
      "Evaluate with [Position] \t win rate:0.0\n",
      "===========================\n",
      "[Training] epoch: 5170 black: 20 white: 29\n",
      "Evaluate with [Random] \t win rate:0.745\n"
     ]
    },
    {
     "name": "stderr",
     "output_type": "stream",
     "text": [
      "INFO:Agent:Model saved to CNN_survive_score_diff_large_latest.pth\n"
     ]
    },
    {
     "name": "stdout",
     "output_type": "stream",
     "text": [
      "Evaluate with [Position] \t win rate:1.0\n",
      "===========================\n",
      "[Training] epoch: 5180 black: 25 white: 22\n",
      "Evaluate with [Random] \t win rate:0.695\n"
     ]
    },
    {
     "name": "stderr",
     "output_type": "stream",
     "text": [
      "INFO:Agent:Model saved to CNN_survive_score_diff_large_latest.pth\n"
     ]
    },
    {
     "name": "stdout",
     "output_type": "stream",
     "text": [
      "Evaluate with [Position] \t win rate:0.0\n",
      "===========================\n",
      "[Training] epoch: 5190 black: 17 white: 28\n",
      "Evaluate with [Random] \t win rate:0.765\n"
     ]
    },
    {
     "name": "stderr",
     "output_type": "stream",
     "text": [
      "INFO:Agent:Model saved to CNN_survive_score_diff_large_latest.pth\n"
     ]
    },
    {
     "name": "stdout",
     "output_type": "stream",
     "text": [
      "Evaluate with [Position] \t win rate:1.0\n",
      "===========================\n",
      "[Training] epoch: 5200 black: 20 white: 26\n",
      "Evaluate with [Random] \t win rate:0.7\n"
     ]
    },
    {
     "name": "stderr",
     "output_type": "stream",
     "text": [
      "INFO:Agent:Model saved to CNN_survive_score_diff_large_latest.pth\n"
     ]
    },
    {
     "name": "stdout",
     "output_type": "stream",
     "text": [
      "Evaluate with [Position] \t win rate:0.0\n",
      "===========================\n",
      "[Training] epoch: 5210 black: 25 white: 23\n",
      "Evaluate with [Random] \t win rate:0.75\n"
     ]
    },
    {
     "name": "stderr",
     "output_type": "stream",
     "text": [
      "INFO:Agent:Model saved to CNN_survive_score_diff_large_latest.pth\n"
     ]
    },
    {
     "name": "stdout",
     "output_type": "stream",
     "text": [
      "Evaluate with [Position] \t win rate:0.0\n",
      "===========================\n",
      "[Training] epoch: 5220 black: 24 white: 23\n",
      "Evaluate with [Random] \t win rate:0.75\n"
     ]
    },
    {
     "name": "stderr",
     "output_type": "stream",
     "text": [
      "INFO:Agent:Model saved to CNN_survive_score_diff_large_latest.pth\n"
     ]
    },
    {
     "name": "stdout",
     "output_type": "stream",
     "text": [
      "Evaluate with [Position] \t win rate:1.0\n",
      "===========================\n",
      "[Training] epoch: 5230 black: 23 white: 26\n",
      "Evaluate with [Random] \t win rate:0.78\n"
     ]
    },
    {
     "name": "stderr",
     "output_type": "stream",
     "text": [
      "INFO:Agent:Model saved to CNN_survive_score_diff_large_latest.pth\n"
     ]
    },
    {
     "name": "stdout",
     "output_type": "stream",
     "text": [
      "Evaluate with [Position] \t win rate:1.0\n",
      "===========================\n",
      "[Training] epoch: 5240 black: 20 white: 27\n",
      "Evaluate with [Random] \t win rate:0.81\n"
     ]
    },
    {
     "name": "stderr",
     "output_type": "stream",
     "text": [
      "INFO:Agent:Model saved to CNN_survive_score_diff_large_latest.pth\n"
     ]
    },
    {
     "name": "stdout",
     "output_type": "stream",
     "text": [
      "Evaluate with [Position] \t win rate:1.0\n",
      "===========================\n",
      "[Training] epoch: 5250 black: 23 white: 23\n",
      "Evaluate with [Random] \t win rate:0.765\n"
     ]
    },
    {
     "name": "stderr",
     "output_type": "stream",
     "text": [
      "INFO:Agent:Model saved to CNN_survive_score_diff_large_latest.pth\n"
     ]
    },
    {
     "name": "stdout",
     "output_type": "stream",
     "text": [
      "Evaluate with [Position] \t win rate:1.0\n",
      "===========================\n",
      "[Training] epoch: 5260 black: 19 white: 29\n",
      "Evaluate with [Random] \t win rate:0.765\n"
     ]
    },
    {
     "name": "stderr",
     "output_type": "stream",
     "text": [
      "INFO:Agent:Model saved to CNN_survive_score_diff_large_latest.pth\n"
     ]
    },
    {
     "name": "stdout",
     "output_type": "stream",
     "text": [
      "Evaluate with [Position] \t win rate:0.0\n",
      "===========================\n",
      "[Training] epoch: 5270 black: 25 white: 23\n",
      "Evaluate with [Random] \t win rate:0.77\n",
      "Evaluate with [Position] \t win rate:1.0\n"
     ]
    },
    {
     "name": "stderr",
     "output_type": "stream",
     "text": [
      "INFO:Agent:Model saved to CNN_survive_score_diff_large_latest.pth\n"
     ]
    },
    {
     "name": "stdout",
     "output_type": "stream",
     "text": [
      "===========================\n",
      "[Training] epoch: 5280 black: 16 white: 33\n",
      "Evaluate with [Random] \t win rate:0.72\n"
     ]
    },
    {
     "name": "stderr",
     "output_type": "stream",
     "text": [
      "INFO:Agent:Model saved to CNN_survive_score_diff_large_latest.pth\n"
     ]
    },
    {
     "name": "stdout",
     "output_type": "stream",
     "text": [
      "Evaluate with [Position] \t win rate:0.0\n",
      "===========================\n",
      "[Training] epoch: 5290 black: 23 white: 26\n",
      "Evaluate with [Random] \t win rate:0.735\n"
     ]
    },
    {
     "name": "stderr",
     "output_type": "stream",
     "text": [
      "INFO:Agent:Model saved to CNN_survive_score_diff_large_latest.pth\n"
     ]
    },
    {
     "name": "stdout",
     "output_type": "stream",
     "text": [
      "Evaluate with [Position] \t win rate:0.0\n",
      "===========================\n",
      "[Training] epoch: 5300 black: 19 white: 26\n",
      "Evaluate with [Random] \t win rate:0.755\n"
     ]
    },
    {
     "name": "stderr",
     "output_type": "stream",
     "text": [
      "INFO:Agent:Model saved to CNN_survive_score_diff_large_latest.pth\n"
     ]
    },
    {
     "name": "stdout",
     "output_type": "stream",
     "text": [
      "Evaluate with [Position] \t win rate:1.0\n",
      "===========================\n",
      "[Training] epoch: 5310 black: 16 white: 32\n",
      "Evaluate with [Random] \t win rate:0.745\n"
     ]
    },
    {
     "name": "stderr",
     "output_type": "stream",
     "text": [
      "INFO:Agent:Model saved to CNN_survive_score_diff_large_latest.pth\n"
     ]
    },
    {
     "name": "stdout",
     "output_type": "stream",
     "text": [
      "Evaluate with [Position] \t win rate:0.0\n",
      "===========================\n",
      "[Training] epoch: 5320 black: 21 white: 28\n",
      "Evaluate with [Random] \t win rate:0.76\n"
     ]
    },
    {
     "name": "stderr",
     "output_type": "stream",
     "text": [
      "INFO:Agent:Model saved to CNN_survive_score_diff_large_latest.pth\n"
     ]
    },
    {
     "name": "stdout",
     "output_type": "stream",
     "text": [
      "Evaluate with [Position] \t win rate:0.0\n",
      "===========================\n",
      "[Training] epoch: 5330 black: 15 white: 32\n",
      "Evaluate with [Random] \t win rate:0.695\n"
     ]
    },
    {
     "name": "stderr",
     "output_type": "stream",
     "text": [
      "INFO:Agent:Model saved to CNN_survive_score_diff_large_latest.pth\n"
     ]
    },
    {
     "name": "stdout",
     "output_type": "stream",
     "text": [
      "Evaluate with [Position] \t win rate:0.0\n",
      "===========================\n",
      "[Training] epoch: 5340 black: 19 white: 30\n",
      "Evaluate with [Random] \t win rate:0.715\n"
     ]
    },
    {
     "name": "stderr",
     "output_type": "stream",
     "text": [
      "INFO:Agent:Model saved to CNN_survive_score_diff_large_latest.pth\n"
     ]
    },
    {
     "name": "stdout",
     "output_type": "stream",
     "text": [
      "Evaluate with [Position] \t win rate:1.0\n",
      "===========================\n",
      "[Training] epoch: 5350 black: 18 white: 29\n",
      "Evaluate with [Random] \t win rate:0.7\n"
     ]
    },
    {
     "name": "stderr",
     "output_type": "stream",
     "text": [
      "INFO:Agent:Model saved to CNN_survive_score_diff_large_latest.pth\n"
     ]
    },
    {
     "name": "stdout",
     "output_type": "stream",
     "text": [
      "Evaluate with [Position] \t win rate:0.0\n",
      "===========================\n",
      "[Training] epoch: 5360 black: 19 white: 27\n",
      "Evaluate with [Random] \t win rate:0.76\n"
     ]
    },
    {
     "name": "stderr",
     "output_type": "stream",
     "text": [
      "INFO:Agent:Model saved to CNN_survive_score_diff_large_latest.pth\n"
     ]
    },
    {
     "name": "stdout",
     "output_type": "stream",
     "text": [
      "Evaluate with [Position] \t win rate:0.0\n",
      "===========================\n",
      "[Training] epoch: 5370 black: 11 white: 37\n",
      "Evaluate with [Random] \t win rate:0.71\n"
     ]
    },
    {
     "name": "stderr",
     "output_type": "stream",
     "text": [
      "INFO:Agent:Model saved to CNN_survive_score_diff_large_latest.pth\n"
     ]
    },
    {
     "name": "stdout",
     "output_type": "stream",
     "text": [
      "Evaluate with [Position] \t win rate:0.0\n",
      "===========================\n",
      "[Training] epoch: 5380 black: 17 white: 32\n",
      "Evaluate with [Random] \t win rate:0.8\n"
     ]
    },
    {
     "name": "stderr",
     "output_type": "stream",
     "text": [
      "INFO:Agent:Model saved to CNN_survive_score_diff_large_latest.pth\n"
     ]
    },
    {
     "name": "stdout",
     "output_type": "stream",
     "text": [
      "Evaluate with [Position] \t win rate:1.0\n",
      "===========================\n",
      "[Training] epoch: 5390 black: 20 white: 29\n",
      "Evaluate with [Random] \t win rate:0.735\n"
     ]
    },
    {
     "name": "stderr",
     "output_type": "stream",
     "text": [
      "INFO:Agent:Model saved to CNN_survive_score_diff_large_latest.pth\n"
     ]
    },
    {
     "name": "stdout",
     "output_type": "stream",
     "text": [
      "Evaluate with [Position] \t win rate:0.0\n",
      "===========================\n",
      "[Training] epoch: 5400 black: 21 white: 24\n",
      "Evaluate with [Random] \t win rate:0.705\n"
     ]
    },
    {
     "name": "stderr",
     "output_type": "stream",
     "text": [
      "INFO:Agent:Model saved to CNN_survive_score_diff_large_latest.pth\n"
     ]
    },
    {
     "name": "stdout",
     "output_type": "stream",
     "text": [
      "Evaluate with [Position] \t win rate:0.0\n",
      "===========================\n",
      "[Training] epoch: 5410 black: 27 white: 22\n",
      "Evaluate with [Random] \t win rate:0.73\n"
     ]
    },
    {
     "name": "stderr",
     "output_type": "stream",
     "text": [
      "INFO:Agent:Model saved to CNN_survive_score_diff_large_latest.pth\n"
     ]
    },
    {
     "name": "stdout",
     "output_type": "stream",
     "text": [
      "Evaluate with [Position] \t win rate:0.0\n",
      "===========================\n",
      "[Training] epoch: 5420 black: 27 white: 21\n",
      "Evaluate with [Random] \t win rate:0.825\n"
     ]
    },
    {
     "name": "stderr",
     "output_type": "stream",
     "text": [
      "INFO:Agent:Model saved to CNN_survive_score_diff_large_latest.pth\n"
     ]
    },
    {
     "name": "stdout",
     "output_type": "stream",
     "text": [
      "Evaluate with [Position] \t win rate:0.0\n",
      "===========================\n",
      "[Training] epoch: 5430 black: 20 white: 28\n",
      "Evaluate with [Random] \t win rate:0.76\n"
     ]
    },
    {
     "name": "stderr",
     "output_type": "stream",
     "text": [
      "INFO:Agent:Model saved to CNN_survive_score_diff_large_latest.pth\n"
     ]
    },
    {
     "name": "stdout",
     "output_type": "stream",
     "text": [
      "Evaluate with [Position] \t win rate:0.0\n",
      "===========================\n",
      "[Training] epoch: 5440 black: 20 white: 28\n",
      "Evaluate with [Random] \t win rate:0.715\n"
     ]
    },
    {
     "name": "stderr",
     "output_type": "stream",
     "text": [
      "INFO:Agent:Model saved to CNN_survive_score_diff_large_latest.pth\n"
     ]
    },
    {
     "name": "stdout",
     "output_type": "stream",
     "text": [
      "Evaluate with [Position] \t win rate:1.0\n",
      "===========================\n",
      "[Training] epoch: 5450 black: 20 white: 28\n",
      "Evaluate with [Random] \t win rate:0.72\n"
     ]
    },
    {
     "name": "stderr",
     "output_type": "stream",
     "text": [
      "INFO:Agent:Model saved to CNN_survive_score_diff_large_latest.pth\n"
     ]
    },
    {
     "name": "stdout",
     "output_type": "stream",
     "text": [
      "Evaluate with [Position] \t win rate:0.0\n",
      "===========================\n",
      "[Training] epoch: 5460 black: 31 white: 17\n",
      "Evaluate with [Random] \t win rate:0.75\n"
     ]
    },
    {
     "name": "stderr",
     "output_type": "stream",
     "text": [
      "INFO:Agent:Model saved to CNN_survive_score_diff_large_latest.pth\n"
     ]
    },
    {
     "name": "stdout",
     "output_type": "stream",
     "text": [
      "Evaluate with [Position] \t win rate:0.0\n",
      "===========================\n",
      "[Training] epoch: 5470 black: 26 white: 21\n",
      "Evaluate with [Random] \t win rate:0.735\n"
     ]
    },
    {
     "name": "stderr",
     "output_type": "stream",
     "text": [
      "INFO:Agent:Model saved to CNN_survive_score_diff_large_latest.pth\n"
     ]
    },
    {
     "name": "stdout",
     "output_type": "stream",
     "text": [
      "Evaluate with [Position] \t win rate:0.0\n",
      "===========================\n",
      "[Training] epoch: 5480 black: 19 white: 28\n",
      "Evaluate with [Random] \t win rate:0.76\n"
     ]
    },
    {
     "name": "stderr",
     "output_type": "stream",
     "text": [
      "INFO:Agent:Model saved to CNN_survive_score_diff_large_latest.pth\n"
     ]
    },
    {
     "name": "stdout",
     "output_type": "stream",
     "text": [
      "Evaluate with [Position] \t win rate:0.0\n",
      "===========================\n",
      "[Training] epoch: 5490 black: 19 white: 28\n",
      "Evaluate with [Random] \t win rate:0.72\n"
     ]
    },
    {
     "name": "stderr",
     "output_type": "stream",
     "text": [
      "INFO:Agent:Model saved to CNN_survive_score_diff_large_latest.pth\n"
     ]
    },
    {
     "name": "stdout",
     "output_type": "stream",
     "text": [
      "Evaluate with [Position] \t win rate:1.0\n",
      "===========================\n",
      "[Training] epoch: 5500 black: 25 white: 24\n",
      "Evaluate with [Random] \t win rate:0.68\n"
     ]
    },
    {
     "name": "stderr",
     "output_type": "stream",
     "text": [
      "INFO:Agent:Model saved to CNN_survive_score_diff_large_latest.pth\n"
     ]
    },
    {
     "name": "stdout",
     "output_type": "stream",
     "text": [
      "Evaluate with [Position] \t win rate:0.0\n",
      "===========================\n",
      "[Training] epoch: 5510 black: 18 white: 25\n",
      "Evaluate with [Random] \t win rate:0.745\n"
     ]
    },
    {
     "name": "stderr",
     "output_type": "stream",
     "text": [
      "INFO:Agent:Model saved to CNN_survive_score_diff_large_latest.pth\n"
     ]
    },
    {
     "name": "stdout",
     "output_type": "stream",
     "text": [
      "Evaluate with [Position] \t win rate:0.0\n",
      "===========================\n",
      "[Training] epoch: 5520 black: 19 white: 28\n",
      "Evaluate with [Random] \t win rate:0.795\n"
     ]
    },
    {
     "name": "stderr",
     "output_type": "stream",
     "text": [
      "INFO:Agent:Model saved to CNN_survive_score_diff_large_latest.pth\n"
     ]
    },
    {
     "name": "stdout",
     "output_type": "stream",
     "text": [
      "Evaluate with [Position] \t win rate:1.0\n",
      "===========================\n",
      "[Training] epoch: 5530 black: 24 white: 25\n",
      "Evaluate with [Random] \t win rate:0.705\n"
     ]
    },
    {
     "name": "stderr",
     "output_type": "stream",
     "text": [
      "INFO:Agent:Model saved to CNN_survive_score_diff_large_latest.pth\n"
     ]
    },
    {
     "name": "stdout",
     "output_type": "stream",
     "text": [
      "Evaluate with [Position] \t win rate:0.0\n",
      "===========================\n",
      "[Training] epoch: 5540 black: 17 white: 32\n",
      "Evaluate with [Random] \t win rate:0.74\n"
     ]
    },
    {
     "name": "stderr",
     "output_type": "stream",
     "text": [
      "INFO:Agent:Model saved to CNN_survive_score_diff_large_latest.pth\n"
     ]
    },
    {
     "name": "stdout",
     "output_type": "stream",
     "text": [
      "Evaluate with [Position] \t win rate:1.0\n",
      "===========================\n",
      "[Training] epoch: 5550 black: 14 white: 31\n",
      "Evaluate with [Random] \t win rate:0.725\n"
     ]
    },
    {
     "name": "stderr",
     "output_type": "stream",
     "text": [
      "INFO:Agent:Model saved to CNN_survive_score_diff_large_latest.pth\n"
     ]
    },
    {
     "name": "stdout",
     "output_type": "stream",
     "text": [
      "Evaluate with [Position] \t win rate:0.0\n",
      "===========================\n",
      "[Training] epoch: 5560 black: 21 white: 27\n",
      "Evaluate with [Random] \t win rate:0.775\n"
     ]
    },
    {
     "name": "stderr",
     "output_type": "stream",
     "text": [
      "INFO:Agent:Model saved to CNN_survive_score_diff_large_latest.pth\n"
     ]
    },
    {
     "name": "stdout",
     "output_type": "stream",
     "text": [
      "Evaluate with [Position] \t win rate:0.0\n",
      "===========================\n",
      "[Training] epoch: 5570 black: 20 white: 30\n",
      "Evaluate with [Random] \t win rate:0.75\n"
     ]
    },
    {
     "name": "stderr",
     "output_type": "stream",
     "text": [
      "INFO:Agent:Model saved to CNN_survive_score_diff_large_latest.pth\n"
     ]
    },
    {
     "name": "stdout",
     "output_type": "stream",
     "text": [
      "Evaluate with [Position] \t win rate:0.0\n",
      "===========================\n",
      "[Training] epoch: 5580 black: 17 white: 29\n",
      "Evaluate with [Random] \t win rate:0.72\n"
     ]
    },
    {
     "name": "stderr",
     "output_type": "stream",
     "text": [
      "INFO:Agent:Model saved to CNN_survive_score_diff_large_latest.pth\n"
     ]
    },
    {
     "name": "stdout",
     "output_type": "stream",
     "text": [
      "Evaluate with [Position] \t win rate:0.0\n",
      "===========================\n",
      "[Training] epoch: 5590 black: 24 white: 21\n",
      "Evaluate with [Random] \t win rate:0.77\n"
     ]
    },
    {
     "name": "stderr",
     "output_type": "stream",
     "text": [
      "INFO:Agent:Model saved to CNN_survive_score_diff_large_latest.pth\n"
     ]
    },
    {
     "name": "stdout",
     "output_type": "stream",
     "text": [
      "Evaluate with [Position] \t win rate:1.0\n",
      "===========================\n",
      "[Training] epoch: 5600 black: 20 white: 25\n",
      "Evaluate with [Random] \t win rate:0.79\n"
     ]
    },
    {
     "name": "stderr",
     "output_type": "stream",
     "text": [
      "INFO:Agent:Model saved to CNN_survive_score_diff_large_latest.pth\n"
     ]
    },
    {
     "name": "stdout",
     "output_type": "stream",
     "text": [
      "Evaluate with [Position] \t win rate:1.0\n",
      "===========================\n",
      "[Training] epoch: 5610 black: 23 white: 25\n",
      "Evaluate with [Random] \t win rate:0.79\n"
     ]
    },
    {
     "name": "stderr",
     "output_type": "stream",
     "text": [
      "INFO:Agent:Model saved to CNN_survive_score_diff_large_latest.pth\n"
     ]
    },
    {
     "name": "stdout",
     "output_type": "stream",
     "text": [
      "Evaluate with [Position] \t win rate:1.0\n",
      "===========================\n",
      "[Training] epoch: 5620 black: 26 white: 22\n",
      "Evaluate with [Random] \t win rate:0.74\n"
     ]
    },
    {
     "name": "stderr",
     "output_type": "stream",
     "text": [
      "INFO:Agent:Model saved to CNN_survive_score_diff_large_latest.pth\n"
     ]
    },
    {
     "name": "stdout",
     "output_type": "stream",
     "text": [
      "Evaluate with [Position] \t win rate:1.0\n",
      "===========================\n",
      "[Training] epoch: 5630 black: 28 white: 21\n",
      "Evaluate with [Random] \t win rate:0.82\n"
     ]
    },
    {
     "name": "stderr",
     "output_type": "stream",
     "text": [
      "INFO:Agent:Model saved to CNN_survive_score_diff_large_latest.pth\n"
     ]
    },
    {
     "name": "stdout",
     "output_type": "stream",
     "text": [
      "Evaluate with [Position] \t win rate:0.0\n",
      "===========================\n",
      "[Training] epoch: 5640 black: 19 white: 27\n"
     ]
    },
    {
     "ename": "KeyboardInterrupt",
     "evalue": "",
     "output_type": "error",
     "traceback": [
      "\u001b[1;31m---------------------------------------------------------------------------\u001b[0m",
      "\u001b[1;31mKeyboardInterrupt\u001b[0m                         Traceback (most recent call last)",
      "Cell \u001b[1;32mIn[3], line 38\u001b[0m\n\u001b[0;32m     36\u001b[0m \u001b[38;5;28mprint\u001b[39m(\u001b[38;5;124mf\u001b[39m\u001b[38;5;124m'\u001b[39m\u001b[38;5;124m[Training] epoch: \u001b[39m\u001b[38;5;132;01m{\u001b[39;00mepoch\u001b[38;5;132;01m}\u001b[39;00m\u001b[38;5;124m black: \u001b[39m\u001b[38;5;132;01m{\u001b[39;00m\u001b[38;5;28msum\u001b[39m(winner\u001b[38;5;250m \u001b[39m\u001b[38;5;241m==\u001b[39m\u001b[38;5;250m \u001b[39m\u001b[38;5;241m-\u001b[39m\u001b[38;5;241m1\u001b[39m)\u001b[38;5;132;01m}\u001b[39;00m\u001b[38;5;124m white: \u001b[39m\u001b[38;5;132;01m{\u001b[39;00m\u001b[38;5;28msum\u001b[39m(winner\u001b[38;5;250m \u001b[39m\u001b[38;5;241m==\u001b[39m\u001b[38;5;250m \u001b[39m\u001b[38;5;241m1\u001b[39m)\u001b[38;5;132;01m}\u001b[39;00m\u001b[38;5;124m'\u001b[39m)\n\u001b[0;32m     37\u001b[0m agent_white\u001b[38;5;241m.\u001b[39mset_eps(\u001b[38;5;241m0\u001b[39m) \u001b[38;5;66;03m# for only exploitation\u001b[39;00m\n\u001b[1;32m---> 38\u001b[0m max_win_rate \u001b[38;5;241m=\u001b[39m \u001b[43meval_agent\u001b[49m\u001b[43m(\u001b[49m\u001b[43magent_white\u001b[49m\u001b[43m,\u001b[49m\u001b[43mepoch\u001b[49m\u001b[43m,\u001b[49m\u001b[43mwriter\u001b[49m\u001b[43m,\u001b[49m\u001b[43mexp_name\u001b[49m\u001b[43m,\u001b[49m\u001b[43mmax_win_rate\u001b[49m\u001b[43m)\u001b[49m\n\u001b[0;32m     39\u001b[0m writer\u001b[38;5;241m.\u001b[39madd_scalar(\u001b[38;5;124m'\u001b[39m\u001b[38;5;124maverage_reward\u001b[39m\u001b[38;5;124m'\u001b[39m,agent_white\u001b[38;5;241m.\u001b[39mmemory\u001b[38;5;241m.\u001b[39mrewards\u001b[38;5;241m.\u001b[39mnumpy()\u001b[38;5;241m.\u001b[39mmean(),epoch)\n",
      "Cell \u001b[1;32mIn[2], line 80\u001b[0m, in \u001b[0;36meval_agent\u001b[1;34m(agent_white, epoch, writer, model_name, max_win_rate)\u001b[0m\n\u001b[0;32m     78\u001b[0m env \u001b[38;5;241m=\u001b[39m Othello_vec(env_nums\u001b[38;5;241m=\u001b[39m\u001b[38;5;241m200\u001b[39m)\n\u001b[0;32m     79\u001b[0m agent_eval \u001b[38;5;241m=\u001b[39m RandomAgent()\n\u001b[1;32m---> 80\u001b[0m _,winner \u001b[38;5;241m=\u001b[39m \u001b[43mplay\u001b[49m\u001b[43m(\u001b[49m\u001b[43magent_eval\u001b[49m\u001b[43m,\u001b[49m\u001b[43magent_white\u001b[49m\u001b[43m,\u001b[49m\u001b[43menv\u001b[49m\u001b[43m,\u001b[49m\u001b[43mepoch\u001b[49m\u001b[43m \u001b[49m\u001b[38;5;241;43m=\u001b[39;49m\u001b[43m \u001b[49m\u001b[43mepoch\u001b[49m\u001b[43m)\u001b[49m\n\u001b[0;32m     81\u001b[0m random_win_rate \u001b[38;5;241m=\u001b[39m \u001b[38;5;28msum\u001b[39m(winner \u001b[38;5;241m==\u001b[39m \u001b[38;5;241m1\u001b[39m)\u001b[38;5;241m/\u001b[39m\u001b[38;5;28mlen\u001b[39m(winner)\n\u001b[0;32m     82\u001b[0m \u001b[38;5;28mprint\u001b[39m(\u001b[38;5;124mf\u001b[39m\u001b[38;5;124m'\u001b[39m\u001b[38;5;124mEvaluate with [Random] \u001b[39m\u001b[38;5;130;01m\\t\u001b[39;00m\u001b[38;5;124m win rate:\u001b[39m\u001b[38;5;132;01m{\u001b[39;00mrandom_win_rate\u001b[38;5;132;01m}\u001b[39;00m\u001b[38;5;124m'\u001b[39m)\n",
      "Cell \u001b[1;32mIn[2], line 25\u001b[0m, in \u001b[0;36mplay\u001b[1;34m(agent_black, agent_white, env, epoch)\u001b[0m\n\u001b[0;32m     22\u001b[0m cumu_reward \u001b[38;5;241m=\u001b[39m \u001b[38;5;241m0\u001b[39m \u001b[38;5;66;03m# evaluate時計算所有env平均reward\u001b[39;00m\n\u001b[0;32m     24\u001b[0m \u001b[38;5;28;01mwhile\u001b[39;00m \u001b[38;5;129;01mnot\u001b[39;00m done\u001b[38;5;241m.\u001b[39mall():\n\u001b[1;32m---> 25\u001b[0m     legal_act \u001b[38;5;241m=\u001b[39m \u001b[43menv\u001b[49m\u001b[38;5;241;43m.\u001b[39;49m\u001b[43mget_legal_move\u001b[49m\u001b[43m(\u001b[49m\u001b[43m)\u001b[49m \u001b[38;5;66;03m# 取得所有環境可以落子的位置 (env_num,action_size)，dytpe:Bool\u001b[39;00m\n\u001b[0;32m     26\u001b[0m     player \u001b[38;5;241m=\u001b[39m env\u001b[38;5;241m.\u001b[39mget_player() \u001b[38;5;66;03m# 目前輪到落子的player \u001b[39;00m\n\u001b[0;32m     28\u001b[0m     \u001b[38;5;66;03m# 該輪落子的環境編號，如果該輪不能下則存在skip_idx\u001b[39;00m\n",
      "File \u001b[1;32mF:\\Code\\Othello_Final\\Game.py:184\u001b[0m, in \u001b[0;36mOthello_vec.get_legal_move\u001b[1;34m(self, color)\u001b[0m\n\u001b[0;32m    181\u001b[0m             \u001b[38;5;28;01mif\u001b[39;00m \u001b[38;5;28mself\u001b[39m\u001b[38;5;241m.\u001b[39mis_in_board(r, c) \u001b[38;5;129;01mand\u001b[39;00m \u001b[38;5;28mself\u001b[39m\u001b[38;5;241m.\u001b[39mboard[i][r][c] \u001b[38;5;241m==\u001b[39m color[i] \u001b[38;5;129;01mand\u001b[39;00m flag:\n\u001b[0;32m    182\u001b[0m                  legal_move[p[\u001b[38;5;241m0\u001b[39m],p[\u001b[38;5;241m1\u001b[39m]] \u001b[38;5;241m=\u001b[39m \u001b[38;5;28;01mTrue\u001b[39;00m\n\u001b[1;32m--> 184\u001b[0m     legal_moves[i] \u001b[38;5;241m=\u001b[39m \u001b[43mlegal_move\u001b[49m\u001b[38;5;241;43m.\u001b[39;49m\u001b[43mflatten\u001b[49m\u001b[43m(\u001b[49m\u001b[43m)\u001b[49m\n\u001b[0;32m    185\u001b[0m \u001b[38;5;28;01mreturn\u001b[39;00m legal_moves\n",
      "\u001b[1;31mKeyboardInterrupt\u001b[0m: "
     ]
    }
   ],
   "source": [
    "exp_name = 'CNN_survive_large'\n",
    "\n",
    "logging.basicConfig(filename=f'{exp_name}.log', encoding='utf-8', level=logging.INFO)\n",
    "log_dir = f'logs/{exp_name}'\n",
    "if not os.path.exists(log_dir):\n",
    "    os.mkdir(log_dir)\n",
    "else:\n",
    "    for root,_,files in os.walk(log_dir):\n",
    "        for f in files:\n",
    "            if '.ipynb_checkpoints' not in f:\n",
    "                os.remove(os.path.join(root,f))\n",
    "                \n",
    "writer = SummaryWriter(log_dir)\n",
    "writer.add_text(\"Experiment Info\",exp_name)\n",
    "\n",
    "# use same agent for self play\n",
    "agent_black = DDQNAgent(eps=0.2,net_type='CNN') \n",
    "# agent_black.load('./model/CNN_pos+corner_latest-Copy3.pth')\n",
    "agent_white = agent_black\n",
    "\n",
    "epochs = 10000\n",
    "eval_freq = 10\n",
    "env = Othello_vec(env_nums=50)\n",
    "max_win_rate = 0\n",
    "\n",
    "for epoch in range(epochs):\n",
    "    agent_black.set_eps(0.1 + (epochs-epoch)*0.2/epochs)\n",
    "    agent_white.set_eps(0.1 + (epochs-epoch)*0.2/epochs)\n",
    "    done,winner = play(agent_black,agent_white,env)\n",
    "    black,white,round = env.get_info()\n",
    "    \n",
    "    # Evaluation \n",
    "    if epoch%eval_freq == 0:\n",
    "        print(f'[Training] epoch: {epoch} black: {sum(winner == -1)} white: {sum(winner == 1)}')\n",
    "        agent_white.set_eps(0) # for only exploitation\n",
    "        max_win_rate = eval_agent(agent_white,epoch,writer,exp_name,max_win_rate)\n",
    "        writer.add_scalar('average_reward',agent_white.memory.rewards.numpy().mean(),epoch)\n",
    "        "
   ]
  }
 ],
 "metadata": {
  "kernelspec": {
   "display_name": "Python 3 (ipykernel)",
   "language": "python",
   "name": "python3"
  },
  "language_info": {
   "codemirror_mode": {
    "name": "ipython",
    "version": 3
   },
   "file_extension": ".py",
   "mimetype": "text/x-python",
   "name": "python",
   "nbconvert_exporter": "python",
   "pygments_lexer": "ipython3",
   "version": "3.9.18"
  }
 },
 "nbformat": 4,
 "nbformat_minor": 5
}
